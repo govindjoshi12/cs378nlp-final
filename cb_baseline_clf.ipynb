{
 "cells": [
  {
   "cell_type": "code",
   "execution_count": 4,
   "metadata": {},
   "outputs": [],
   "source": [
    "import pandas as pd\n",
    "import numpy as np\n",
    "from util.utilities import (\n",
    "    temperature_scaled_mixing, \n",
    "    get_dataset,\n",
    "    get_clf_data,\n",
    "    one_hot_encode,\n",
    "    explode_onehot_df,\n",
    "    onehot_label_counts,\n",
    "    split_mix_set,\n",
    "    duplicates_1,\n",
    "    duplicates_2,\n",
    "    word_replace_dict,\n",
    "    bad_labels,\n",
    "    contact_labels\n",
    ")\n",
    "from tqdm import tqdm\n",
    "from sklearn.preprocessing import MultiLabelBinarizer\n",
    "from sklearn.model_selection import train_test_split\n",
    "from sklearn.metrics import hamming_loss, classification_report\n",
    "\n",
    "from torch.utils.data import Dataset, DataLoader, TensorDataset\n",
    "from torch import nn\n",
    "from transformers import (\n",
    "    DistilBertModel, \n",
    "    PreTrainedTokenizer, \n",
    "    DistilBertTokenizerFast\n",
    ")\n",
    "import torch\n",
    "import pprint\n",
    "\n",
    "from torch import cuda\n",
    "device = 'cuda' if cuda.is_available() else 'cpu'\n",
    "\n",
    "pd.set_option('display.max_columns', 20)\n",
    "pd.set_option('display.width', 1000)\n",
    "pd.set_option('display.max_colwidth', None)"
   ]
  },
  {
   "attachments": {},
   "cell_type": "markdown",
   "metadata": {},
   "source": [
    "#### Focusing soley on Team Check-In and ID Documents Data\n",
    "Removing all intervention data with preprocessing done in cb_exploration"
   ]
  },
  {
   "cell_type": "code",
   "execution_count": 5,
   "metadata": {},
   "outputs": [
    {
     "name": "stdout",
     "output_type": "stream",
     "text": [
      "--- LOADING DATA... ---\n"
     ]
    },
    {
     "name": "stderr",
     "output_type": "stream",
     "text": [
      "d:\\cs\\dacc\\dacc-experimentation\\notebooks\\util\\utilities.py:31: DtypeWarning: Columns (7) have mixed types. Specify dtype option on import or set low_memory=False.\n",
      "  df = pd.read_csv(strs[name], **args)\n"
     ]
    },
    {
     "name": "stdout",
     "output_type": "stream",
     "text": [
      "Total initial entries: 108804\n",
      "Total initial notes: 64385\n",
      "- Removed irrelevant columns for checkbox classification, kept: Index(['NOTEID', 'NOTE', 'DESCRIPTION', 'GROUPNAME'], dtype='object')\n",
      "- Dropped empty notes\n",
      "- Dropped interventions checkboxes\n",
      "- Consolidated duplicate labels using the provided mappings.\n",
      "{'Direct Contact': ['Client contact in office', 'Direct Contact through Outreach', 'Client contact', 'Client Contact out of office'], 'Attempted client contact': ['Attempted client contact through Outreach', 'Attempt to locate client'], 'Client Assessment Conducted': ['New Client assessment completed'], 'Coordinated Assessment Completed at DACC': ['Coordinated Assessment Completed through HOST contact']}\n",
      "- Dropped entries containing the provided labels\n",
      "Total labels: 17\n",
      "Total entries after preprocessing: 77274\n",
      "Total notes after preprocessing: 64062\n",
      "--- FINISHED LOADING DATA. ---\n",
      "['No Show' 'Collateral Contact' 'Direct Contact' 'Client Texas State ID'\n",
      " 'Attempted client contact' 'Treatment Plan completed and signed'\n",
      " 'Client Assessment Conducted' 'HMIS profile created/updated'\n",
      " 'Client Birth certificate' 'Coordinated Assessment Completed at DACC'\n",
      " 'Coordinated Assessment Scheduled at DACC' 'Legal Issues'\n",
      " 'HMIS Release of Information - Agreed' 'Client DPS report'\n",
      " 'Release of information forms signed for all appropriate vendors and agencies'\n",
      " 'Client assigned DACC CSR'\n",
      " 'Client declined to sign release of information']\n"
     ]
    },
    {
     "data": {
      "text/html": [
       "<div>\n",
       "<style scoped>\n",
       "    .dataframe tbody tr th:only-of-type {\n",
       "        vertical-align: middle;\n",
       "    }\n",
       "\n",
       "    .dataframe tbody tr th {\n",
       "        vertical-align: top;\n",
       "    }\n",
       "\n",
       "    .dataframe thead th {\n",
       "        text-align: right;\n",
       "    }\n",
       "</style>\n",
       "<table border=\"1\" class=\"dataframe\">\n",
       "  <thead>\n",
       "    <tr style=\"text-align: right;\">\n",
       "      <th></th>\n",
       "      <th>NOTEID</th>\n",
       "      <th>NOTE</th>\n",
       "      <th>DESCRIPTION</th>\n",
       "    </tr>\n",
       "  </thead>\n",
       "  <tbody>\n",
       "    <tr>\n",
       "      <th>0</th>\n",
       "      <td>1485559</td>\n",
       "      <td>CL did not show up for appointment to complete CA.</td>\n",
       "      <td>No Show</td>\n",
       "    </tr>\n",
       "  </tbody>\n",
       "</table>\n",
       "</div>"
      ],
      "text/plain": [
       "    NOTEID                                                 NOTE DESCRIPTION\n",
       "0  1485559  CL did not show up for appointment to complete CA.      No Show"
      ]
     },
     "execution_count": 5,
     "metadata": {},
     "output_type": "execute_result"
    }
   ],
   "source": [
    "df1 = get_clf_data(duplicate_labels_dict=duplicates_1, labels_to_ignore=bad_labels)\n",
    "print(df1[\"DESCRIPTION\"].unique())\n",
    "df1.head(1)"
   ]
  },
  {
   "attachments": {},
   "cell_type": "markdown",
   "metadata": {},
   "source": [
    "#### Upsampling Heuristic \n",
    "- There is a problem I have to deal with here... How to properly handle upsampling with a multi-label dataset? \n",
    "- My solution: For upsampling purposes, weight each data point as if its only label was the one with the lowest number of occurences in the whole dataset\n",
    "  - Ex. if a note had labels [\"Direct Contact\", \"HMIS Profile Created/Updated\"], then it is weighted based on \"HMIS...\" "
   ]
  },
  {
   "cell_type": "code",
   "execution_count": 6,
   "metadata": {},
   "outputs": [],
   "source": [
    "def min_descriptions(df: pd.DataFrame, label_col, min_label_col, duplicate_id_col):\n",
    "    # For each row, add a column that contains the number of times the checkbox for that row was checked.\n",
    "    # Ex. Note: ..., Description: No Show, FREQ: 1893 \n",
    "    df[\"FREQ\"] = df.groupby(label_col)[label_col].transform('count')\n",
    "\n",
    "    # For each note, the description column now contains the label from the note's labelset\n",
    "    # that is checked the least amount of times across the dataset.\n",
    "    min_label = df.sort_values(\"FREQ\").drop_duplicates(duplicate_id_col).set_index(duplicate_id_col)[label_col]\n",
    "\n",
    "    # Merge back to entire dataset\n",
    "    df = df.set_index(duplicate_id_col).merge(min_label.rename(min_label_col), left_index=True, right_index=True)\n",
    "\n",
    "    return df.reset_index(drop=False)"
   ]
  },
  {
   "cell_type": "code",
   "execution_count": 7,
   "metadata": {},
   "outputs": [
    {
     "data": {
      "text/html": [
       "<div>\n",
       "<style scoped>\n",
       "    .dataframe tbody tr th:only-of-type {\n",
       "        vertical-align: middle;\n",
       "    }\n",
       "\n",
       "    .dataframe tbody tr th {\n",
       "        vertical-align: top;\n",
       "    }\n",
       "\n",
       "    .dataframe thead th {\n",
       "        text-align: right;\n",
       "    }\n",
       "</style>\n",
       "<table border=\"1\" class=\"dataframe\">\n",
       "  <thead>\n",
       "    <tr style=\"text-align: right;\">\n",
       "      <th></th>\n",
       "      <th>NOTEID</th>\n",
       "      <th>NOTE</th>\n",
       "      <th>DESCRIPTION</th>\n",
       "      <th>FREQ</th>\n",
       "      <th>MIN_DESC</th>\n",
       "      <th>LABELS</th>\n",
       "    </tr>\n",
       "  </thead>\n",
       "  <tbody>\n",
       "  </tbody>\n",
       "</table>\n",
       "</div>"
      ],
      "text/plain": [
       "Empty DataFrame\n",
       "Columns: [NOTEID, NOTE, DESCRIPTION, FREQ, MIN_DESC, LABELS]\n",
       "Index: []"
      ]
     },
     "execution_count": 7,
     "metadata": {},
     "output_type": "execute_result"
    }
   ],
   "source": [
    "df1 = min_descriptions(df1, \"DESCRIPTION\", \"MIN_DESC\", \"NOTEID\")\n",
    "oh_df1, classes = one_hot_encode(df=df1, label_col=\"DESCRIPTION\", new_col=\"LABELS\", duplicate_id_col=\"NOTEID\")\n",
    "\n",
    "oh_df1[oh_df1[\"MIN_DESC\"] == \"Asked client to complete a DACC Customer survey\"]"
   ]
  },
  {
   "cell_type": "code",
   "execution_count": 8,
   "metadata": {},
   "outputs": [
    {
     "name": "stdout",
     "output_type": "stream",
     "text": [
      "17\n",
      "17\n"
     ]
    }
   ],
   "source": [
    "# onehot_df_freq[\"MIN_DESC\"].value_counts()\n",
    "\n",
    "# It's possible that a label that occurs few times in the dataset never fits the bill of occuring the *fewest*\n",
    "# number of times because it always occurs with another checkbox that occurs fewer times in the dataset.\n",
    "\n",
    "print(len(classes))\n",
    "print(len(oh_df1[\"MIN_DESC\"].unique()))"
   ]
  },
  {
   "attachments": {},
   "cell_type": "markdown",
   "metadata": {},
   "source": [
    "#### The DistilBert Model\n",
    "The huggingface page for DistilBert links to the following tutorial on multi-label classification which I use as a guide to build my classifier. I am using DistilBert because it preserves over 95% of BERT's performance and runs 60% faster. Due to my hardware limitations, a Distilled model was the best choice. \n",
    "\n",
    "I came back to this model after working on entailment because I had a better understanding of the pipeline. So I rewrote the data loader using the documentation, the following tutorial, as well as the DocNLI git repo as a loose guide.\n",
    "\n",
    "https://colab.research.google.com/github/DhavalTaunk08/Transformers_scripts/blob/master/Transformers_multilabel_distilbert.ipynb"
   ]
  },
  {
   "cell_type": "code",
   "execution_count": 9,
   "metadata": {},
   "outputs": [],
   "source": [
    "class MultiLabelDataset(Dataset):\n",
    "    def __init__(self, tokenizer: PreTrainedTokenizer, df, text_col, label_col, max_len=None):\n",
    "        \"\"\"\n",
    "        if max_len is undefined or None, tokenizer uses predefined model max length\n",
    "        \"\"\"\n",
    "\n",
    "        self.tokenizer = tokenizer\n",
    "        self.df = df\n",
    "        self.max_len = max_len\n",
    "\n",
    "        self.train_data = self.load_data(df[text_col], df[label_col])\n",
    "    \n",
    "    # Num notes\n",
    "    def __len__(self):\n",
    "        return len(self.df.index)\n",
    "\n",
    "    def load_data(self, text_list, labels_list):\n",
    "        token_ids = []\n",
    "        mask_ids = []\n",
    "        labels = []\n",
    "\n",
    "        # DistilBert doesn't take token_type_ids as input. \n",
    "        # Sequences should just be separated using the special tokens\n",
    "\n",
    "        # longest_first truncates token by token, from longest sequence in pair\n",
    "        # or only_first, truncates only from first seq. in pair\n",
    "        # Doesn't matter here, but matters later for entailment\n",
    "        for text, label in tqdm(zip(text_list, labels_list)):\n",
    "            inputs = self.tokenizer(\n",
    "                text=text,\n",
    "                add_special_tokens=True,\n",
    "                padding=\"max_length\",\n",
    "                truncation=\"longest_first\",\n",
    "                max_length=self.max_len,\n",
    "                return_token_type_ids=False, \n",
    "                return_attention_mask=True,\n",
    "                return_tensors=\"pt\"\n",
    "            )\n",
    "\n",
    "            ids = inputs[\"input_ids\"]\n",
    "            mask = inputs[\"attention_mask\"]\n",
    "\n",
    "            token_ids.append(ids)\n",
    "            mask_ids.append(mask)\n",
    "            labels.append(label)\n",
    "        \n",
    "        token_ids = torch.cat(token_ids)\n",
    "        mask_ids = torch.cat(mask_ids)\n",
    "        labels = torch.FloatTensor(np.array(labels))\n",
    "        \n",
    "        dataset = TensorDataset(token_ids, mask_ids, labels)\n",
    "\n",
    "        # print(\"Dataset Length: \", len(dataset))\n",
    "        return dataset\n",
    "\n",
    "    def get_data_loader(self, batch_size=4, shuffle=True):\n",
    "        data_loader = DataLoader(\n",
    "            self.train_data,\n",
    "            shuffle=shuffle,\n",
    "            batch_size=batch_size\n",
    "        )\n",
    "\n",
    "        return data_loader\n",
    "            "
   ]
  },
  {
   "attachments": {},
   "cell_type": "markdown",
   "metadata": {},
   "source": [
    "#### DistilBert For Classification\n",
    "DistilBert with a classification head. This can be used for my entailment problem as well, just with a different dataloader"
   ]
  },
  {
   "cell_type": "code",
   "execution_count": 10,
   "metadata": {},
   "outputs": [],
   "source": [
    "default_distilbert_dim = 768\n",
    "distilbert_dropout = 0.1\n",
    "\n",
    "class DistilBertForClassification(nn.Module):\n",
    "\n",
    "    def __init__(self, num_classes):\n",
    "        super(DistilBertForClassification, self).__init__()\n",
    "        self.db = DistilBertModel.from_pretrained('distilbert-base-uncased')\n",
    "\n",
    "        self.dense_layer = nn.Linear(default_distilbert_dim, default_distilbert_dim)\n",
    "        self.dropout = nn.Dropout(distilbert_dropout)\n",
    "        self.non_lin = nn.Tanh()\n",
    "        self.classifier = nn.Linear(default_distilbert_dim, num_classes)\n",
    "    \n",
    "    def forward(self, input_ids, input_mask):\n",
    "        db_output = self.db(input_ids=input_ids, attention_mask=input_mask)\n",
    "\n",
    "        # DistilBert outputs a tuple where the first element is the hidden states\n",
    "        # at the output of the model's last layer. It's of size:\n",
    "        # batch_size, seq_len, hidden_size=768\n",
    "        hidden_states = db_output[0]\n",
    "\n",
    "        # Now we want the encoding of the [CLS] token. If you input a sequence \n",
    "        # of n words, the output will be a sequence of n tensors. Every sequence\n",
    "        # begins with the [CLS] so we just need the first tensor. So we \"pool\"\n",
    "        # the model by taking the hidden state corresponding to the first tensor.\n",
    "        cls_tensor = hidden_states[:, 0]\n",
    "\n",
    "        output = self.dense_layer(cls_tensor)\n",
    "        output = self.non_lin(output)\n",
    "        output = self.dropout(output)\n",
    "\n",
    "        result = self.classifier(output)\n",
    "        return result\n"
   ]
  },
  {
   "attachments": {},
   "cell_type": "markdown",
   "metadata": {},
   "source": [
    "#### Classification Class which handles data loading and training"
   ]
  },
  {
   "cell_type": "code",
   "execution_count": 11,
   "metadata": {},
   "outputs": [],
   "source": [
    "class DistilBertMLClassifier():\n",
    "\n",
    "    def __init__(self, text_col, label_col, label_names, train_data, test_data,\n",
    "                 max_len=128, train_batch_size=4, valid_batch_size=4, \n",
    "                 epochs=1, learning_rate=1e-05, tokenizer=None):\n",
    "\n",
    "        self.max_len = max_len\n",
    "        self.train_batch_size = train_batch_size\n",
    "        self.valid_batch_size = valid_batch_size\n",
    "        self.epochs = epochs\n",
    "        self.learning_rate = learning_rate\n",
    "        self.tokenizer = tokenizer\n",
    "        \n",
    "        if not tokenizer:\n",
    "            self.tokenizer = DistilBertTokenizerFast.from_pretrained('distilbert-base-uncased', truncation=True, do_lower_case=True)\n",
    "                    \n",
    "        # Creating the dataset and dataloader\n",
    "        # The data loader chunks the data into smaller batches for the NN since you can't\n",
    "        # feed all the data at the same time into the network\n",
    "\n",
    "        print(\"TRAIN Dataset: {}\".format(train_data.shape))\n",
    "        print(\"TEST Dataset: {}\".format(test_data.shape))\n",
    "\n",
    "        self.training_set = MultiLabelDataset(tokenizer=self.tokenizer, df=train_data, \n",
    "                                         text_col=text_col, label_col=label_col, \n",
    "                                         max_len=self.max_len)\n",
    "        self.testing_set = MultiLabelDataset(tokenizer=self.tokenizer, df=test_data, \n",
    "                                        text_col=text_col, label_col=label_col, \n",
    "                                        max_len=self.max_len)\n",
    "        \n",
    "        self.training_loader = self.training_set.get_data_loader(batch_size=train_batch_size)\n",
    "        self.testing_loader = self.testing_set.get_data_loader(batch_size=valid_batch_size)\n",
    "\n",
    "        self.label_names = label_names\n",
    "\n",
    "        self.model = DistilBertForClassification(len(label_names))\n",
    "        self.model.to(device)\n",
    "\n",
    "        # The reason I'm using BCE Loss is because we are doing Multi-Label CLF\n",
    "        # in which one example can have multiple gold labels. Thus, we want to \n",
    "        # assign a sigmoid that maps the encodings to a probability for EACH class,\n",
    "        # rather than a softmax which produces a probability distribution over the labels.\n",
    "\n",
    "        self.optimizer = torch.optim.Adam(params=self.model.parameters(), lr=learning_rate)\n",
    "    \n",
    "    def loss_function(self, outputs, targets):\n",
    "        return nn.BCEWithLogitsLoss()(outputs, targets)\n",
    "    \n",
    "    def train(self):\n",
    "        model = self.model\n",
    "        training_loader = self.training_loader\n",
    "        optimizer = self.optimizer\n",
    "\n",
    "        model.train()\n",
    "        for epoch in range(self.epochs):\n",
    "            \n",
    "            for batch_idx, (input_ids, input_mask, labels) in tqdm(enumerate(training_loader)):\n",
    "                \n",
    "                optimizer.zero_grad()\n",
    "\n",
    "                input_ids = input_ids.to(device)\n",
    "                input_mask = input_mask.to(device)\n",
    "                labels = labels.to(device)\n",
    "\n",
    "                outputs = model(input_ids, input_mask)\n",
    "                loss = self.loss_function(outputs, labels.float())\n",
    "\n",
    "                # Print loss every 5000 examples\n",
    "                if batch_idx % 5000 == 0:\n",
    "                    print(\"Epoch: %d, Loss: %f\" % (epoch, loss.item()))\n",
    "                \n",
    "                loss.backward()\n",
    "                optimizer.step()\n",
    "    \n",
    "    def test_model(self, test_set, return_predictions=False):\n",
    "        model = self.model\n",
    "        testing_loader = test_set\n",
    "\n",
    "        final_targets = []\n",
    "        final_outputs = []\n",
    "\n",
    "        model.eval()\n",
    "        with torch.no_grad():\n",
    "            for batch_idx, (input_ids, input_mask, labels) in tqdm(enumerate(testing_loader)):\n",
    "                \n",
    "                input_ids = input_ids.to(device)\n",
    "                input_mask = input_mask.to(device)\n",
    "\n",
    "                outputs = model(input_ids, input_mask)\n",
    "\n",
    "                curr_targets = labels.numpy().tolist()\n",
    "                curr_outputs = torch.sigmoid(outputs).cpu().detach().numpy().tolist()\n",
    "        \n",
    "                final_targets.extend(curr_targets)\n",
    "                final_outputs.extend(curr_outputs)\n",
    "        \n",
    "        if return_predictions:\n",
    "            # A probability above .5 signifies that the label belongs to the note\n",
    "            final_outputs = np.array(final_outputs) >= 0.5\n",
    "\n",
    "        return final_outputs, final_targets\n",
    "\n",
    "    def validation_report(self, outputs, targets):\n",
    "        hamm_loss = hamming_loss(targets, outputs)\n",
    "\n",
    "        print(\"Hamming Loss: %f\" % hamm_loss)\n",
    "\n",
    "        clf_report = classification_report(targets, outputs, target_names=self.label_names, zero_division=0, output_dict=True)\n",
    "        clf_report = pd.DataFrame(clf_report).transpose()\n",
    "\n",
    "        display(clf_report)\n",
    "\n",
    "    def validate(self):\n",
    "        final_outputs, final_targets = self.test_model(self.testing_loader, return_predictions=True)\n",
    "        self.validation_report(final_outputs, final_targets)\n",
    "\n",
    "    def __str__(self):\n",
    "        return \"Hyperparams:\\n max_tokens_per_example: %d\\n train_batch_size: %d\\n valid_batch_size: %d\\n epochs: %d\\n learning rate: %f\\n train_size: %d\\n test_size: %d\\n\" % (\n",
    "            self.max_len,\n",
    "            self.train_batch_size,\n",
    "            self.valid_batch_size,\n",
    "            self.epochs,\n",
    "            self.learning_rate,\n",
    "            len(self.training_set),\n",
    "            len(self.testing_set)\n",
    "        )"
   ]
  },
  {
   "cell_type": "code",
   "execution_count": 12,
   "metadata": {},
   "outputs": [],
   "source": [
    "# Method for qualitative inspection of classifier results\n",
    "from torch.utils.data import DataLoader\n",
    "\n",
    "def test_classifier(test_data, label_names, clf: DistilBertMLClassifier):\n",
    "    notes = test_data\n",
    "    small_test = MultiLabelDataset(clf.tokenizer, notes, \"NOTE\", \"LABELS\", max_len=clf.max_len)\n",
    "\n",
    "    outputs, targets = clf.test_model(small_test.get_data_loader(), return_predictions=True)\n",
    "\n",
    "    # Prints Validation Results\n",
    "    # clf.validation_report(outputs, targets)\n",
    "\n",
    "    # Print Qualitative Output\n",
    "\n",
    "    res = []\n",
    "    act = []\n",
    "    for i in range(len(outputs)):\n",
    "        f = outputs[i]\n",
    "        a = targets[i]\n",
    "\n",
    "        lst = []\n",
    "        lst2 = []\n",
    "        for j in range(len(f)):\n",
    "            if f[j]: \n",
    "                lst.append(label_names[j])\n",
    "            if a[j]:\n",
    "                lst2.append(label_names[j])\n",
    "        res.append(lst)\n",
    "        act.append(lst2)\n",
    "\n",
    "    notes[\"LABELS\"] = res\n",
    "    notes[\"ACTUALS\"] = act\n",
    "    \n",
    "    return notes"
   ]
  },
  {
   "attachments": {},
   "cell_type": "markdown",
   "metadata": {},
   "source": [
    "#### Data Setup"
   ]
  },
  {
   "cell_type": "code",
   "execution_count": 13,
   "metadata": {},
   "outputs": [
    {
     "data": {
      "text/plain": [
       "Direct Contact                                                                  40439\n",
       "Collateral Contact                                                              24754\n",
       "Attempted client contact                                                         4947\n",
       "No Show                                                                          1893\n",
       "Legal Issues                                                                     1834\n",
       "Client Texas State ID                                                             769\n",
       "Client Birth certificate                                                          687\n",
       "Release of information forms signed for all appropriate vendors and agencies      384\n",
       "HMIS profile created/updated                                                      363\n",
       "Client Assessment Conducted                                                       303\n",
       "Coordinated Assessment Completed at DACC                                          295\n",
       "Coordinated Assessment Scheduled at DACC                                          269\n",
       "Treatment Plan completed and signed                                               129\n",
       "HMIS Release of Information - Agreed                                              101\n",
       "Client DPS report                                                                  80\n",
       "Client assigned DACC CSR                                                           20\n",
       "Client declined to sign release of information                                      7\n",
       "Name: DESCRIPTION, dtype: int64"
      ]
     },
     "execution_count": 13,
     "metadata": {},
     "output_type": "execute_result"
    }
   ],
   "source": [
    "df1[\"DESCRIPTION\"].value_counts()"
   ]
  },
  {
   "cell_type": "code",
   "execution_count": 14,
   "metadata": {},
   "outputs": [
    {
     "data": {
      "text/html": [
       "<div>\n",
       "<style scoped>\n",
       "    .dataframe tbody tr th:only-of-type {\n",
       "        vertical-align: middle;\n",
       "    }\n",
       "\n",
       "    .dataframe tbody tr th {\n",
       "        vertical-align: top;\n",
       "    }\n",
       "\n",
       "    .dataframe thead th {\n",
       "        text-align: right;\n",
       "    }\n",
       "</style>\n",
       "<table border=\"1\" class=\"dataframe\">\n",
       "  <thead>\n",
       "    <tr style=\"text-align: right;\">\n",
       "      <th></th>\n",
       "      <th>NOTEID</th>\n",
       "      <th>NOTE</th>\n",
       "      <th>DESCRIPTION</th>\n",
       "      <th>FREQ</th>\n",
       "      <th>MIN_DESC</th>\n",
       "      <th>LABELS</th>\n",
       "    </tr>\n",
       "  </thead>\n",
       "  <tbody>\n",
       "    <tr>\n",
       "      <th>0</th>\n",
       "      <td>1485559</td>\n",
       "      <td>CL did not show up for appointment to complete CA.</td>\n",
       "      <td>No Show</td>\n",
       "      <td>1893</td>\n",
       "      <td>No Show</td>\n",
       "      <td>[0, 0, 0, 0, 0, 0, 0, 0, 0, 0, 0, 0, 0, 0, 1, 0, 0]</td>\n",
       "    </tr>\n",
       "  </tbody>\n",
       "</table>\n",
       "</div>"
      ],
      "text/plain": [
       "    NOTEID                                                 NOTE DESCRIPTION  FREQ MIN_DESC                                               LABELS\n",
       "0  1485559  CL did not show up for appointment to complete CA.      No Show  1893  No Show  [0, 0, 0, 0, 0, 0, 0, 0, 0, 0, 0, 0, 0, 0, 1, 0, 0]"
      ]
     },
     "metadata": {},
     "output_type": "display_data"
    },
    {
     "data": {
      "text/plain": [
       "{'Direct Contact': 40439,\n",
       " 'Collateral Contact': 24754,\n",
       " 'Attempted client contact': 4947,\n",
       " 'No Show': 1893,\n",
       " 'Legal Issues': 1834,\n",
       " 'Client Texas State ID': 769,\n",
       " 'Client Birth certificate': 687,\n",
       " 'Release of information forms signed for all appropriate vendors and agencies': 384,\n",
       " 'HMIS profile created/updated': 363,\n",
       " 'Client Assessment Conducted': 303,\n",
       " 'Coordinated Assessment Completed at DACC': 295,\n",
       " 'Coordinated Assessment Scheduled at DACC': 269,\n",
       " 'Treatment Plan completed and signed': 129,\n",
       " 'HMIS Release of Information - Agreed': 101,\n",
       " 'Client DPS report': 80,\n",
       " 'Client assigned DACC CSR': 20,\n",
       " 'Client declined to sign release of information': 7}"
      ]
     },
     "execution_count": 14,
     "metadata": {},
     "output_type": "execute_result"
    }
   ],
   "source": [
    "# Checking the data before proceeding\n",
    "display(oh_df1.head(1))\n",
    "dict(sorted(onehot_label_counts(oh_df1, \"LABELS\", classes).items(), key=lambda x:x[1], reverse=True))"
   ]
  },
  {
   "attachments": {},
   "cell_type": "markdown",
   "metadata": {},
   "source": [
    "Of course there is a shortage of data, but it looks like certain labels have no casenotes that contain any information about that label. For these kind of labels, upsampling won't help. "
   ]
  },
  {
   "cell_type": "code",
   "execution_count": 15,
   "metadata": {},
   "outputs": [
    {
     "data": {
      "text/html": [
       "<div>\n",
       "<style scoped>\n",
       "    .dataframe tbody tr th:only-of-type {\n",
       "        vertical-align: middle;\n",
       "    }\n",
       "\n",
       "    .dataframe tbody tr th {\n",
       "        vertical-align: top;\n",
       "    }\n",
       "\n",
       "    .dataframe thead th {\n",
       "        text-align: right;\n",
       "    }\n",
       "</style>\n",
       "<table border=\"1\" class=\"dataframe\">\n",
       "  <thead>\n",
       "    <tr style=\"text-align: right;\">\n",
       "      <th></th>\n",
       "      <th>NOTEID</th>\n",
       "      <th>NOTE</th>\n",
       "      <th>DESCRIPTION</th>\n",
       "      <th>FREQ</th>\n",
       "      <th>MIN_DESC</th>\n",
       "    </tr>\n",
       "  </thead>\n",
       "  <tbody>\n",
       "  </tbody>\n",
       "</table>\n",
       "</div>"
      ],
      "text/plain": [
       "Empty DataFrame\n",
       "Columns: [NOTEID, NOTE, DESCRIPTION, FREQ, MIN_DESC]\n",
       "Index: []"
      ]
     },
     "execution_count": 15,
     "metadata": {},
     "output_type": "execute_result"
    }
   ],
   "source": [
    "# None of the casenotes with the label \"HMIS...Declined\" actually contain any information corresponding to the label\n",
    "df1[df1[\"DESCRIPTION\"].str.contains(\"HMIS Release of Information - Declined\")]"
   ]
  },
  {
   "attachments": {},
   "cell_type": "markdown",
   "metadata": {},
   "source": [
    "**Some Reminders** \n",
    "- Precision = True Positives / (True Positives + False Positives)\n",
    "  - What proportion of positive identifications was actually correct?\n",
    "- Recall = True Positives / (True Positives + False Negatives)\n",
    "  - What proportion of actual positives was identified correctly? \n",
    "- Accuracy = (True Positives + True Negatives) / Total\n",
    "- Micro avg. is across all samples\n",
    "- Macro Avg. is across each label\n",
    "  - We want to maximize the macro avg. scores\n"
   ]
  },
  {
   "attachments": {},
   "cell_type": "markdown",
   "metadata": {},
   "source": [
    "#### Train Test Split"
   ]
  },
  {
   "cell_type": "code",
   "execution_count": 16,
   "metadata": {},
   "outputs": [
    {
     "data": {
      "text/plain": [
       "Attempted client contact                                                         4027\n",
       "Client Assessment Conducted                                                       234\n",
       "Client Birth certificate                                                          552\n",
       "Client DPS report                                                                  61\n",
       "Client Texas State ID                                                             622\n",
       "Client assigned DACC CSR                                                           13\n",
       "Client declined to sign release of information                                      6\n",
       "Collateral Contact                                                              19741\n",
       "Coordinated Assessment Completed at DACC                                          238\n",
       "Coordinated Assessment Scheduled at DACC                                          213\n",
       "Direct Contact                                                                  32333\n",
       "HMIS Release of Information - Agreed                                               80\n",
       "HMIS profile created/updated                                                      292\n",
       "Legal Issues                                                                     1463\n",
       "No Show                                                                          1495\n",
       "Release of information forms signed for all appropriate vendors and agencies      302\n",
       "Treatment Plan completed and signed                                                91\n",
       "dtype: int32"
      ]
     },
     "metadata": {},
     "output_type": "display_data"
    },
    {
     "name": "stdout",
     "output_type": "stream",
     "text": [
      "Max Label: Direct Contact, 52.350113%\n",
      "Min Label: Client declined to sign release of information, 0.009715%\n"
     ]
    }
   ],
   "source": [
    "from sklearn.preprocessing import MinMaxScaler\n",
    "\n",
    "test_size = 0.2\n",
    "train_data, test_data = train_test_split(oh_df1, test_size=test_size, random_state=76)\n",
    "\n",
    "# train_data: original unaltered train data\n",
    "# test_data: will remain the same for each model.\n",
    "\n",
    "train_data.reset_index(drop=True, inplace=True)\n",
    "test_data.reset_index(drop=True, inplace=True)\n",
    "\n",
    "train_data_counts = pd.Series(onehot_label_counts(train_data, \"LABELS\", classes))\n",
    "\n",
    "def get_min_max_labels(counts: pd.Series):\n",
    "    counts = counts / counts.sum()\n",
    "    print(\"Max Label: %s, %f%%\" % (counts.idxmax(), counts.max()*100))\n",
    "    print(\"Min Label: %s, %f%%\" % (counts.idxmin(), counts.min()*100))\n",
    "\n",
    "display(train_data_counts)\n",
    "get_min_max_labels(train_data_counts)"
   ]
  },
  {
   "attachments": {},
   "cell_type": "markdown",
   "metadata": {},
   "source": [
    "#### Dataset 1, unmixed"
   ]
  },
  {
   "cell_type": "code",
   "execution_count": 17,
   "metadata": {},
   "outputs": [
    {
     "name": "stdout",
     "output_type": "stream",
     "text": [
      "TRAIN Dataset: (51249, 6)\n",
      "TEST Dataset: (12813, 6)\n"
     ]
    },
    {
     "name": "stderr",
     "output_type": "stream",
     "text": [
      "51249it [00:25, 1984.31it/s]\n",
      "12813it [00:06, 1860.34it/s]\n",
      "Some weights of the model checkpoint at distilbert-base-uncased were not used when initializing DistilBertModel: ['vocab_transform.bias', 'vocab_layer_norm.bias', 'vocab_projector.bias', 'vocab_transform.weight', 'vocab_layer_norm.weight', 'vocab_projector.weight']\n",
      "- This IS expected if you are initializing DistilBertModel from the checkpoint of a model trained on another task or with another architecture (e.g. initializing a BertForSequenceClassification model from a BertForPreTraining model).\n",
      "- This IS NOT expected if you are initializing DistilBertModel from the checkpoint of a model that you expect to be exactly identical (initializing a BertForSequenceClassification model from a BertForSequenceClassification model).\n"
     ]
    },
    {
     "name": "stdout",
     "output_type": "stream",
     "text": [
      "Hyperparams:\n",
      " max_tokens_per_example: 128\n",
      " train_batch_size: 4\n",
      " valid_batch_size: 4\n",
      " epochs: 1\n",
      " learning rate: 0.000010\n",
      " train_size: 51249\n",
      " test_size: 12813\n",
      "\n",
      "---TESTING---\n"
     ]
    },
    {
     "name": "stderr",
     "output_type": "stream",
     "text": [
      "3it [00:03,  1.02it/s]"
     ]
    },
    {
     "name": "stdout",
     "output_type": "stream",
     "text": [
      "Epoch: 0, Loss: 0.691327\n"
     ]
    },
    {
     "name": "stderr",
     "output_type": "stream",
     "text": [
      "5003it [03:56, 21.07it/s]"
     ]
    },
    {
     "name": "stdout",
     "output_type": "stream",
     "text": [
      "Epoch: 0, Loss: 0.064201\n"
     ]
    },
    {
     "name": "stderr",
     "output_type": "stream",
     "text": [
      "10004it [07:44, 24.75it/s]"
     ]
    },
    {
     "name": "stdout",
     "output_type": "stream",
     "text": [
      "Epoch: 0, Loss: 0.008882\n"
     ]
    },
    {
     "name": "stderr",
     "output_type": "stream",
     "text": [
      "12813it [09:39, 22.12it/s]\n"
     ]
    },
    {
     "name": "stdout",
     "output_type": "stream",
     "text": [
      "---VALIDATION---\n"
     ]
    },
    {
     "name": "stderr",
     "output_type": "stream",
     "text": [
      "3204it [00:31, 102.48it/s]\n"
     ]
    },
    {
     "name": "stdout",
     "output_type": "stream",
     "text": [
      "Hamming Loss: 0.016201\n"
     ]
    },
    {
     "data": {
      "text/html": [
       "<div>\n",
       "<style scoped>\n",
       "    .dataframe tbody tr th:only-of-type {\n",
       "        vertical-align: middle;\n",
       "    }\n",
       "\n",
       "    .dataframe tbody tr th {\n",
       "        vertical-align: top;\n",
       "    }\n",
       "\n",
       "    .dataframe thead th {\n",
       "        text-align: right;\n",
       "    }\n",
       "</style>\n",
       "<table border=\"1\" class=\"dataframe\">\n",
       "  <thead>\n",
       "    <tr style=\"text-align: right;\">\n",
       "      <th></th>\n",
       "      <th>precision</th>\n",
       "      <th>recall</th>\n",
       "      <th>f1-score</th>\n",
       "      <th>support</th>\n",
       "    </tr>\n",
       "  </thead>\n",
       "  <tbody>\n",
       "    <tr>\n",
       "      <th>Attempted client contact</th>\n",
       "      <td>0.734252</td>\n",
       "      <td>0.810870</td>\n",
       "      <td>0.770661</td>\n",
       "      <td>920.0</td>\n",
       "    </tr>\n",
       "    <tr>\n",
       "      <th>Client Assessment Conducted</th>\n",
       "      <td>0.000000</td>\n",
       "      <td>0.000000</td>\n",
       "      <td>0.000000</td>\n",
       "      <td>69.0</td>\n",
       "    </tr>\n",
       "    <tr>\n",
       "      <th>Client Birth certificate</th>\n",
       "      <td>1.000000</td>\n",
       "      <td>0.051852</td>\n",
       "      <td>0.098592</td>\n",
       "      <td>135.0</td>\n",
       "    </tr>\n",
       "    <tr>\n",
       "      <th>Client DPS report</th>\n",
       "      <td>0.000000</td>\n",
       "      <td>0.000000</td>\n",
       "      <td>0.000000</td>\n",
       "      <td>19.0</td>\n",
       "    </tr>\n",
       "    <tr>\n",
       "      <th>Client Texas State ID</th>\n",
       "      <td>0.565217</td>\n",
       "      <td>0.088435</td>\n",
       "      <td>0.152941</td>\n",
       "      <td>147.0</td>\n",
       "    </tr>\n",
       "    <tr>\n",
       "      <th>Client assigned DACC CSR</th>\n",
       "      <td>0.000000</td>\n",
       "      <td>0.000000</td>\n",
       "      <td>0.000000</td>\n",
       "      <td>7.0</td>\n",
       "    </tr>\n",
       "    <tr>\n",
       "      <th>Client declined to sign release of information</th>\n",
       "      <td>0.000000</td>\n",
       "      <td>0.000000</td>\n",
       "      <td>0.000000</td>\n",
       "      <td>1.0</td>\n",
       "    </tr>\n",
       "    <tr>\n",
       "      <th>Collateral Contact</th>\n",
       "      <td>0.915626</td>\n",
       "      <td>0.833433</td>\n",
       "      <td>0.872598</td>\n",
       "      <td>5013.0</td>\n",
       "    </tr>\n",
       "    <tr>\n",
       "      <th>Coordinated Assessment Completed at DACC</th>\n",
       "      <td>0.941176</td>\n",
       "      <td>0.842105</td>\n",
       "      <td>0.888889</td>\n",
       "      <td>57.0</td>\n",
       "    </tr>\n",
       "    <tr>\n",
       "      <th>Coordinated Assessment Scheduled at DACC</th>\n",
       "      <td>0.772727</td>\n",
       "      <td>0.607143</td>\n",
       "      <td>0.680000</td>\n",
       "      <td>56.0</td>\n",
       "    </tr>\n",
       "    <tr>\n",
       "      <th>Direct Contact</th>\n",
       "      <td>0.953057</td>\n",
       "      <td>0.944239</td>\n",
       "      <td>0.948627</td>\n",
       "      <td>8106.0</td>\n",
       "    </tr>\n",
       "    <tr>\n",
       "      <th>HMIS Release of Information - Agreed</th>\n",
       "      <td>0.700000</td>\n",
       "      <td>0.333333</td>\n",
       "      <td>0.451613</td>\n",
       "      <td>21.0</td>\n",
       "    </tr>\n",
       "    <tr>\n",
       "      <th>HMIS profile created/updated</th>\n",
       "      <td>0.795455</td>\n",
       "      <td>0.492958</td>\n",
       "      <td>0.608696</td>\n",
       "      <td>71.0</td>\n",
       "    </tr>\n",
       "    <tr>\n",
       "      <th>Legal Issues</th>\n",
       "      <td>0.647826</td>\n",
       "      <td>0.401617</td>\n",
       "      <td>0.495840</td>\n",
       "      <td>371.0</td>\n",
       "    </tr>\n",
       "    <tr>\n",
       "      <th>No Show</th>\n",
       "      <td>0.847185</td>\n",
       "      <td>0.793970</td>\n",
       "      <td>0.819715</td>\n",
       "      <td>398.0</td>\n",
       "    </tr>\n",
       "    <tr>\n",
       "      <th>Release of information forms signed for all appropriate vendors and agencies</th>\n",
       "      <td>0.000000</td>\n",
       "      <td>0.000000</td>\n",
       "      <td>0.000000</td>\n",
       "      <td>82.0</td>\n",
       "    </tr>\n",
       "    <tr>\n",
       "      <th>Treatment Plan completed and signed</th>\n",
       "      <td>0.000000</td>\n",
       "      <td>0.000000</td>\n",
       "      <td>0.000000</td>\n",
       "      <td>38.0</td>\n",
       "    </tr>\n",
       "    <tr>\n",
       "      <th>micro avg</th>\n",
       "      <td>0.916273</td>\n",
       "      <td>0.850171</td>\n",
       "      <td>0.881985</td>\n",
       "      <td>15511.0</td>\n",
       "    </tr>\n",
       "    <tr>\n",
       "      <th>macro avg</th>\n",
       "      <td>0.521913</td>\n",
       "      <td>0.364703</td>\n",
       "      <td>0.399304</td>\n",
       "      <td>15511.0</td>\n",
       "    </tr>\n",
       "    <tr>\n",
       "      <th>weighted avg</th>\n",
       "      <td>0.899667</td>\n",
       "      <td>0.850171</td>\n",
       "      <td>0.867794</td>\n",
       "      <td>15511.0</td>\n",
       "    </tr>\n",
       "    <tr>\n",
       "      <th>samples avg</th>\n",
       "      <td>0.930586</td>\n",
       "      <td>0.897125</td>\n",
       "      <td>0.899925</td>\n",
       "      <td>15511.0</td>\n",
       "    </tr>\n",
       "  </tbody>\n",
       "</table>\n",
       "</div>"
      ],
      "text/plain": [
       "                                                                              precision    recall  f1-score  support\n",
       "Attempted client contact                                                       0.734252  0.810870  0.770661    920.0\n",
       "Client Assessment Conducted                                                    0.000000  0.000000  0.000000     69.0\n",
       "Client Birth certificate                                                       1.000000  0.051852  0.098592    135.0\n",
       "Client DPS report                                                              0.000000  0.000000  0.000000     19.0\n",
       "Client Texas State ID                                                          0.565217  0.088435  0.152941    147.0\n",
       "Client assigned DACC CSR                                                       0.000000  0.000000  0.000000      7.0\n",
       "Client declined to sign release of information                                 0.000000  0.000000  0.000000      1.0\n",
       "Collateral Contact                                                             0.915626  0.833433  0.872598   5013.0\n",
       "Coordinated Assessment Completed at DACC                                       0.941176  0.842105  0.888889     57.0\n",
       "Coordinated Assessment Scheduled at DACC                                       0.772727  0.607143  0.680000     56.0\n",
       "Direct Contact                                                                 0.953057  0.944239  0.948627   8106.0\n",
       "HMIS Release of Information - Agreed                                           0.700000  0.333333  0.451613     21.0\n",
       "HMIS profile created/updated                                                   0.795455  0.492958  0.608696     71.0\n",
       "Legal Issues                                                                   0.647826  0.401617  0.495840    371.0\n",
       "No Show                                                                        0.847185  0.793970  0.819715    398.0\n",
       "Release of information forms signed for all appropriate vendors and agencies   0.000000  0.000000  0.000000     82.0\n",
       "Treatment Plan completed and signed                                            0.000000  0.000000  0.000000     38.0\n",
       "micro avg                                                                      0.916273  0.850171  0.881985  15511.0\n",
       "macro avg                                                                      0.521913  0.364703  0.399304  15511.0\n",
       "weighted avg                                                                   0.899667  0.850171  0.867794  15511.0\n",
       "samples avg                                                                    0.930586  0.897125  0.899925  15511.0"
      ]
     },
     "metadata": {},
     "output_type": "display_data"
    }
   ],
   "source": [
    "# max token len is 128 by default\n",
    "clf1 = DistilBertMLClassifier(text_col=\"NOTE\", label_col=\"LABELS\", label_names=classes, train_data=train_data, test_data=test_data)\n",
    "\n",
    "print(str(clf1))\n",
    "print(\"---TESTING---\")\n",
    "clf1.train()\n",
    "print(\"---VALIDATION---\")\n",
    "clf1.validate()\n",
    "\n",
    "# 4 is the default batch size\n",
    "# print(clf1)\n",
    "# print(len(clf1.training_loader) * 4)\n",
    "# print(len(clf1.testing_loader) * 4)"
   ]
  },
  {
   "cell_type": "code",
   "execution_count": 18,
   "metadata": {},
   "outputs": [],
   "source": [
    "import math\n",
    "\n",
    "largeK = math.pow(2, 21)\n",
    "# use the same train-test split as before\n",
    "\n",
    "# Now we upsample the train_data based on the criteria I outlined above\n",
    "mixed_data_1 = temperature_scaled_mixing(df=train_data, label_col=\"MIN_DESC\", T=1.5, K=largeK)\n",
    "mixed_data_2 = temperature_scaled_mixing(df=train_data, label_col=\"MIN_DESC\", T=2, K=largeK)\n",
    "mixed_data_3 = temperature_scaled_mixing(df=train_data, label_col=\"MIN_DESC\", T=4, K=largeK)\n",
    "\n",
    "mixed_data_1.reset_index(drop=True, inplace=True)\n",
    "test_data.reset_index(drop=True, inplace=True)\n",
    "\n",
    "def compare_mixed_dataset(og_data, mixed_data, classes):\n",
    "\n",
    "    og_data_counts = onehot_label_counts(og_data, \"LABELS\", classes)\n",
    "    mixed_data_counts = onehot_label_counts(mixed_data, \"LABELS\", classes)\n",
    "    stats = pd.DataFrame(data={\"labels\": og_data_counts.keys(), \n",
    "                            \"original\": og_data_counts.values(), \n",
    "                            \"mixed\": mixed_data_counts.values()})\n",
    "\n",
    "    stats.loc['Total'] = stats.sum(numeric_only=True)\n",
    "    display(stats)"
   ]
  },
  {
   "attachments": {},
   "cell_type": "markdown",
   "metadata": {},
   "source": [
    "One issue is that since Direct Contact occurs with almost everything else, increasing T will also cause its counts to rise/stay high. It would be worth running a model without Direct contact. More over, upsampling labels like \"HMIS...Declined\" or \"Client not assigned DACC CSR\" is a bad idea because on top of having such few examples, their examples don't have any information in the text about label."
   ]
  },
  {
   "attachments": {},
   "cell_type": "markdown",
   "metadata": {},
   "source": [
    "### Dataset 1, T=1.5"
   ]
  },
  {
   "cell_type": "code",
   "execution_count": 19,
   "metadata": {},
   "outputs": [
    {
     "data": {
      "text/html": [
       "<div>\n",
       "<style scoped>\n",
       "    .dataframe tbody tr th:only-of-type {\n",
       "        vertical-align: middle;\n",
       "    }\n",
       "\n",
       "    .dataframe tbody tr th {\n",
       "        vertical-align: top;\n",
       "    }\n",
       "\n",
       "    .dataframe thead th {\n",
       "        text-align: right;\n",
       "    }\n",
       "</style>\n",
       "<table border=\"1\" class=\"dataframe\">\n",
       "  <thead>\n",
       "    <tr style=\"text-align: right;\">\n",
       "      <th></th>\n",
       "      <th>labels</th>\n",
       "      <th>original</th>\n",
       "      <th>mixed</th>\n",
       "    </tr>\n",
       "  </thead>\n",
       "  <tbody>\n",
       "    <tr>\n",
       "      <th>0</th>\n",
       "      <td>Attempted client contact</td>\n",
       "      <td>4027.0</td>\n",
       "      <td>5738.0</td>\n",
       "    </tr>\n",
       "    <tr>\n",
       "      <th>1</th>\n",
       "      <td>Client Assessment Conducted</td>\n",
       "      <td>234.0</td>\n",
       "      <td>1071.0</td>\n",
       "    </tr>\n",
       "    <tr>\n",
       "      <th>2</th>\n",
       "      <td>Client Birth certificate</td>\n",
       "      <td>552.0</td>\n",
       "      <td>1560.0</td>\n",
       "    </tr>\n",
       "    <tr>\n",
       "      <th>3</th>\n",
       "      <td>Client DPS report</td>\n",
       "      <td>61.0</td>\n",
       "      <td>345.0</td>\n",
       "    </tr>\n",
       "    <tr>\n",
       "      <th>4</th>\n",
       "      <td>Client Texas State ID</td>\n",
       "      <td>622.0</td>\n",
       "      <td>1725.0</td>\n",
       "    </tr>\n",
       "    <tr>\n",
       "      <th>5</th>\n",
       "      <td>Client assigned DACC CSR</td>\n",
       "      <td>13.0</td>\n",
       "      <td>119.0</td>\n",
       "    </tr>\n",
       "    <tr>\n",
       "      <th>6</th>\n",
       "      <td>Client declined to sign release of information</td>\n",
       "      <td>6.0</td>\n",
       "      <td>74.0</td>\n",
       "    </tr>\n",
       "    <tr>\n",
       "      <th>7</th>\n",
       "      <td>Collateral Contact</td>\n",
       "      <td>19741.0</td>\n",
       "      <td>18367.0</td>\n",
       "    </tr>\n",
       "    <tr>\n",
       "      <th>8</th>\n",
       "      <td>Coordinated Assessment Completed at DACC</td>\n",
       "      <td>238.0</td>\n",
       "      <td>1109.0</td>\n",
       "    </tr>\n",
       "    <tr>\n",
       "      <th>9</th>\n",
       "      <td>Coordinated Assessment Scheduled at DACC</td>\n",
       "      <td>213.0</td>\n",
       "      <td>957.0</td>\n",
       "    </tr>\n",
       "    <tr>\n",
       "      <th>10</th>\n",
       "      <td>Direct Contact</td>\n",
       "      <td>32333.0</td>\n",
       "      <td>31030.0</td>\n",
       "    </tr>\n",
       "    <tr>\n",
       "      <th>11</th>\n",
       "      <td>HMIS Release of Information - Agreed</td>\n",
       "      <td>80.0</td>\n",
       "      <td>416.0</td>\n",
       "    </tr>\n",
       "    <tr>\n",
       "      <th>12</th>\n",
       "      <td>HMIS profile created/updated</td>\n",
       "      <td>292.0</td>\n",
       "      <td>1360.0</td>\n",
       "    </tr>\n",
       "    <tr>\n",
       "      <th>13</th>\n",
       "      <td>Legal Issues</td>\n",
       "      <td>1463.0</td>\n",
       "      <td>3112.0</td>\n",
       "    </tr>\n",
       "    <tr>\n",
       "      <th>14</th>\n",
       "      <td>No Show</td>\n",
       "      <td>1495.0</td>\n",
       "      <td>2869.0</td>\n",
       "    </tr>\n",
       "    <tr>\n",
       "      <th>15</th>\n",
       "      <td>Release of information forms signed for all appropriate vendors and agencies</td>\n",
       "      <td>302.0</td>\n",
       "      <td>1306.0</td>\n",
       "    </tr>\n",
       "    <tr>\n",
       "      <th>16</th>\n",
       "      <td>Treatment Plan completed and signed</td>\n",
       "      <td>91.0</td>\n",
       "      <td>474.0</td>\n",
       "    </tr>\n",
       "    <tr>\n",
       "      <th>Total</th>\n",
       "      <td>NaN</td>\n",
       "      <td>61763.0</td>\n",
       "      <td>71632.0</td>\n",
       "    </tr>\n",
       "  </tbody>\n",
       "</table>\n",
       "</div>"
      ],
      "text/plain": [
       "                                                                             labels  original    mixed\n",
       "0                                                          Attempted client contact    4027.0   5738.0\n",
       "1                                                       Client Assessment Conducted     234.0   1071.0\n",
       "2                                                          Client Birth certificate     552.0   1560.0\n",
       "3                                                                 Client DPS report      61.0    345.0\n",
       "4                                                             Client Texas State ID     622.0   1725.0\n",
       "5                                                          Client assigned DACC CSR      13.0    119.0\n",
       "6                                    Client declined to sign release of information       6.0     74.0\n",
       "7                                                                Collateral Contact   19741.0  18367.0\n",
       "8                                          Coordinated Assessment Completed at DACC     238.0   1109.0\n",
       "9                                          Coordinated Assessment Scheduled at DACC     213.0    957.0\n",
       "10                                                                   Direct Contact   32333.0  31030.0\n",
       "11                                             HMIS Release of Information - Agreed      80.0    416.0\n",
       "12                                                     HMIS profile created/updated     292.0   1360.0\n",
       "13                                                                     Legal Issues    1463.0   3112.0\n",
       "14                                                                          No Show    1495.0   2869.0\n",
       "15     Release of information forms signed for all appropriate vendors and agencies     302.0   1306.0\n",
       "16                                              Treatment Plan completed and signed      91.0    474.0\n",
       "Total                                                                           NaN   61763.0  71632.0"
      ]
     },
     "metadata": {},
     "output_type": "display_data"
    },
    {
     "name": "stdout",
     "output_type": "stream",
     "text": [
      "Max Label: Direct Contact, 43.318629%\n",
      "Min Label: Client declined to sign release of information, 0.103306%\n",
      "TRAIN Dataset: (51249, 6)\n",
      "TEST Dataset: (12813, 6)\n"
     ]
    },
    {
     "name": "stderr",
     "output_type": "stream",
     "text": [
      "51249it [00:23, 2210.16it/s]\n",
      "12813it [00:05, 2185.88it/s]\n",
      "Some weights of the model checkpoint at distilbert-base-uncased were not used when initializing DistilBertModel: ['vocab_transform.bias', 'vocab_layer_norm.bias', 'vocab_projector.bias', 'vocab_transform.weight', 'vocab_layer_norm.weight', 'vocab_projector.weight']\n",
      "- This IS expected if you are initializing DistilBertModel from the checkpoint of a model trained on another task or with another architecture (e.g. initializing a BertForSequenceClassification model from a BertForPreTraining model).\n",
      "- This IS NOT expected if you are initializing DistilBertModel from the checkpoint of a model that you expect to be exactly identical (initializing a BertForSequenceClassification model from a BertForSequenceClassification model).\n"
     ]
    },
    {
     "name": "stdout",
     "output_type": "stream",
     "text": [
      "Hyperparams:\n",
      " max_tokens_per_example: 128\n",
      " train_batch_size: 4\n",
      " valid_batch_size: 4\n",
      " epochs: 1\n",
      " learning rate: 0.000010\n",
      " train_size: 51249\n",
      " test_size: 12813\n",
      "\n",
      "---TESTING---\n"
     ]
    },
    {
     "name": "stderr",
     "output_type": "stream",
     "text": [
      "2it [00:00, 15.33it/s]"
     ]
    },
    {
     "name": "stdout",
     "output_type": "stream",
     "text": [
      "Epoch: 0, Loss: 0.678567\n"
     ]
    },
    {
     "name": "stderr",
     "output_type": "stream",
     "text": [
      "5003it [03:30, 23.74it/s]"
     ]
    },
    {
     "name": "stdout",
     "output_type": "stream",
     "text": [
      "Epoch: 0, Loss: 0.073661\n"
     ]
    },
    {
     "name": "stderr",
     "output_type": "stream",
     "text": [
      "10004it [07:01, 23.76it/s]"
     ]
    },
    {
     "name": "stdout",
     "output_type": "stream",
     "text": [
      "Epoch: 0, Loss: 0.055251\n"
     ]
    },
    {
     "name": "stderr",
     "output_type": "stream",
     "text": [
      "12813it [08:59, 23.75it/s]\n"
     ]
    },
    {
     "name": "stdout",
     "output_type": "stream",
     "text": [
      "---VALIDATION---\n"
     ]
    },
    {
     "name": "stderr",
     "output_type": "stream",
     "text": [
      "3204it [00:32, 98.09it/s]\n"
     ]
    },
    {
     "name": "stdout",
     "output_type": "stream",
     "text": [
      "Hamming Loss: 0.016394\n"
     ]
    },
    {
     "data": {
      "text/html": [
       "<div>\n",
       "<style scoped>\n",
       "    .dataframe tbody tr th:only-of-type {\n",
       "        vertical-align: middle;\n",
       "    }\n",
       "\n",
       "    .dataframe tbody tr th {\n",
       "        vertical-align: top;\n",
       "    }\n",
       "\n",
       "    .dataframe thead th {\n",
       "        text-align: right;\n",
       "    }\n",
       "</style>\n",
       "<table border=\"1\" class=\"dataframe\">\n",
       "  <thead>\n",
       "    <tr style=\"text-align: right;\">\n",
       "      <th></th>\n",
       "      <th>precision</th>\n",
       "      <th>recall</th>\n",
       "      <th>f1-score</th>\n",
       "      <th>support</th>\n",
       "    </tr>\n",
       "  </thead>\n",
       "  <tbody>\n",
       "    <tr>\n",
       "      <th>Attempted client contact</th>\n",
       "      <td>0.756098</td>\n",
       "      <td>0.775000</td>\n",
       "      <td>0.765432</td>\n",
       "      <td>920.0</td>\n",
       "    </tr>\n",
       "    <tr>\n",
       "      <th>Client Assessment Conducted</th>\n",
       "      <td>0.695652</td>\n",
       "      <td>0.695652</td>\n",
       "      <td>0.695652</td>\n",
       "      <td>69.0</td>\n",
       "    </tr>\n",
       "    <tr>\n",
       "      <th>Client Birth certificate</th>\n",
       "      <td>0.673759</td>\n",
       "      <td>0.703704</td>\n",
       "      <td>0.688406</td>\n",
       "      <td>135.0</td>\n",
       "    </tr>\n",
       "    <tr>\n",
       "      <th>Client DPS report</th>\n",
       "      <td>0.625000</td>\n",
       "      <td>0.526316</td>\n",
       "      <td>0.571429</td>\n",
       "      <td>19.0</td>\n",
       "    </tr>\n",
       "    <tr>\n",
       "      <th>Client Texas State ID</th>\n",
       "      <td>0.455882</td>\n",
       "      <td>0.632653</td>\n",
       "      <td>0.529915</td>\n",
       "      <td>147.0</td>\n",
       "    </tr>\n",
       "    <tr>\n",
       "      <th>Client assigned DACC CSR</th>\n",
       "      <td>0.000000</td>\n",
       "      <td>0.000000</td>\n",
       "      <td>0.000000</td>\n",
       "      <td>7.0</td>\n",
       "    </tr>\n",
       "    <tr>\n",
       "      <th>Client declined to sign release of information</th>\n",
       "      <td>0.000000</td>\n",
       "      <td>0.000000</td>\n",
       "      <td>0.000000</td>\n",
       "      <td>1.0</td>\n",
       "    </tr>\n",
       "    <tr>\n",
       "      <th>Collateral Contact</th>\n",
       "      <td>0.927289</td>\n",
       "      <td>0.803910</td>\n",
       "      <td>0.861203</td>\n",
       "      <td>5013.0</td>\n",
       "    </tr>\n",
       "    <tr>\n",
       "      <th>Coordinated Assessment Completed at DACC</th>\n",
       "      <td>0.892857</td>\n",
       "      <td>0.877193</td>\n",
       "      <td>0.884956</td>\n",
       "      <td>57.0</td>\n",
       "    </tr>\n",
       "    <tr>\n",
       "      <th>Coordinated Assessment Scheduled at DACC</th>\n",
       "      <td>0.868421</td>\n",
       "      <td>0.589286</td>\n",
       "      <td>0.702128</td>\n",
       "      <td>56.0</td>\n",
       "    </tr>\n",
       "    <tr>\n",
       "      <th>Direct Contact</th>\n",
       "      <td>0.955173</td>\n",
       "      <td>0.938441</td>\n",
       "      <td>0.946733</td>\n",
       "      <td>8106.0</td>\n",
       "    </tr>\n",
       "    <tr>\n",
       "      <th>HMIS Release of Information - Agreed</th>\n",
       "      <td>0.545455</td>\n",
       "      <td>0.571429</td>\n",
       "      <td>0.558140</td>\n",
       "      <td>21.0</td>\n",
       "    </tr>\n",
       "    <tr>\n",
       "      <th>HMIS profile created/updated</th>\n",
       "      <td>0.784314</td>\n",
       "      <td>0.563380</td>\n",
       "      <td>0.655738</td>\n",
       "      <td>71.0</td>\n",
       "    </tr>\n",
       "    <tr>\n",
       "      <th>Legal Issues</th>\n",
       "      <td>0.598854</td>\n",
       "      <td>0.563342</td>\n",
       "      <td>0.580556</td>\n",
       "      <td>371.0</td>\n",
       "    </tr>\n",
       "    <tr>\n",
       "      <th>No Show</th>\n",
       "      <td>0.793349</td>\n",
       "      <td>0.839196</td>\n",
       "      <td>0.815629</td>\n",
       "      <td>398.0</td>\n",
       "    </tr>\n",
       "    <tr>\n",
       "      <th>Release of information forms signed for all appropriate vendors and agencies</th>\n",
       "      <td>0.581395</td>\n",
       "      <td>0.304878</td>\n",
       "      <td>0.400000</td>\n",
       "      <td>82.0</td>\n",
       "    </tr>\n",
       "    <tr>\n",
       "      <th>Treatment Plan completed and signed</th>\n",
       "      <td>0.647059</td>\n",
       "      <td>0.289474</td>\n",
       "      <td>0.400000</td>\n",
       "      <td>38.0</td>\n",
       "    </tr>\n",
       "    <tr>\n",
       "      <th>micro avg</th>\n",
       "      <td>0.906676</td>\n",
       "      <td>0.858101</td>\n",
       "      <td>0.881720</td>\n",
       "      <td>15511.0</td>\n",
       "    </tr>\n",
       "    <tr>\n",
       "      <th>macro avg</th>\n",
       "      <td>0.635327</td>\n",
       "      <td>0.569050</td>\n",
       "      <td>0.591524</td>\n",
       "      <td>15511.0</td>\n",
       "    </tr>\n",
       "    <tr>\n",
       "      <th>weighted avg</th>\n",
       "      <td>0.907836</td>\n",
       "      <td>0.858101</td>\n",
       "      <td>0.880753</td>\n",
       "      <td>15511.0</td>\n",
       "    </tr>\n",
       "    <tr>\n",
       "      <th>samples avg</th>\n",
       "      <td>0.921909</td>\n",
       "      <td>0.897288</td>\n",
       "      <td>0.896448</td>\n",
       "      <td>15511.0</td>\n",
       "    </tr>\n",
       "  </tbody>\n",
       "</table>\n",
       "</div>"
      ],
      "text/plain": [
       "                                                                              precision    recall  f1-score  support\n",
       "Attempted client contact                                                       0.756098  0.775000  0.765432    920.0\n",
       "Client Assessment Conducted                                                    0.695652  0.695652  0.695652     69.0\n",
       "Client Birth certificate                                                       0.673759  0.703704  0.688406    135.0\n",
       "Client DPS report                                                              0.625000  0.526316  0.571429     19.0\n",
       "Client Texas State ID                                                          0.455882  0.632653  0.529915    147.0\n",
       "Client assigned DACC CSR                                                       0.000000  0.000000  0.000000      7.0\n",
       "Client declined to sign release of information                                 0.000000  0.000000  0.000000      1.0\n",
       "Collateral Contact                                                             0.927289  0.803910  0.861203   5013.0\n",
       "Coordinated Assessment Completed at DACC                                       0.892857  0.877193  0.884956     57.0\n",
       "Coordinated Assessment Scheduled at DACC                                       0.868421  0.589286  0.702128     56.0\n",
       "Direct Contact                                                                 0.955173  0.938441  0.946733   8106.0\n",
       "HMIS Release of Information - Agreed                                           0.545455  0.571429  0.558140     21.0\n",
       "HMIS profile created/updated                                                   0.784314  0.563380  0.655738     71.0\n",
       "Legal Issues                                                                   0.598854  0.563342  0.580556    371.0\n",
       "No Show                                                                        0.793349  0.839196  0.815629    398.0\n",
       "Release of information forms signed for all appropriate vendors and agencies   0.581395  0.304878  0.400000     82.0\n",
       "Treatment Plan completed and signed                                            0.647059  0.289474  0.400000     38.0\n",
       "micro avg                                                                      0.906676  0.858101  0.881720  15511.0\n",
       "macro avg                                                                      0.635327  0.569050  0.591524  15511.0\n",
       "weighted avg                                                                   0.907836  0.858101  0.880753  15511.0\n",
       "samples avg                                                                    0.921909  0.897288  0.896448  15511.0"
      ]
     },
     "metadata": {},
     "output_type": "display_data"
    }
   ],
   "source": [
    "compare_mixed_dataset(train_data, mixed_data_1, classes)\n",
    "get_min_max_labels(pd.Series(onehot_label_counts(mixed_data_1, \"LABELS\", classes)))\n",
    "\n",
    "clf2 = DistilBertMLClassifier(text_col=\"NOTE\", label_col=\"LABELS\", label_names=classes, train_data=mixed_data_1, test_data=test_data)\n",
    "\n",
    "print(str(clf2))\n",
    "print(\"---TESTING---\")\n",
    "clf2.train()\n",
    "print(\"---VALIDATION---\")\n",
    "clf2.validate()"
   ]
  },
  {
   "attachments": {},
   "cell_type": "markdown",
   "metadata": {},
   "source": [
    "### Dataset 1, T=2"
   ]
  },
  {
   "cell_type": "code",
   "execution_count": 20,
   "metadata": {},
   "outputs": [
    {
     "data": {
      "text/html": [
       "<div>\n",
       "<style scoped>\n",
       "    .dataframe tbody tr th:only-of-type {\n",
       "        vertical-align: middle;\n",
       "    }\n",
       "\n",
       "    .dataframe tbody tr th {\n",
       "        vertical-align: top;\n",
       "    }\n",
       "\n",
       "    .dataframe thead th {\n",
       "        text-align: right;\n",
       "    }\n",
       "</style>\n",
       "<table border=\"1\" class=\"dataframe\">\n",
       "  <thead>\n",
       "    <tr style=\"text-align: right;\">\n",
       "      <th></th>\n",
       "      <th>labels</th>\n",
       "      <th>original</th>\n",
       "      <th>mixed</th>\n",
       "    </tr>\n",
       "  </thead>\n",
       "  <tbody>\n",
       "    <tr>\n",
       "      <th>0</th>\n",
       "      <td>Attempted client contact</td>\n",
       "      <td>4027.0</td>\n",
       "      <td>6344.0</td>\n",
       "    </tr>\n",
       "    <tr>\n",
       "      <th>1</th>\n",
       "      <td>Client Assessment Conducted</td>\n",
       "      <td>234.0</td>\n",
       "      <td>2177.0</td>\n",
       "    </tr>\n",
       "    <tr>\n",
       "      <th>2</th>\n",
       "      <td>Client Birth certificate</td>\n",
       "      <td>552.0</td>\n",
       "      <td>2521.0</td>\n",
       "    </tr>\n",
       "    <tr>\n",
       "      <th>3</th>\n",
       "      <td>Client DPS report</td>\n",
       "      <td>61.0</td>\n",
       "      <td>675.0</td>\n",
       "    </tr>\n",
       "    <tr>\n",
       "      <th>4</th>\n",
       "      <td>Client Texas State ID</td>\n",
       "      <td>622.0</td>\n",
       "      <td>2562.0</td>\n",
       "    </tr>\n",
       "    <tr>\n",
       "      <th>5</th>\n",
       "      <td>Client assigned DACC CSR</td>\n",
       "      <td>13.0</td>\n",
       "      <td>344.0</td>\n",
       "    </tr>\n",
       "    <tr>\n",
       "      <th>6</th>\n",
       "      <td>Client declined to sign release of information</td>\n",
       "      <td>6.0</td>\n",
       "      <td>236.0</td>\n",
       "    </tr>\n",
       "    <tr>\n",
       "      <th>7</th>\n",
       "      <td>Collateral Contact</td>\n",
       "      <td>19741.0</td>\n",
       "      <td>16995.0</td>\n",
       "    </tr>\n",
       "    <tr>\n",
       "      <th>8</th>\n",
       "      <td>Coordinated Assessment Completed at DACC</td>\n",
       "      <td>238.0</td>\n",
       "      <td>2186.0</td>\n",
       "    </tr>\n",
       "    <tr>\n",
       "      <th>9</th>\n",
       "      <td>Coordinated Assessment Scheduled at DACC</td>\n",
       "      <td>213.0</td>\n",
       "      <td>1752.0</td>\n",
       "    </tr>\n",
       "    <tr>\n",
       "      <th>10</th>\n",
       "      <td>Direct Contact</td>\n",
       "      <td>32333.0</td>\n",
       "      <td>31373.0</td>\n",
       "    </tr>\n",
       "    <tr>\n",
       "      <th>11</th>\n",
       "      <td>HMIS Release of Information - Agreed</td>\n",
       "      <td>80.0</td>\n",
       "      <td>777.0</td>\n",
       "    </tr>\n",
       "    <tr>\n",
       "      <th>12</th>\n",
       "      <td>HMIS profile created/updated</td>\n",
       "      <td>292.0</td>\n",
       "      <td>2711.0</td>\n",
       "    </tr>\n",
       "    <tr>\n",
       "      <th>13</th>\n",
       "      <td>Legal Issues</td>\n",
       "      <td>1463.0</td>\n",
       "      <td>4123.0</td>\n",
       "    </tr>\n",
       "    <tr>\n",
       "      <th>14</th>\n",
       "      <td>No Show</td>\n",
       "      <td>1495.0</td>\n",
       "      <td>3498.0</td>\n",
       "    </tr>\n",
       "    <tr>\n",
       "      <th>15</th>\n",
       "      <td>Release of information forms signed for all appropriate vendors and agencies</td>\n",
       "      <td>302.0</td>\n",
       "      <td>2397.0</td>\n",
       "    </tr>\n",
       "    <tr>\n",
       "      <th>16</th>\n",
       "      <td>Treatment Plan completed and signed</td>\n",
       "      <td>91.0</td>\n",
       "      <td>979.0</td>\n",
       "    </tr>\n",
       "    <tr>\n",
       "      <th>Total</th>\n",
       "      <td>NaN</td>\n",
       "      <td>61763.0</td>\n",
       "      <td>81650.0</td>\n",
       "    </tr>\n",
       "  </tbody>\n",
       "</table>\n",
       "</div>"
      ],
      "text/plain": [
       "                                                                             labels  original    mixed\n",
       "0                                                          Attempted client contact    4027.0   6344.0\n",
       "1                                                       Client Assessment Conducted     234.0   2177.0\n",
       "2                                                          Client Birth certificate     552.0   2521.0\n",
       "3                                                                 Client DPS report      61.0    675.0\n",
       "4                                                             Client Texas State ID     622.0   2562.0\n",
       "5                                                          Client assigned DACC CSR      13.0    344.0\n",
       "6                                    Client declined to sign release of information       6.0    236.0\n",
       "7                                                                Collateral Contact   19741.0  16995.0\n",
       "8                                          Coordinated Assessment Completed at DACC     238.0   2186.0\n",
       "9                                          Coordinated Assessment Scheduled at DACC     213.0   1752.0\n",
       "10                                                                   Direct Contact   32333.0  31373.0\n",
       "11                                             HMIS Release of Information - Agreed      80.0    777.0\n",
       "12                                                     HMIS profile created/updated     292.0   2711.0\n",
       "13                                                                     Legal Issues    1463.0   4123.0\n",
       "14                                                                          No Show    1495.0   3498.0\n",
       "15     Release of information forms signed for all appropriate vendors and agencies     302.0   2397.0\n",
       "16                                              Treatment Plan completed and signed      91.0    979.0\n",
       "Total                                                                           NaN   61763.0  81650.0"
      ]
     },
     "metadata": {},
     "output_type": "display_data"
    },
    {
     "name": "stdout",
     "output_type": "stream",
     "text": [
      "Max Label: Direct Contact, 38.423760%\n",
      "Min Label: Client declined to sign release of information, 0.289039%\n",
      "TRAIN Dataset: (51249, 6)\n",
      "TEST Dataset: (12813, 6)\n"
     ]
    },
    {
     "name": "stderr",
     "output_type": "stream",
     "text": [
      "51249it [00:23, 2185.43it/s]\n",
      "12813it [00:05, 2163.91it/s]\n",
      "Some weights of the model checkpoint at distilbert-base-uncased were not used when initializing DistilBertModel: ['vocab_transform.bias', 'vocab_layer_norm.bias', 'vocab_projector.bias', 'vocab_transform.weight', 'vocab_layer_norm.weight', 'vocab_projector.weight']\n",
      "- This IS expected if you are initializing DistilBertModel from the checkpoint of a model trained on another task or with another architecture (e.g. initializing a BertForSequenceClassification model from a BertForPreTraining model).\n",
      "- This IS NOT expected if you are initializing DistilBertModel from the checkpoint of a model that you expect to be exactly identical (initializing a BertForSequenceClassification model from a BertForSequenceClassification model).\n"
     ]
    },
    {
     "name": "stdout",
     "output_type": "stream",
     "text": [
      "Hyperparams:\n",
      " max_tokens_per_example: 128\n",
      " train_batch_size: 4\n",
      " valid_batch_size: 4\n",
      " epochs: 1\n",
      " learning rate: 0.000010\n",
      " train_size: 51249\n",
      " test_size: 12813\n",
      "\n",
      "---TESTING---\n"
     ]
    },
    {
     "name": "stderr",
     "output_type": "stream",
     "text": [
      "1it [00:00,  6.00it/s]"
     ]
    },
    {
     "name": "stdout",
     "output_type": "stream",
     "text": [
      "Epoch: 0, Loss: 0.705014\n"
     ]
    },
    {
     "name": "stderr",
     "output_type": "stream",
     "text": [
      "5004it [03:30, 23.73it/s]"
     ]
    },
    {
     "name": "stdout",
     "output_type": "stream",
     "text": [
      "Epoch: 0, Loss: 0.045126\n"
     ]
    },
    {
     "name": "stderr",
     "output_type": "stream",
     "text": [
      "10005it [07:01, 23.70it/s]"
     ]
    },
    {
     "name": "stdout",
     "output_type": "stream",
     "text": [
      "Epoch: 0, Loss: 0.051273\n"
     ]
    },
    {
     "name": "stderr",
     "output_type": "stream",
     "text": [
      "12813it [09:05, 23.50it/s]\n"
     ]
    },
    {
     "name": "stdout",
     "output_type": "stream",
     "text": [
      "---VALIDATION---\n"
     ]
    },
    {
     "name": "stderr",
     "output_type": "stream",
     "text": [
      "3204it [00:36, 88.99it/s]"
     ]
    },
    {
     "name": "stdout",
     "output_type": "stream",
     "text": [
      "Hamming Loss: 0.016481\n"
     ]
    },
    {
     "name": "stderr",
     "output_type": "stream",
     "text": [
      "\n"
     ]
    },
    {
     "data": {
      "text/html": [
       "<div>\n",
       "<style scoped>\n",
       "    .dataframe tbody tr th:only-of-type {\n",
       "        vertical-align: middle;\n",
       "    }\n",
       "\n",
       "    .dataframe tbody tr th {\n",
       "        vertical-align: top;\n",
       "    }\n",
       "\n",
       "    .dataframe thead th {\n",
       "        text-align: right;\n",
       "    }\n",
       "</style>\n",
       "<table border=\"1\" class=\"dataframe\">\n",
       "  <thead>\n",
       "    <tr style=\"text-align: right;\">\n",
       "      <th></th>\n",
       "      <th>precision</th>\n",
       "      <th>recall</th>\n",
       "      <th>f1-score</th>\n",
       "      <th>support</th>\n",
       "    </tr>\n",
       "  </thead>\n",
       "  <tbody>\n",
       "    <tr>\n",
       "      <th>Attempted client contact</th>\n",
       "      <td>0.740557</td>\n",
       "      <td>0.809783</td>\n",
       "      <td>0.773624</td>\n",
       "      <td>920.0</td>\n",
       "    </tr>\n",
       "    <tr>\n",
       "      <th>Client Assessment Conducted</th>\n",
       "      <td>0.698413</td>\n",
       "      <td>0.637681</td>\n",
       "      <td>0.666667</td>\n",
       "      <td>69.0</td>\n",
       "    </tr>\n",
       "    <tr>\n",
       "      <th>Client Birth certificate</th>\n",
       "      <td>0.655172</td>\n",
       "      <td>0.703704</td>\n",
       "      <td>0.678571</td>\n",
       "      <td>135.0</td>\n",
       "    </tr>\n",
       "    <tr>\n",
       "      <th>Client DPS report</th>\n",
       "      <td>0.666667</td>\n",
       "      <td>0.421053</td>\n",
       "      <td>0.516129</td>\n",
       "      <td>19.0</td>\n",
       "    </tr>\n",
       "    <tr>\n",
       "      <th>Client Texas State ID</th>\n",
       "      <td>0.452489</td>\n",
       "      <td>0.680272</td>\n",
       "      <td>0.543478</td>\n",
       "      <td>147.0</td>\n",
       "    </tr>\n",
       "    <tr>\n",
       "      <th>Client assigned DACC CSR</th>\n",
       "      <td>0.666667</td>\n",
       "      <td>0.285714</td>\n",
       "      <td>0.400000</td>\n",
       "      <td>7.0</td>\n",
       "    </tr>\n",
       "    <tr>\n",
       "      <th>Client declined to sign release of information</th>\n",
       "      <td>0.000000</td>\n",
       "      <td>0.000000</td>\n",
       "      <td>0.000000</td>\n",
       "      <td>1.0</td>\n",
       "    </tr>\n",
       "    <tr>\n",
       "      <th>Collateral Contact</th>\n",
       "      <td>0.919764</td>\n",
       "      <td>0.809495</td>\n",
       "      <td>0.861114</td>\n",
       "      <td>5013.0</td>\n",
       "    </tr>\n",
       "    <tr>\n",
       "      <th>Coordinated Assessment Completed at DACC</th>\n",
       "      <td>0.862069</td>\n",
       "      <td>0.877193</td>\n",
       "      <td>0.869565</td>\n",
       "      <td>57.0</td>\n",
       "    </tr>\n",
       "    <tr>\n",
       "      <th>Coordinated Assessment Scheduled at DACC</th>\n",
       "      <td>0.690909</td>\n",
       "      <td>0.678571</td>\n",
       "      <td>0.684685</td>\n",
       "      <td>56.0</td>\n",
       "    </tr>\n",
       "    <tr>\n",
       "      <th>Direct Contact</th>\n",
       "      <td>0.956205</td>\n",
       "      <td>0.940044</td>\n",
       "      <td>0.948056</td>\n",
       "      <td>8106.0</td>\n",
       "    </tr>\n",
       "    <tr>\n",
       "      <th>HMIS Release of Information - Agreed</th>\n",
       "      <td>0.520000</td>\n",
       "      <td>0.619048</td>\n",
       "      <td>0.565217</td>\n",
       "      <td>21.0</td>\n",
       "    </tr>\n",
       "    <tr>\n",
       "      <th>HMIS profile created/updated</th>\n",
       "      <td>0.789474</td>\n",
       "      <td>0.633803</td>\n",
       "      <td>0.703125</td>\n",
       "      <td>71.0</td>\n",
       "    </tr>\n",
       "    <tr>\n",
       "      <th>Legal Issues</th>\n",
       "      <td>0.562500</td>\n",
       "      <td>0.606469</td>\n",
       "      <td>0.583658</td>\n",
       "      <td>371.0</td>\n",
       "    </tr>\n",
       "    <tr>\n",
       "      <th>No Show</th>\n",
       "      <td>0.829949</td>\n",
       "      <td>0.821608</td>\n",
       "      <td>0.825758</td>\n",
       "      <td>398.0</td>\n",
       "    </tr>\n",
       "    <tr>\n",
       "      <th>Release of information forms signed for all appropriate vendors and agencies</th>\n",
       "      <td>0.439024</td>\n",
       "      <td>0.439024</td>\n",
       "      <td>0.439024</td>\n",
       "      <td>82.0</td>\n",
       "    </tr>\n",
       "    <tr>\n",
       "      <th>Treatment Plan completed and signed</th>\n",
       "      <td>0.823529</td>\n",
       "      <td>0.368421</td>\n",
       "      <td>0.509091</td>\n",
       "      <td>38.0</td>\n",
       "    </tr>\n",
       "    <tr>\n",
       "      <th>micro avg</th>\n",
       "      <td>0.899524</td>\n",
       "      <td>0.865192</td>\n",
       "      <td>0.882024</td>\n",
       "      <td>15511.0</td>\n",
       "    </tr>\n",
       "    <tr>\n",
       "      <th>macro avg</th>\n",
       "      <td>0.663140</td>\n",
       "      <td>0.607758</td>\n",
       "      <td>0.621633</td>\n",
       "      <td>15511.0</td>\n",
       "    </tr>\n",
       "    <tr>\n",
       "      <th>weighted avg</th>\n",
       "      <td>0.904176</td>\n",
       "      <td>0.865192</td>\n",
       "      <td>0.882843</td>\n",
       "      <td>15511.0</td>\n",
       "    </tr>\n",
       "    <tr>\n",
       "      <th>samples avg</th>\n",
       "      <td>0.917520</td>\n",
       "      <td>0.901821</td>\n",
       "      <td>0.896207</td>\n",
       "      <td>15511.0</td>\n",
       "    </tr>\n",
       "  </tbody>\n",
       "</table>\n",
       "</div>"
      ],
      "text/plain": [
       "                                                                              precision    recall  f1-score  support\n",
       "Attempted client contact                                                       0.740557  0.809783  0.773624    920.0\n",
       "Client Assessment Conducted                                                    0.698413  0.637681  0.666667     69.0\n",
       "Client Birth certificate                                                       0.655172  0.703704  0.678571    135.0\n",
       "Client DPS report                                                              0.666667  0.421053  0.516129     19.0\n",
       "Client Texas State ID                                                          0.452489  0.680272  0.543478    147.0\n",
       "Client assigned DACC CSR                                                       0.666667  0.285714  0.400000      7.0\n",
       "Client declined to sign release of information                                 0.000000  0.000000  0.000000      1.0\n",
       "Collateral Contact                                                             0.919764  0.809495  0.861114   5013.0\n",
       "Coordinated Assessment Completed at DACC                                       0.862069  0.877193  0.869565     57.0\n",
       "Coordinated Assessment Scheduled at DACC                                       0.690909  0.678571  0.684685     56.0\n",
       "Direct Contact                                                                 0.956205  0.940044  0.948056   8106.0\n",
       "HMIS Release of Information - Agreed                                           0.520000  0.619048  0.565217     21.0\n",
       "HMIS profile created/updated                                                   0.789474  0.633803  0.703125     71.0\n",
       "Legal Issues                                                                   0.562500  0.606469  0.583658    371.0\n",
       "No Show                                                                        0.829949  0.821608  0.825758    398.0\n",
       "Release of information forms signed for all appropriate vendors and agencies   0.439024  0.439024  0.439024     82.0\n",
       "Treatment Plan completed and signed                                            0.823529  0.368421  0.509091     38.0\n",
       "micro avg                                                                      0.899524  0.865192  0.882024  15511.0\n",
       "macro avg                                                                      0.663140  0.607758  0.621633  15511.0\n",
       "weighted avg                                                                   0.904176  0.865192  0.882843  15511.0\n",
       "samples avg                                                                    0.917520  0.901821  0.896207  15511.0"
      ]
     },
     "metadata": {},
     "output_type": "display_data"
    }
   ],
   "source": [
    "compare_mixed_dataset(train_data, mixed_data_2, classes)\n",
    "get_min_max_labels(pd.Series(onehot_label_counts(mixed_data_2, \"LABELS\", classes)))\n",
    "\n",
    "clf2 = DistilBertMLClassifier(text_col=\"NOTE\", label_col=\"LABELS\", label_names=classes, train_data=mixed_data_2, test_data=test_data)\n",
    "\n",
    "print(str(clf2))\n",
    "print(\"---TESTING---\")\n",
    "clf2.train()\n",
    "print(\"---VALIDATION---\")\n",
    "clf2.validate()"
   ]
  },
  {
   "attachments": {},
   "cell_type": "markdown",
   "metadata": {},
   "source": [
    "### Dataset 1, T=4"
   ]
  },
  {
   "cell_type": "code",
   "execution_count": 21,
   "metadata": {},
   "outputs": [
    {
     "data": {
      "text/html": [
       "<div>\n",
       "<style scoped>\n",
       "    .dataframe tbody tr th:only-of-type {\n",
       "        vertical-align: middle;\n",
       "    }\n",
       "\n",
       "    .dataframe tbody tr th {\n",
       "        vertical-align: top;\n",
       "    }\n",
       "\n",
       "    .dataframe thead th {\n",
       "        text-align: right;\n",
       "    }\n",
       "</style>\n",
       "<table border=\"1\" class=\"dataframe\">\n",
       "  <thead>\n",
       "    <tr style=\"text-align: right;\">\n",
       "      <th></th>\n",
       "      <th>labels</th>\n",
       "      <th>original</th>\n",
       "      <th>mixed</th>\n",
       "    </tr>\n",
       "  </thead>\n",
       "  <tbody>\n",
       "    <tr>\n",
       "      <th>0</th>\n",
       "      <td>Attempted client contact</td>\n",
       "      <td>4027.0</td>\n",
       "      <td>5799.0</td>\n",
       "    </tr>\n",
       "    <tr>\n",
       "      <th>1</th>\n",
       "      <td>Client Assessment Conducted</td>\n",
       "      <td>234.0</td>\n",
       "      <td>4734.0</td>\n",
       "    </tr>\n",
       "    <tr>\n",
       "      <th>2</th>\n",
       "      <td>Client Birth certificate</td>\n",
       "      <td>552.0</td>\n",
       "      <td>3841.0</td>\n",
       "    </tr>\n",
       "    <tr>\n",
       "      <th>3</th>\n",
       "      <td>Client DPS report</td>\n",
       "      <td>61.0</td>\n",
       "      <td>1717.0</td>\n",
       "    </tr>\n",
       "    <tr>\n",
       "      <th>4</th>\n",
       "      <td>Client Texas State ID</td>\n",
       "      <td>622.0</td>\n",
       "      <td>4009.0</td>\n",
       "    </tr>\n",
       "    <tr>\n",
       "      <th>5</th>\n",
       "      <td>Client assigned DACC CSR</td>\n",
       "      <td>13.0</td>\n",
       "      <td>1174.0</td>\n",
       "    </tr>\n",
       "    <tr>\n",
       "      <th>6</th>\n",
       "      <td>Client declined to sign release of information</td>\n",
       "      <td>6.0</td>\n",
       "      <td>956.0</td>\n",
       "    </tr>\n",
       "    <tr>\n",
       "      <th>7</th>\n",
       "      <td>Collateral Contact</td>\n",
       "      <td>19741.0</td>\n",
       "      <td>13635.0</td>\n",
       "    </tr>\n",
       "    <tr>\n",
       "      <th>8</th>\n",
       "      <td>Coordinated Assessment Completed at DACC</td>\n",
       "      <td>238.0</td>\n",
       "      <td>4654.0</td>\n",
       "    </tr>\n",
       "    <tr>\n",
       "      <th>9</th>\n",
       "      <td>Coordinated Assessment Scheduled at DACC</td>\n",
       "      <td>213.0</td>\n",
       "      <td>3674.0</td>\n",
       "    </tr>\n",
       "    <tr>\n",
       "      <th>10</th>\n",
       "      <td>Direct Contact</td>\n",
       "      <td>32333.0</td>\n",
       "      <td>33615.0</td>\n",
       "    </tr>\n",
       "    <tr>\n",
       "      <th>11</th>\n",
       "      <td>HMIS Release of Information - Agreed</td>\n",
       "      <td>80.0</td>\n",
       "      <td>1871.0</td>\n",
       "    </tr>\n",
       "    <tr>\n",
       "      <th>12</th>\n",
       "      <td>HMIS profile created/updated</td>\n",
       "      <td>292.0</td>\n",
       "      <td>6059.0</td>\n",
       "    </tr>\n",
       "    <tr>\n",
       "      <th>13</th>\n",
       "      <td>Legal Issues</td>\n",
       "      <td>1463.0</td>\n",
       "      <td>5501.0</td>\n",
       "    </tr>\n",
       "    <tr>\n",
       "      <th>14</th>\n",
       "      <td>No Show</td>\n",
       "      <td>1495.0</td>\n",
       "      <td>4040.0</td>\n",
       "    </tr>\n",
       "    <tr>\n",
       "      <th>15</th>\n",
       "      <td>Release of information forms signed for all appropriate vendors and agencies</td>\n",
       "      <td>302.0</td>\n",
       "      <td>5038.0</td>\n",
       "    </tr>\n",
       "    <tr>\n",
       "      <th>16</th>\n",
       "      <td>Treatment Plan completed and signed</td>\n",
       "      <td>91.0</td>\n",
       "      <td>2288.0</td>\n",
       "    </tr>\n",
       "    <tr>\n",
       "      <th>Total</th>\n",
       "      <td>NaN</td>\n",
       "      <td>61763.0</td>\n",
       "      <td>102605.0</td>\n",
       "    </tr>\n",
       "  </tbody>\n",
       "</table>\n",
       "</div>"
      ],
      "text/plain": [
       "                                                                             labels  original     mixed\n",
       "0                                                          Attempted client contact    4027.0    5799.0\n",
       "1                                                       Client Assessment Conducted     234.0    4734.0\n",
       "2                                                          Client Birth certificate     552.0    3841.0\n",
       "3                                                                 Client DPS report      61.0    1717.0\n",
       "4                                                             Client Texas State ID     622.0    4009.0\n",
       "5                                                          Client assigned DACC CSR      13.0    1174.0\n",
       "6                                    Client declined to sign release of information       6.0     956.0\n",
       "7                                                                Collateral Contact   19741.0   13635.0\n",
       "8                                          Coordinated Assessment Completed at DACC     238.0    4654.0\n",
       "9                                          Coordinated Assessment Scheduled at DACC     213.0    3674.0\n",
       "10                                                                   Direct Contact   32333.0   33615.0\n",
       "11                                             HMIS Release of Information - Agreed      80.0    1871.0\n",
       "12                                                     HMIS profile created/updated     292.0    6059.0\n",
       "13                                                                     Legal Issues    1463.0    5501.0\n",
       "14                                                                          No Show    1495.0    4040.0\n",
       "15     Release of information forms signed for all appropriate vendors and agencies     302.0    5038.0\n",
       "16                                              Treatment Plan completed and signed      91.0    2288.0\n",
       "Total                                                                           NaN   61763.0  102605.0"
      ]
     },
     "metadata": {},
     "output_type": "display_data"
    },
    {
     "name": "stdout",
     "output_type": "stream",
     "text": [
      "Max Label: Direct Contact, 32.761561%\n",
      "Min Label: Client declined to sign release of information, 0.931728%\n",
      "TRAIN Dataset: (51249, 6)\n",
      "TEST Dataset: (12813, 6)\n"
     ]
    },
    {
     "name": "stderr",
     "output_type": "stream",
     "text": [
      "51249it [00:26, 1949.16it/s]\n",
      "12813it [00:06, 1906.19it/s]\n",
      "Some weights of the model checkpoint at distilbert-base-uncased were not used when initializing DistilBertModel: ['vocab_transform.bias', 'vocab_layer_norm.bias', 'vocab_projector.bias', 'vocab_transform.weight', 'vocab_layer_norm.weight', 'vocab_projector.weight']\n",
      "- This IS expected if you are initializing DistilBertModel from the checkpoint of a model trained on another task or with another architecture (e.g. initializing a BertForSequenceClassification model from a BertForPreTraining model).\n",
      "- This IS NOT expected if you are initializing DistilBertModel from the checkpoint of a model that you expect to be exactly identical (initializing a BertForSequenceClassification model from a BertForSequenceClassification model).\n"
     ]
    },
    {
     "name": "stdout",
     "output_type": "stream",
     "text": [
      "Hyperparams:\n",
      " max_tokens_per_example: 128\n",
      " train_batch_size: 4\n",
      " valid_batch_size: 4\n",
      " epochs: 1\n",
      " learning rate: 0.000010\n",
      " train_size: 51249\n",
      " test_size: 12813\n",
      "\n",
      "---TESTING---\n"
     ]
    },
    {
     "name": "stderr",
     "output_type": "stream",
     "text": [
      "1it [00:00,  7.58it/s]"
     ]
    },
    {
     "name": "stdout",
     "output_type": "stream",
     "text": [
      "Epoch: 0, Loss: 0.665086\n"
     ]
    },
    {
     "name": "stderr",
     "output_type": "stream",
     "text": [
      "5003it [04:03, 20.47it/s]"
     ]
    },
    {
     "name": "stdout",
     "output_type": "stream",
     "text": [
      "Epoch: 0, Loss: 0.066888\n"
     ]
    },
    {
     "name": "stderr",
     "output_type": "stream",
     "text": [
      "10003it [08:06, 19.23it/s]"
     ]
    },
    {
     "name": "stdout",
     "output_type": "stream",
     "text": [
      "Epoch: 0, Loss: 0.023495\n"
     ]
    },
    {
     "name": "stderr",
     "output_type": "stream",
     "text": [
      "12813it [10:14, 20.86it/s]\n"
     ]
    },
    {
     "name": "stdout",
     "output_type": "stream",
     "text": [
      "---VALIDATION---\n"
     ]
    },
    {
     "name": "stderr",
     "output_type": "stream",
     "text": [
      "3204it [00:33, 94.95it/s]"
     ]
    },
    {
     "name": "stdout",
     "output_type": "stream",
     "text": [
      "Hamming Loss: 0.018194\n"
     ]
    },
    {
     "name": "stderr",
     "output_type": "stream",
     "text": [
      "\n"
     ]
    },
    {
     "data": {
      "text/html": [
       "<div>\n",
       "<style scoped>\n",
       "    .dataframe tbody tr th:only-of-type {\n",
       "        vertical-align: middle;\n",
       "    }\n",
       "\n",
       "    .dataframe tbody tr th {\n",
       "        vertical-align: top;\n",
       "    }\n",
       "\n",
       "    .dataframe thead th {\n",
       "        text-align: right;\n",
       "    }\n",
       "</style>\n",
       "<table border=\"1\" class=\"dataframe\">\n",
       "  <thead>\n",
       "    <tr style=\"text-align: right;\">\n",
       "      <th></th>\n",
       "      <th>precision</th>\n",
       "      <th>recall</th>\n",
       "      <th>f1-score</th>\n",
       "      <th>support</th>\n",
       "    </tr>\n",
       "  </thead>\n",
       "  <tbody>\n",
       "    <tr>\n",
       "      <th>Attempted client contact</th>\n",
       "      <td>0.691580</td>\n",
       "      <td>0.794565</td>\n",
       "      <td>0.739504</td>\n",
       "      <td>920.0</td>\n",
       "    </tr>\n",
       "    <tr>\n",
       "      <th>Client Assessment Conducted</th>\n",
       "      <td>0.630952</td>\n",
       "      <td>0.768116</td>\n",
       "      <td>0.692810</td>\n",
       "      <td>69.0</td>\n",
       "    </tr>\n",
       "    <tr>\n",
       "      <th>Client Birth certificate</th>\n",
       "      <td>0.494845</td>\n",
       "      <td>0.711111</td>\n",
       "      <td>0.583587</td>\n",
       "      <td>135.0</td>\n",
       "    </tr>\n",
       "    <tr>\n",
       "      <th>Client DPS report</th>\n",
       "      <td>0.666667</td>\n",
       "      <td>0.526316</td>\n",
       "      <td>0.588235</td>\n",
       "      <td>19.0</td>\n",
       "    </tr>\n",
       "    <tr>\n",
       "      <th>Client Texas State ID</th>\n",
       "      <td>0.370107</td>\n",
       "      <td>0.707483</td>\n",
       "      <td>0.485981</td>\n",
       "      <td>147.0</td>\n",
       "    </tr>\n",
       "    <tr>\n",
       "      <th>Client assigned DACC CSR</th>\n",
       "      <td>0.500000</td>\n",
       "      <td>0.285714</td>\n",
       "      <td>0.363636</td>\n",
       "      <td>7.0</td>\n",
       "    </tr>\n",
       "    <tr>\n",
       "      <th>Client declined to sign release of information</th>\n",
       "      <td>0.000000</td>\n",
       "      <td>0.000000</td>\n",
       "      <td>0.000000</td>\n",
       "      <td>1.0</td>\n",
       "    </tr>\n",
       "    <tr>\n",
       "      <th>Collateral Contact</th>\n",
       "      <td>0.897717</td>\n",
       "      <td>0.831638</td>\n",
       "      <td>0.863415</td>\n",
       "      <td>5013.0</td>\n",
       "    </tr>\n",
       "    <tr>\n",
       "      <th>Coordinated Assessment Completed at DACC</th>\n",
       "      <td>0.796875</td>\n",
       "      <td>0.894737</td>\n",
       "      <td>0.842975</td>\n",
       "      <td>57.0</td>\n",
       "    </tr>\n",
       "    <tr>\n",
       "      <th>Coordinated Assessment Scheduled at DACC</th>\n",
       "      <td>0.525000</td>\n",
       "      <td>0.750000</td>\n",
       "      <td>0.617647</td>\n",
       "      <td>56.0</td>\n",
       "    </tr>\n",
       "    <tr>\n",
       "      <th>Direct Contact</th>\n",
       "      <td>0.958413</td>\n",
       "      <td>0.929682</td>\n",
       "      <td>0.943829</td>\n",
       "      <td>8106.0</td>\n",
       "    </tr>\n",
       "    <tr>\n",
       "      <th>HMIS Release of Information - Agreed</th>\n",
       "      <td>0.533333</td>\n",
       "      <td>0.380952</td>\n",
       "      <td>0.444444</td>\n",
       "      <td>21.0</td>\n",
       "    </tr>\n",
       "    <tr>\n",
       "      <th>HMIS profile created/updated</th>\n",
       "      <td>0.628571</td>\n",
       "      <td>0.619718</td>\n",
       "      <td>0.624113</td>\n",
       "      <td>71.0</td>\n",
       "    </tr>\n",
       "    <tr>\n",
       "      <th>Legal Issues</th>\n",
       "      <td>0.506073</td>\n",
       "      <td>0.673854</td>\n",
       "      <td>0.578035</td>\n",
       "      <td>371.0</td>\n",
       "    </tr>\n",
       "    <tr>\n",
       "      <th>No Show</th>\n",
       "      <td>0.728016</td>\n",
       "      <td>0.894472</td>\n",
       "      <td>0.802706</td>\n",
       "      <td>398.0</td>\n",
       "    </tr>\n",
       "    <tr>\n",
       "      <th>Release of information forms signed for all appropriate vendors and agencies</th>\n",
       "      <td>0.434783</td>\n",
       "      <td>0.365854</td>\n",
       "      <td>0.397351</td>\n",
       "      <td>82.0</td>\n",
       "    </tr>\n",
       "    <tr>\n",
       "      <th>Treatment Plan completed and signed</th>\n",
       "      <td>0.684211</td>\n",
       "      <td>0.342105</td>\n",
       "      <td>0.456140</td>\n",
       "      <td>38.0</td>\n",
       "    </tr>\n",
       "    <tr>\n",
       "      <th>micro avg</th>\n",
       "      <td>0.873915</td>\n",
       "      <td>0.870028</td>\n",
       "      <td>0.871967</td>\n",
       "      <td>15511.0</td>\n",
       "    </tr>\n",
       "    <tr>\n",
       "      <th>macro avg</th>\n",
       "      <td>0.591008</td>\n",
       "      <td>0.616254</td>\n",
       "      <td>0.589671</td>\n",
       "      <td>15511.0</td>\n",
       "    </tr>\n",
       "    <tr>\n",
       "      <th>weighted avg</th>\n",
       "      <td>0.886862</td>\n",
       "      <td>0.870028</td>\n",
       "      <td>0.876229</td>\n",
       "      <td>15511.0</td>\n",
       "    </tr>\n",
       "    <tr>\n",
       "      <th>samples avg</th>\n",
       "      <td>0.899344</td>\n",
       "      <td>0.903511</td>\n",
       "      <td>0.886340</td>\n",
       "      <td>15511.0</td>\n",
       "    </tr>\n",
       "  </tbody>\n",
       "</table>\n",
       "</div>"
      ],
      "text/plain": [
       "                                                                              precision    recall  f1-score  support\n",
       "Attempted client contact                                                       0.691580  0.794565  0.739504    920.0\n",
       "Client Assessment Conducted                                                    0.630952  0.768116  0.692810     69.0\n",
       "Client Birth certificate                                                       0.494845  0.711111  0.583587    135.0\n",
       "Client DPS report                                                              0.666667  0.526316  0.588235     19.0\n",
       "Client Texas State ID                                                          0.370107  0.707483  0.485981    147.0\n",
       "Client assigned DACC CSR                                                       0.500000  0.285714  0.363636      7.0\n",
       "Client declined to sign release of information                                 0.000000  0.000000  0.000000      1.0\n",
       "Collateral Contact                                                             0.897717  0.831638  0.863415   5013.0\n",
       "Coordinated Assessment Completed at DACC                                       0.796875  0.894737  0.842975     57.0\n",
       "Coordinated Assessment Scheduled at DACC                                       0.525000  0.750000  0.617647     56.0\n",
       "Direct Contact                                                                 0.958413  0.929682  0.943829   8106.0\n",
       "HMIS Release of Information - Agreed                                           0.533333  0.380952  0.444444     21.0\n",
       "HMIS profile created/updated                                                   0.628571  0.619718  0.624113     71.0\n",
       "Legal Issues                                                                   0.506073  0.673854  0.578035    371.0\n",
       "No Show                                                                        0.728016  0.894472  0.802706    398.0\n",
       "Release of information forms signed for all appropriate vendors and agencies   0.434783  0.365854  0.397351     82.0\n",
       "Treatment Plan completed and signed                                            0.684211  0.342105  0.456140     38.0\n",
       "micro avg                                                                      0.873915  0.870028  0.871967  15511.0\n",
       "macro avg                                                                      0.591008  0.616254  0.589671  15511.0\n",
       "weighted avg                                                                   0.886862  0.870028  0.876229  15511.0\n",
       "samples avg                                                                    0.899344  0.903511  0.886340  15511.0"
      ]
     },
     "metadata": {},
     "output_type": "display_data"
    }
   ],
   "source": [
    "compare_mixed_dataset(train_data, mixed_data_3, classes)\n",
    "get_min_max_labels(pd.Series(onehot_label_counts(mixed_data_3, \"LABELS\", classes)))\n",
    "\n",
    "clf2 = DistilBertMLClassifier(text_col=\"NOTE\", label_col=\"LABELS\", label_names=classes, train_data=mixed_data_3, test_data=test_data)\n",
    "\n",
    "print(str(clf2))\n",
    "print(\"---TESTING---\")\n",
    "clf2.train()\n",
    "print(\"---VALIDATION---\")\n",
    "clf2.validate()"
   ]
  },
  {
   "cell_type": "code",
   "execution_count": 22,
   "metadata": {},
   "outputs": [],
   "source": [
    "# Lets do a visual inspection of the test data on labels that appear less than 10 times in the test set \n",
    "# Because our main goal is test recall. So those labels that appear fewest are the ones to check.\n",
    "from IPython.display import display\n",
    "\n",
    "# For each class, sample 5 notes from the testset and run classifier\n",
    "def run_tests(clf, num_samples):\n",
    "    for class_label in classes:\n",
    "        print(\"Label: %s\" % class_label)\n",
    "        qual_test = test_data[test_data[\"MIN_DESC\"] == class_label]\n",
    "\n",
    "        if qual_test.empty:\n",
    "            continue\n",
    "\n",
    "        qual_test = qual_test.sample(min(num_samples, len(qual_test.index)))\n",
    "\n",
    "        qual_test.reset_index(inplace=True, drop=True)\n",
    "        display(test_classifier(qual_test, classes, clf)[[\"NOTE\", \"LABELS\", \"ACTUALS\"]])"
   ]
  },
  {
   "attachments": {},
   "cell_type": "markdown",
   "metadata": {},
   "source": [
    "#### Other thoughts\n",
    "\n",
    "Some things I could try\n",
    "- Few shot classification. \n",
    "  - Getting expert data by asking case managers to write sentences that would commonly correspond to a label. Maybe 5 sentences per label (per case manager?).\n",
    "  - Might be better than our case data because so many case notes don't actually contain information about the boxes that are checked.  \n",
    "- Training using the label text as the input and output"
   ]
  },
  {
   "attachments": {},
   "cell_type": "markdown",
   "metadata": {},
   "source": [
    "### Part 3: Re-run CLFs with Data Cleaning Method 2"
   ]
  },
  {
   "cell_type": "code",
   "execution_count": 23,
   "metadata": {},
   "outputs": [
    {
     "name": "stdout",
     "output_type": "stream",
     "text": [
      "--- LOADING DATA... ---\n"
     ]
    },
    {
     "name": "stderr",
     "output_type": "stream",
     "text": [
      "d:\\cs\\dacc\\dacc-experimentation\\notebooks\\util\\utilities.py:31: DtypeWarning: Columns (7) have mixed types. Specify dtype option on import or set low_memory=False.\n",
      "  df = pd.read_csv(strs[name], **args)\n"
     ]
    },
    {
     "name": "stdout",
     "output_type": "stream",
     "text": [
      "Total initial entries: 108804\n",
      "Total initial notes: 64385\n",
      "- Removed irrelevant columns for checkbox classification, kept: Index(['NOTEID', 'NOTE', 'DESCRIPTION', 'GROUPNAME'], dtype='object')\n",
      "- Dropped empty notes\n",
      "- Dropped interventions checkboxes\n",
      "- Consolidated duplicate labels using the provided mappings.\n",
      "{'Direct Contact': ['Client contact in office', 'Direct Contact through Outreach', 'Client contact', 'Client Contact out of office'], 'Attempted client contact': ['Attempted client contact through Outreach', 'Attempt to locate client'], 'Client Assessment Conducted': ['New Client assessment completed'], 'Coordinated Assessment Completed at DACC': ['Coordinated Assessment Completed through HOST contact', 'Coordinated Assessment Scheduled at DACC'], 'Release of information forms signed for all appropriate vendors and agencies': ['Client declined to sign release of information']}\n",
      "- Dropped entries containing the provided labels\n",
      "- Substituted occurences of words in text with provided word mappings\n",
      "{'birth certificate': ['birth cert', 'birth certificate', 'bc'], 'texas id': ['texas id', 'tx id', 'state id', 'texas state id', 'tx state id'], '_CM_': ['case manager', 'casemanager', 'writer', 'cm'], 'case manager': ['_CM_', 'this _CM_'], 'coordinated assessment': ['coordinated assessment'], 'social security card': ['ss', 'ssc'], 'ROI': ['release of information', 'rois'], 'client': ['cl', 'client', 'clt', 'peer']}\n",
      "Total labels: 11\n",
      "Total entries after preprocessing: 5076\n",
      "Total notes after preprocessing: 4105\n",
      "--- FINISHED LOADING DATA. ---\n"
     ]
    },
    {
     "data": {
      "text/plain": [
       "Legal Issues                                                                    1834\n",
       "Client Texas State ID                                                            769\n",
       "Client Birth certificate                                                         687\n",
       "Coordinated Assessment Completed at DACC                                         400\n",
       "Release of information forms signed for all appropriate vendors and agencies     390\n",
       "HMIS profile created/updated                                                     363\n",
       "Client Assessment Conducted                                                      303\n",
       "Treatment Plan completed and signed                                              129\n",
       "HMIS Release of Information - Agreed                                             101\n",
       "Client DPS report                                                                 80\n",
       "Client assigned DACC CSR                                                          20\n",
       "Name: DESCRIPTION, dtype: int64"
      ]
     },
     "execution_count": 23,
     "metadata": {},
     "output_type": "execute_result"
    }
   ],
   "source": [
    "all_labels_to_ignore = contact_labels + bad_labels\n",
    "\n",
    "df2 = get_clf_data(duplicate_labels_dict=duplicates_2,\n",
    "                   word_replace_dict=word_replace_dict,\n",
    "                   labels_to_ignore=all_labels_to_ignore)\n",
    "df2[\"DESCRIPTION\"].value_counts()"
   ]
  },
  {
   "attachments": {},
   "cell_type": "markdown",
   "metadata": {},
   "source": [
    "### No Upsampling"
   ]
  },
  {
   "cell_type": "code",
   "execution_count": 24,
   "metadata": {},
   "outputs": [
    {
     "data": {
      "text/plain": [
       "Client Assessment Conducted                                                      230\n",
       "Client Birth certificate                                                         539\n",
       "Client DPS report                                                                 67\n",
       "Client Texas State ID                                                            607\n",
       "Client assigned DACC CSR                                                          14\n",
       "Coordinated Assessment Completed at DACC                                         327\n",
       "HMIS Release of Information - Agreed                                              79\n",
       "HMIS profile created/updated                                                     291\n",
       "Legal Issues                                                                    1479\n",
       "Release of information forms signed for all appropriate vendors and agencies     314\n",
       "Treatment Plan completed and signed                                               95\n",
       "dtype: int32"
      ]
     },
     "metadata": {},
     "output_type": "display_data"
    },
    {
     "name": "stdout",
     "output_type": "stream",
     "text": [
      "Max Label: Legal Issues, 36.590797%\n",
      "Min Label: Client assigned DACC CSR, 0.346363%\n"
     ]
    }
   ],
   "source": [
    "df2 = min_descriptions(df2, \"DESCRIPTION\", \"MIN_DESC\", \"NOTEID\")\n",
    "oh_df2, classes = one_hot_encode(df=df2, label_col=\"DESCRIPTION\", new_col=\"LABELS\", duplicate_id_col=\"NOTEID\")\n",
    "\n",
    "test_size = 0.2\n",
    "train_data, test_data = train_test_split(oh_df2, test_size=test_size, random_state=76)\n",
    "\n",
    "train_data.reset_index(drop=True, inplace=True)\n",
    "test_data.reset_index(drop=True, inplace=True)\n",
    "\n",
    "train_data_counts = pd.Series(onehot_label_counts(train_data, \"LABELS\", classes))\n",
    "\n",
    "display(train_data_counts)\n",
    "get_min_max_labels(train_data_counts)"
   ]
  },
  {
   "cell_type": "code",
   "execution_count": 25,
   "metadata": {},
   "outputs": [],
   "source": [
    "mixed_data_1 = temperature_scaled_mixing(df=train_data, label_col=\"MIN_DESC\", T=1.5, K=largeK)\n",
    "mixed_data_2 = temperature_scaled_mixing(df=train_data, label_col=\"MIN_DESC\", T=2, K=largeK)\n",
    "mixed_data_3 = temperature_scaled_mixing(df=train_data, label_col=\"MIN_DESC\", T=4, K=largeK)\n",
    "\n",
    "mixed_data_1.reset_index(drop=True, inplace=True)\n",
    "test_data.reset_index(drop=True, inplace=True)"
   ]
  },
  {
   "attachments": {},
   "cell_type": "markdown",
   "metadata": {},
   "source": [
    "### Dataset 2, unmixed"
   ]
  },
  {
   "cell_type": "code",
   "execution_count": 26,
   "metadata": {},
   "outputs": [
    {
     "name": "stdout",
     "output_type": "stream",
     "text": [
      "TRAIN Dataset: (3284, 6)\n",
      "TEST Dataset: (821, 6)\n"
     ]
    },
    {
     "name": "stderr",
     "output_type": "stream",
     "text": [
      "3284it [00:01, 1821.45it/s]\n",
      "821it [00:00, 1729.62it/s]\n",
      "Some weights of the model checkpoint at distilbert-base-uncased were not used when initializing DistilBertModel: ['vocab_transform.bias', 'vocab_layer_norm.bias', 'vocab_projector.bias', 'vocab_transform.weight', 'vocab_layer_norm.weight', 'vocab_projector.weight']\n",
      "- This IS expected if you are initializing DistilBertModel from the checkpoint of a model trained on another task or with another architecture (e.g. initializing a BertForSequenceClassification model from a BertForPreTraining model).\n",
      "- This IS NOT expected if you are initializing DistilBertModel from the checkpoint of a model that you expect to be exactly identical (initializing a BertForSequenceClassification model from a BertForSequenceClassification model).\n"
     ]
    },
    {
     "name": "stdout",
     "output_type": "stream",
     "text": [
      "Hyperparams:\n",
      " max_tokens_per_example: 256\n",
      " train_batch_size: 4\n",
      " valid_batch_size: 4\n",
      " epochs: 4\n",
      " learning rate: 0.000010\n",
      " train_size: 3284\n",
      " test_size: 821\n",
      "\n",
      "---TESTING---\n"
     ]
    },
    {
     "name": "stderr",
     "output_type": "stream",
     "text": [
      "1it [00:00,  9.69it/s]"
     ]
    },
    {
     "name": "stdout",
     "output_type": "stream",
     "text": [
      "Epoch: 0, Loss: 0.712360\n"
     ]
    },
    {
     "name": "stderr",
     "output_type": "stream",
     "text": [
      "821it [00:57, 14.38it/s]\n",
      "2it [00:00, 14.50it/s]"
     ]
    },
    {
     "name": "stdout",
     "output_type": "stream",
     "text": [
      "Epoch: 1, Loss: 0.129594\n"
     ]
    },
    {
     "name": "stderr",
     "output_type": "stream",
     "text": [
      "821it [00:57, 14.35it/s]\n",
      "2it [00:00, 14.72it/s]"
     ]
    },
    {
     "name": "stdout",
     "output_type": "stream",
     "text": [
      "Epoch: 2, Loss: 0.051868\n"
     ]
    },
    {
     "name": "stderr",
     "output_type": "stream",
     "text": [
      "821it [00:59, 13.82it/s]\n",
      "2it [00:00, 13.76it/s]"
     ]
    },
    {
     "name": "stdout",
     "output_type": "stream",
     "text": [
      "Epoch: 3, Loss: 0.022838\n"
     ]
    },
    {
     "name": "stderr",
     "output_type": "stream",
     "text": [
      "821it [01:01, 13.45it/s]\n"
     ]
    },
    {
     "name": "stdout",
     "output_type": "stream",
     "text": [
      "---VALIDATION---\n"
     ]
    },
    {
     "name": "stderr",
     "output_type": "stream",
     "text": [
      "206it [00:04, 45.11it/s]"
     ]
    },
    {
     "name": "stdout",
     "output_type": "stream",
     "text": [
      "Hamming Loss: 0.035544\n"
     ]
    },
    {
     "name": "stderr",
     "output_type": "stream",
     "text": [
      "\n"
     ]
    },
    {
     "data": {
      "text/html": [
       "<div>\n",
       "<style scoped>\n",
       "    .dataframe tbody tr th:only-of-type {\n",
       "        vertical-align: middle;\n",
       "    }\n",
       "\n",
       "    .dataframe tbody tr th {\n",
       "        vertical-align: top;\n",
       "    }\n",
       "\n",
       "    .dataframe thead th {\n",
       "        text-align: right;\n",
       "    }\n",
       "</style>\n",
       "<table border=\"1\" class=\"dataframe\">\n",
       "  <thead>\n",
       "    <tr style=\"text-align: right;\">\n",
       "      <th></th>\n",
       "      <th>precision</th>\n",
       "      <th>recall</th>\n",
       "      <th>f1-score</th>\n",
       "      <th>support</th>\n",
       "    </tr>\n",
       "  </thead>\n",
       "  <tbody>\n",
       "    <tr>\n",
       "      <th>Client Assessment Conducted</th>\n",
       "      <td>0.847458</td>\n",
       "      <td>0.684932</td>\n",
       "      <td>0.757576</td>\n",
       "      <td>73.0</td>\n",
       "    </tr>\n",
       "    <tr>\n",
       "      <th>Client Birth certificate</th>\n",
       "      <td>0.951613</td>\n",
       "      <td>0.797297</td>\n",
       "      <td>0.867647</td>\n",
       "      <td>148.0</td>\n",
       "    </tr>\n",
       "    <tr>\n",
       "      <th>Client DPS report</th>\n",
       "      <td>1.000000</td>\n",
       "      <td>0.692308</td>\n",
       "      <td>0.818182</td>\n",
       "      <td>13.0</td>\n",
       "    </tr>\n",
       "    <tr>\n",
       "      <th>Client Texas State ID</th>\n",
       "      <td>0.888889</td>\n",
       "      <td>0.839506</td>\n",
       "      <td>0.863492</td>\n",
       "      <td>162.0</td>\n",
       "    </tr>\n",
       "    <tr>\n",
       "      <th>Client assigned DACC CSR</th>\n",
       "      <td>0.000000</td>\n",
       "      <td>0.000000</td>\n",
       "      <td>0.000000</td>\n",
       "      <td>6.0</td>\n",
       "    </tr>\n",
       "    <tr>\n",
       "      <th>Coordinated Assessment Completed at DACC</th>\n",
       "      <td>0.953846</td>\n",
       "      <td>0.849315</td>\n",
       "      <td>0.898551</td>\n",
       "      <td>73.0</td>\n",
       "    </tr>\n",
       "    <tr>\n",
       "      <th>HMIS Release of Information - Agreed</th>\n",
       "      <td>0.666667</td>\n",
       "      <td>0.272727</td>\n",
       "      <td>0.387097</td>\n",
       "      <td>22.0</td>\n",
       "    </tr>\n",
       "    <tr>\n",
       "      <th>HMIS profile created/updated</th>\n",
       "      <td>0.925000</td>\n",
       "      <td>0.513889</td>\n",
       "      <td>0.660714</td>\n",
       "      <td>72.0</td>\n",
       "    </tr>\n",
       "    <tr>\n",
       "      <th>Legal Issues</th>\n",
       "      <td>0.934286</td>\n",
       "      <td>0.921127</td>\n",
       "      <td>0.927660</td>\n",
       "      <td>355.0</td>\n",
       "    </tr>\n",
       "    <tr>\n",
       "      <th>Release of information forms signed for all appropriate vendors and agencies</th>\n",
       "      <td>0.771930</td>\n",
       "      <td>0.578947</td>\n",
       "      <td>0.661654</td>\n",
       "      <td>76.0</td>\n",
       "    </tr>\n",
       "    <tr>\n",
       "      <th>Treatment Plan completed and signed</th>\n",
       "      <td>1.000000</td>\n",
       "      <td>0.029412</td>\n",
       "      <td>0.057143</td>\n",
       "      <td>34.0</td>\n",
       "    </tr>\n",
       "    <tr>\n",
       "      <th>micro avg</th>\n",
       "      <td>0.911188</td>\n",
       "      <td>0.764023</td>\n",
       "      <td>0.831142</td>\n",
       "      <td>1034.0</td>\n",
       "    </tr>\n",
       "    <tr>\n",
       "      <th>macro avg</th>\n",
       "      <td>0.812699</td>\n",
       "      <td>0.561769</td>\n",
       "      <td>0.627247</td>\n",
       "      <td>1034.0</td>\n",
       "    </tr>\n",
       "    <tr>\n",
       "      <th>weighted avg</th>\n",
       "      <td>0.904196</td>\n",
       "      <td>0.764023</td>\n",
       "      <td>0.809929</td>\n",
       "      <td>1034.0</td>\n",
       "    </tr>\n",
       "    <tr>\n",
       "      <th>samples avg</th>\n",
       "      <td>0.881039</td>\n",
       "      <td>0.831892</td>\n",
       "      <td>0.844470</td>\n",
       "      <td>1034.0</td>\n",
       "    </tr>\n",
       "  </tbody>\n",
       "</table>\n",
       "</div>"
      ],
      "text/plain": [
       "                                                                              precision    recall  f1-score  support\n",
       "Client Assessment Conducted                                                    0.847458  0.684932  0.757576     73.0\n",
       "Client Birth certificate                                                       0.951613  0.797297  0.867647    148.0\n",
       "Client DPS report                                                              1.000000  0.692308  0.818182     13.0\n",
       "Client Texas State ID                                                          0.888889  0.839506  0.863492    162.0\n",
       "Client assigned DACC CSR                                                       0.000000  0.000000  0.000000      6.0\n",
       "Coordinated Assessment Completed at DACC                                       0.953846  0.849315  0.898551     73.0\n",
       "HMIS Release of Information - Agreed                                           0.666667  0.272727  0.387097     22.0\n",
       "HMIS profile created/updated                                                   0.925000  0.513889  0.660714     72.0\n",
       "Legal Issues                                                                   0.934286  0.921127  0.927660    355.0\n",
       "Release of information forms signed for all appropriate vendors and agencies   0.771930  0.578947  0.661654     76.0\n",
       "Treatment Plan completed and signed                                            1.000000  0.029412  0.057143     34.0\n",
       "micro avg                                                                      0.911188  0.764023  0.831142   1034.0\n",
       "macro avg                                                                      0.812699  0.561769  0.627247   1034.0\n",
       "weighted avg                                                                   0.904196  0.764023  0.809929   1034.0\n",
       "samples avg                                                                    0.881039  0.831892  0.844470   1034.0"
      ]
     },
     "metadata": {},
     "output_type": "display_data"
    }
   ],
   "source": [
    "# max token len is 128 by default\n",
    "epochs=4\n",
    "max_len=256\n",
    "\n",
    "clf3 = DistilBertMLClassifier(text_col=\"NOTE\", label_col=\"LABELS\", label_names=classes, train_data=train_data, test_data=test_data,\n",
    "                              epochs=epochs, max_len=max_len)\n",
    "\n",
    "print(str(clf3))\n",
    "print(\"---TESTING---\")\n",
    "clf3.train()\n",
    "print(\"---VALIDATION---\")\n",
    "clf3.validate()"
   ]
  },
  {
   "attachments": {},
   "cell_type": "markdown",
   "metadata": {},
   "source": [
    "### Upsampling"
   ]
  },
  {
   "attachments": {},
   "cell_type": "markdown",
   "metadata": {},
   "source": [
    "### Dataset 2, T=1.5"
   ]
  },
  {
   "cell_type": "code",
   "execution_count": 27,
   "metadata": {},
   "outputs": [
    {
     "data": {
      "text/html": [
       "<div>\n",
       "<style scoped>\n",
       "    .dataframe tbody tr th:only-of-type {\n",
       "        vertical-align: middle;\n",
       "    }\n",
       "\n",
       "    .dataframe tbody tr th {\n",
       "        vertical-align: top;\n",
       "    }\n",
       "\n",
       "    .dataframe thead th {\n",
       "        text-align: right;\n",
       "    }\n",
       "</style>\n",
       "<table border=\"1\" class=\"dataframe\">\n",
       "  <thead>\n",
       "    <tr style=\"text-align: right;\">\n",
       "      <th></th>\n",
       "      <th>labels</th>\n",
       "      <th>original</th>\n",
       "      <th>mixed</th>\n",
       "    </tr>\n",
       "  </thead>\n",
       "  <tbody>\n",
       "    <tr>\n",
       "      <th>0</th>\n",
       "      <td>Client Assessment Conducted</td>\n",
       "      <td>230.0</td>\n",
       "      <td>357.0</td>\n",
       "    </tr>\n",
       "    <tr>\n",
       "      <th>1</th>\n",
       "      <td>Client Birth certificate</td>\n",
       "      <td>539.0</td>\n",
       "      <td>538.0</td>\n",
       "    </tr>\n",
       "    <tr>\n",
       "      <th>2</th>\n",
       "      <td>Client DPS report</td>\n",
       "      <td>67.0</td>\n",
       "      <td>128.0</td>\n",
       "    </tr>\n",
       "    <tr>\n",
       "      <th>3</th>\n",
       "      <td>Client Texas State ID</td>\n",
       "      <td>607.0</td>\n",
       "      <td>605.0</td>\n",
       "    </tr>\n",
       "    <tr>\n",
       "      <th>4</th>\n",
       "      <td>Client assigned DACC CSR</td>\n",
       "      <td>14.0</td>\n",
       "      <td>45.0</td>\n",
       "    </tr>\n",
       "    <tr>\n",
       "      <th>5</th>\n",
       "      <td>Coordinated Assessment Completed at DACC</td>\n",
       "      <td>327.0</td>\n",
       "      <td>492.0</td>\n",
       "    </tr>\n",
       "    <tr>\n",
       "      <th>6</th>\n",
       "      <td>HMIS Release of Information - Agreed</td>\n",
       "      <td>79.0</td>\n",
       "      <td>152.0</td>\n",
       "    </tr>\n",
       "    <tr>\n",
       "      <th>7</th>\n",
       "      <td>HMIS profile created/updated</td>\n",
       "      <td>291.0</td>\n",
       "      <td>453.0</td>\n",
       "    </tr>\n",
       "    <tr>\n",
       "      <th>8</th>\n",
       "      <td>Legal Issues</td>\n",
       "      <td>1479.0</td>\n",
       "      <td>1118.0</td>\n",
       "    </tr>\n",
       "    <tr>\n",
       "      <th>9</th>\n",
       "      <td>Release of information forms signed for all appropriate vendors and agencies</td>\n",
       "      <td>314.0</td>\n",
       "      <td>481.0</td>\n",
       "    </tr>\n",
       "    <tr>\n",
       "      <th>10</th>\n",
       "      <td>Treatment Plan completed and signed</td>\n",
       "      <td>95.0</td>\n",
       "      <td>160.0</td>\n",
       "    </tr>\n",
       "    <tr>\n",
       "      <th>Total</th>\n",
       "      <td>NaN</td>\n",
       "      <td>4042.0</td>\n",
       "      <td>4529.0</td>\n",
       "    </tr>\n",
       "  </tbody>\n",
       "</table>\n",
       "</div>"
      ],
      "text/plain": [
       "                                                                             labels  original   mixed\n",
       "0                                                       Client Assessment Conducted     230.0   357.0\n",
       "1                                                          Client Birth certificate     539.0   538.0\n",
       "2                                                                 Client DPS report      67.0   128.0\n",
       "3                                                             Client Texas State ID     607.0   605.0\n",
       "4                                                          Client assigned DACC CSR      14.0    45.0\n",
       "5                                          Coordinated Assessment Completed at DACC     327.0   492.0\n",
       "6                                              HMIS Release of Information - Agreed      79.0   152.0\n",
       "7                                                      HMIS profile created/updated     291.0   453.0\n",
       "8                                                                      Legal Issues    1479.0  1118.0\n",
       "9      Release of information forms signed for all appropriate vendors and agencies     314.0   481.0\n",
       "10                                              Treatment Plan completed and signed      95.0   160.0\n",
       "Total                                                                           NaN    4042.0  4529.0"
      ]
     },
     "metadata": {},
     "output_type": "display_data"
    },
    {
     "name": "stdout",
     "output_type": "stream",
     "text": [
      "Max Label: Legal Issues, 24.685361%\n",
      "Min Label: Client assigned DACC CSR, 0.993597%\n",
      "TRAIN Dataset: (3284, 6)\n",
      "TEST Dataset: (821, 6)\n"
     ]
    },
    {
     "name": "stderr",
     "output_type": "stream",
     "text": [
      "3284it [00:02, 1619.22it/s]\n",
      "821it [00:00, 1563.03it/s]\n",
      "Some weights of the model checkpoint at distilbert-base-uncased were not used when initializing DistilBertModel: ['vocab_transform.bias', 'vocab_layer_norm.bias', 'vocab_projector.bias', 'vocab_transform.weight', 'vocab_layer_norm.weight', 'vocab_projector.weight']\n",
      "- This IS expected if you are initializing DistilBertModel from the checkpoint of a model trained on another task or with another architecture (e.g. initializing a BertForSequenceClassification model from a BertForPreTraining model).\n",
      "- This IS NOT expected if you are initializing DistilBertModel from the checkpoint of a model that you expect to be exactly identical (initializing a BertForSequenceClassification model from a BertForSequenceClassification model).\n"
     ]
    },
    {
     "name": "stdout",
     "output_type": "stream",
     "text": [
      "Hyperparams:\n",
      " max_tokens_per_example: 256\n",
      " train_batch_size: 4\n",
      " valid_batch_size: 4\n",
      " epochs: 4\n",
      " learning rate: 0.000010\n",
      " train_size: 3284\n",
      " test_size: 821\n",
      "\n",
      "---TESTING---\n"
     ]
    },
    {
     "name": "stderr",
     "output_type": "stream",
     "text": [
      "1it [00:00,  6.44it/s]"
     ]
    },
    {
     "name": "stdout",
     "output_type": "stream",
     "text": [
      "Epoch: 0, Loss: 0.696689\n"
     ]
    },
    {
     "name": "stderr",
     "output_type": "stream",
     "text": [
      "821it [01:01, 13.41it/s]\n",
      "2it [00:00, 13.35it/s]"
     ]
    },
    {
     "name": "stdout",
     "output_type": "stream",
     "text": [
      "Epoch: 1, Loss: 0.203403\n"
     ]
    },
    {
     "name": "stderr",
     "output_type": "stream",
     "text": [
      "821it [01:00, 13.46it/s]\n",
      "2it [00:00, 13.01it/s]"
     ]
    },
    {
     "name": "stdout",
     "output_type": "stream",
     "text": [
      "Epoch: 2, Loss: 0.088473\n"
     ]
    },
    {
     "name": "stderr",
     "output_type": "stream",
     "text": [
      "821it [01:00, 13.47it/s]\n",
      "2it [00:00, 13.53it/s]"
     ]
    },
    {
     "name": "stdout",
     "output_type": "stream",
     "text": [
      "Epoch: 3, Loss: 0.170850\n"
     ]
    },
    {
     "name": "stderr",
     "output_type": "stream",
     "text": [
      "821it [01:01, 13.37it/s]\n"
     ]
    },
    {
     "name": "stdout",
     "output_type": "stream",
     "text": [
      "---VALIDATION---\n"
     ]
    },
    {
     "name": "stderr",
     "output_type": "stream",
     "text": [
      "206it [00:04, 43.29it/s]"
     ]
    },
    {
     "name": "stdout",
     "output_type": "stream",
     "text": [
      "Hamming Loss: 0.036873\n"
     ]
    },
    {
     "name": "stderr",
     "output_type": "stream",
     "text": [
      "\n"
     ]
    },
    {
     "data": {
      "text/html": [
       "<div>\n",
       "<style scoped>\n",
       "    .dataframe tbody tr th:only-of-type {\n",
       "        vertical-align: middle;\n",
       "    }\n",
       "\n",
       "    .dataframe tbody tr th {\n",
       "        vertical-align: top;\n",
       "    }\n",
       "\n",
       "    .dataframe thead th {\n",
       "        text-align: right;\n",
       "    }\n",
       "</style>\n",
       "<table border=\"1\" class=\"dataframe\">\n",
       "  <thead>\n",
       "    <tr style=\"text-align: right;\">\n",
       "      <th></th>\n",
       "      <th>precision</th>\n",
       "      <th>recall</th>\n",
       "      <th>f1-score</th>\n",
       "      <th>support</th>\n",
       "    </tr>\n",
       "  </thead>\n",
       "  <tbody>\n",
       "    <tr>\n",
       "      <th>Client Assessment Conducted</th>\n",
       "      <td>0.823529</td>\n",
       "      <td>0.767123</td>\n",
       "      <td>0.794326</td>\n",
       "      <td>73.0</td>\n",
       "    </tr>\n",
       "    <tr>\n",
       "      <th>Client Birth certificate</th>\n",
       "      <td>0.895105</td>\n",
       "      <td>0.864865</td>\n",
       "      <td>0.879725</td>\n",
       "      <td>148.0</td>\n",
       "    </tr>\n",
       "    <tr>\n",
       "      <th>Client DPS report</th>\n",
       "      <td>0.900000</td>\n",
       "      <td>0.692308</td>\n",
       "      <td>0.782609</td>\n",
       "      <td>13.0</td>\n",
       "    </tr>\n",
       "    <tr>\n",
       "      <th>Client Texas State ID</th>\n",
       "      <td>0.902778</td>\n",
       "      <td>0.802469</td>\n",
       "      <td>0.849673</td>\n",
       "      <td>162.0</td>\n",
       "    </tr>\n",
       "    <tr>\n",
       "      <th>Client assigned DACC CSR</th>\n",
       "      <td>1.000000</td>\n",
       "      <td>0.166667</td>\n",
       "      <td>0.285714</td>\n",
       "      <td>6.0</td>\n",
       "    </tr>\n",
       "    <tr>\n",
       "      <th>Coordinated Assessment Completed at DACC</th>\n",
       "      <td>0.955224</td>\n",
       "      <td>0.876712</td>\n",
       "      <td>0.914286</td>\n",
       "      <td>73.0</td>\n",
       "    </tr>\n",
       "    <tr>\n",
       "      <th>HMIS Release of Information - Agreed</th>\n",
       "      <td>0.750000</td>\n",
       "      <td>0.272727</td>\n",
       "      <td>0.400000</td>\n",
       "      <td>22.0</td>\n",
       "    </tr>\n",
       "    <tr>\n",
       "      <th>HMIS profile created/updated</th>\n",
       "      <td>0.785714</td>\n",
       "      <td>0.611111</td>\n",
       "      <td>0.687500</td>\n",
       "      <td>72.0</td>\n",
       "    </tr>\n",
       "    <tr>\n",
       "      <th>Legal Issues</th>\n",
       "      <td>0.974684</td>\n",
       "      <td>0.867606</td>\n",
       "      <td>0.918033</td>\n",
       "      <td>355.0</td>\n",
       "    </tr>\n",
       "    <tr>\n",
       "      <th>Release of information forms signed for all appropriate vendors and agencies</th>\n",
       "      <td>0.627907</td>\n",
       "      <td>0.710526</td>\n",
       "      <td>0.666667</td>\n",
       "      <td>76.0</td>\n",
       "    </tr>\n",
       "    <tr>\n",
       "      <th>Treatment Plan completed and signed</th>\n",
       "      <td>0.500000</td>\n",
       "      <td>0.205882</td>\n",
       "      <td>0.291667</td>\n",
       "      <td>34.0</td>\n",
       "    </tr>\n",
       "    <tr>\n",
       "      <th>micro avg</th>\n",
       "      <td>0.883899</td>\n",
       "      <td>0.780464</td>\n",
       "      <td>0.828968</td>\n",
       "      <td>1034.0</td>\n",
       "    </tr>\n",
       "    <tr>\n",
       "      <th>macro avg</th>\n",
       "      <td>0.828631</td>\n",
       "      <td>0.621636</td>\n",
       "      <td>0.679109</td>\n",
       "      <td>1034.0</td>\n",
       "    </tr>\n",
       "    <tr>\n",
       "      <th>weighted avg</th>\n",
       "      <td>0.880154</td>\n",
       "      <td>0.780464</td>\n",
       "      <td>0.821323</td>\n",
       "      <td>1034.0</td>\n",
       "    </tr>\n",
       "    <tr>\n",
       "      <th>samples avg</th>\n",
       "      <td>0.868656</td>\n",
       "      <td>0.839748</td>\n",
       "      <td>0.840662</td>\n",
       "      <td>1034.0</td>\n",
       "    </tr>\n",
       "  </tbody>\n",
       "</table>\n",
       "</div>"
      ],
      "text/plain": [
       "                                                                              precision    recall  f1-score  support\n",
       "Client Assessment Conducted                                                    0.823529  0.767123  0.794326     73.0\n",
       "Client Birth certificate                                                       0.895105  0.864865  0.879725    148.0\n",
       "Client DPS report                                                              0.900000  0.692308  0.782609     13.0\n",
       "Client Texas State ID                                                          0.902778  0.802469  0.849673    162.0\n",
       "Client assigned DACC CSR                                                       1.000000  0.166667  0.285714      6.0\n",
       "Coordinated Assessment Completed at DACC                                       0.955224  0.876712  0.914286     73.0\n",
       "HMIS Release of Information - Agreed                                           0.750000  0.272727  0.400000     22.0\n",
       "HMIS profile created/updated                                                   0.785714  0.611111  0.687500     72.0\n",
       "Legal Issues                                                                   0.974684  0.867606  0.918033    355.0\n",
       "Release of information forms signed for all appropriate vendors and agencies   0.627907  0.710526  0.666667     76.0\n",
       "Treatment Plan completed and signed                                            0.500000  0.205882  0.291667     34.0\n",
       "micro avg                                                                      0.883899  0.780464  0.828968   1034.0\n",
       "macro avg                                                                      0.828631  0.621636  0.679109   1034.0\n",
       "weighted avg                                                                   0.880154  0.780464  0.821323   1034.0\n",
       "samples avg                                                                    0.868656  0.839748  0.840662   1034.0"
      ]
     },
     "metadata": {},
     "output_type": "display_data"
    }
   ],
   "source": [
    "compare_mixed_dataset(train_data, mixed_data_1, classes)\n",
    "get_min_max_labels(pd.Series(onehot_label_counts(mixed_data_1, \"LABELS\", classes)))\n",
    "\n",
    "clf4 = DistilBertMLClassifier(text_col=\"NOTE\", label_col=\"LABELS\", label_names=classes, \n",
    "                              train_data=mixed_data_1, test_data=test_data,\n",
    "                              epochs=epochs, max_len=max_len)\n",
    "\n",
    "print(str(clf4))\n",
    "print(\"---TESTING---\")\n",
    "clf4.train()\n",
    "print(\"---VALIDATION---\")\n",
    "clf4.validate()"
   ]
  },
  {
   "attachments": {},
   "cell_type": "markdown",
   "metadata": {},
   "source": [
    "### Dataset 2, T=2"
   ]
  },
  {
   "cell_type": "code",
   "execution_count": 28,
   "metadata": {},
   "outputs": [
    {
     "data": {
      "text/html": [
       "<div>\n",
       "<style scoped>\n",
       "    .dataframe tbody tr th:only-of-type {\n",
       "        vertical-align: middle;\n",
       "    }\n",
       "\n",
       "    .dataframe tbody tr th {\n",
       "        vertical-align: top;\n",
       "    }\n",
       "\n",
       "    .dataframe thead th {\n",
       "        text-align: right;\n",
       "    }\n",
       "</style>\n",
       "<table border=\"1\" class=\"dataframe\">\n",
       "  <thead>\n",
       "    <tr style=\"text-align: right;\">\n",
       "      <th></th>\n",
       "      <th>labels</th>\n",
       "      <th>original</th>\n",
       "      <th>mixed</th>\n",
       "    </tr>\n",
       "  </thead>\n",
       "  <tbody>\n",
       "    <tr>\n",
       "      <th>0</th>\n",
       "      <td>Client Assessment Conducted</td>\n",
       "      <td>230.0</td>\n",
       "      <td>444.0</td>\n",
       "    </tr>\n",
       "    <tr>\n",
       "      <th>1</th>\n",
       "      <td>Client Birth certificate</td>\n",
       "      <td>539.0</td>\n",
       "      <td>539.0</td>\n",
       "    </tr>\n",
       "    <tr>\n",
       "      <th>2</th>\n",
       "      <td>Client DPS report</td>\n",
       "      <td>67.0</td>\n",
       "      <td>182.0</td>\n",
       "    </tr>\n",
       "    <tr>\n",
       "      <th>3</th>\n",
       "      <td>Client Texas State ID</td>\n",
       "      <td>607.0</td>\n",
       "      <td>589.0</td>\n",
       "    </tr>\n",
       "    <tr>\n",
       "      <th>4</th>\n",
       "      <td>Client assigned DACC CSR</td>\n",
       "      <td>14.0</td>\n",
       "      <td>74.0</td>\n",
       "    </tr>\n",
       "    <tr>\n",
       "      <th>5</th>\n",
       "      <td>Coordinated Assessment Completed at DACC</td>\n",
       "      <td>327.0</td>\n",
       "      <td>581.0</td>\n",
       "    </tr>\n",
       "    <tr>\n",
       "      <th>6</th>\n",
       "      <td>HMIS Release of Information - Agreed</td>\n",
       "      <td>79.0</td>\n",
       "      <td>186.0</td>\n",
       "    </tr>\n",
       "    <tr>\n",
       "      <th>7</th>\n",
       "      <td>HMIS profile created/updated</td>\n",
       "      <td>291.0</td>\n",
       "      <td>576.0</td>\n",
       "    </tr>\n",
       "    <tr>\n",
       "      <th>8</th>\n",
       "      <td>Legal Issues</td>\n",
       "      <td>1479.0</td>\n",
       "      <td>894.0</td>\n",
       "    </tr>\n",
       "    <tr>\n",
       "      <th>9</th>\n",
       "      <td>Release of information forms signed for all appropriate vendors and agencies</td>\n",
       "      <td>314.0</td>\n",
       "      <td>552.0</td>\n",
       "    </tr>\n",
       "    <tr>\n",
       "      <th>10</th>\n",
       "      <td>Treatment Plan completed and signed</td>\n",
       "      <td>95.0</td>\n",
       "      <td>211.0</td>\n",
       "    </tr>\n",
       "    <tr>\n",
       "      <th>Total</th>\n",
       "      <td>NaN</td>\n",
       "      <td>4042.0</td>\n",
       "      <td>4828.0</td>\n",
       "    </tr>\n",
       "  </tbody>\n",
       "</table>\n",
       "</div>"
      ],
      "text/plain": [
       "                                                                             labels  original   mixed\n",
       "0                                                       Client Assessment Conducted     230.0   444.0\n",
       "1                                                          Client Birth certificate     539.0   539.0\n",
       "2                                                                 Client DPS report      67.0   182.0\n",
       "3                                                             Client Texas State ID     607.0   589.0\n",
       "4                                                          Client assigned DACC CSR      14.0    74.0\n",
       "5                                          Coordinated Assessment Completed at DACC     327.0   581.0\n",
       "6                                              HMIS Release of Information - Agreed      79.0   186.0\n",
       "7                                                      HMIS profile created/updated     291.0   576.0\n",
       "8                                                                      Legal Issues    1479.0   894.0\n",
       "9      Release of information forms signed for all appropriate vendors and agencies     314.0   552.0\n",
       "10                                              Treatment Plan completed and signed      95.0   211.0\n",
       "Total                                                                           NaN    4042.0  4828.0"
      ]
     },
     "metadata": {},
     "output_type": "display_data"
    },
    {
     "name": "stdout",
     "output_type": "stream",
     "text": [
      "Max Label: Legal Issues, 18.516984%\n",
      "Min Label: Client assigned DACC CSR, 1.532726%\n",
      "TRAIN Dataset: (3284, 6)\n",
      "TEST Dataset: (821, 6)\n"
     ]
    },
    {
     "name": "stderr",
     "output_type": "stream",
     "text": [
      "3284it [00:02, 1575.30it/s]\n",
      "821it [00:00, 1624.38it/s]\n",
      "Some weights of the model checkpoint at distilbert-base-uncased were not used when initializing DistilBertModel: ['vocab_transform.bias', 'vocab_layer_norm.bias', 'vocab_projector.bias', 'vocab_transform.weight', 'vocab_layer_norm.weight', 'vocab_projector.weight']\n",
      "- This IS expected if you are initializing DistilBertModel from the checkpoint of a model trained on another task or with another architecture (e.g. initializing a BertForSequenceClassification model from a BertForPreTraining model).\n",
      "- This IS NOT expected if you are initializing DistilBertModel from the checkpoint of a model that you expect to be exactly identical (initializing a BertForSequenceClassification model from a BertForSequenceClassification model).\n"
     ]
    },
    {
     "name": "stdout",
     "output_type": "stream",
     "text": [
      "Hyperparams:\n",
      " max_tokens_per_example: 256\n",
      " train_batch_size: 4\n",
      " valid_batch_size: 4\n",
      " epochs: 4\n",
      " learning rate: 0.000010\n",
      " train_size: 3284\n",
      " test_size: 821\n",
      "\n",
      "---TESTING---\n"
     ]
    },
    {
     "name": "stderr",
     "output_type": "stream",
     "text": [
      "1it [00:00,  8.40it/s]"
     ]
    },
    {
     "name": "stdout",
     "output_type": "stream",
     "text": [
      "Epoch: 0, Loss: 0.740872\n"
     ]
    },
    {
     "name": "stderr",
     "output_type": "stream",
     "text": [
      "821it [01:02, 13.21it/s]\n",
      "2it [00:00, 12.26it/s]"
     ]
    },
    {
     "name": "stdout",
     "output_type": "stream",
     "text": [
      "Epoch: 1, Loss: 0.131627\n"
     ]
    },
    {
     "name": "stderr",
     "output_type": "stream",
     "text": [
      "821it [01:05, 12.52it/s]\n",
      "2it [00:00, 12.72it/s]"
     ]
    },
    {
     "name": "stdout",
     "output_type": "stream",
     "text": [
      "Epoch: 2, Loss: 0.091691\n"
     ]
    },
    {
     "name": "stderr",
     "output_type": "stream",
     "text": [
      "821it [01:06, 12.38it/s]\n",
      "2it [00:00, 12.45it/s]"
     ]
    },
    {
     "name": "stdout",
     "output_type": "stream",
     "text": [
      "Epoch: 3, Loss: 0.086049\n"
     ]
    },
    {
     "name": "stderr",
     "output_type": "stream",
     "text": [
      "821it [01:05, 12.47it/s]\n"
     ]
    },
    {
     "name": "stdout",
     "output_type": "stream",
     "text": [
      "---VALIDATION---\n"
     ]
    },
    {
     "name": "stderr",
     "output_type": "stream",
     "text": [
      "206it [00:04, 43.05it/s]"
     ]
    },
    {
     "name": "stdout",
     "output_type": "stream",
     "text": [
      "Hamming Loss: 0.033883\n"
     ]
    },
    {
     "name": "stderr",
     "output_type": "stream",
     "text": [
      "\n"
     ]
    },
    {
     "data": {
      "text/html": [
       "<div>\n",
       "<style scoped>\n",
       "    .dataframe tbody tr th:only-of-type {\n",
       "        vertical-align: middle;\n",
       "    }\n",
       "\n",
       "    .dataframe tbody tr th {\n",
       "        vertical-align: top;\n",
       "    }\n",
       "\n",
       "    .dataframe thead th {\n",
       "        text-align: right;\n",
       "    }\n",
       "</style>\n",
       "<table border=\"1\" class=\"dataframe\">\n",
       "  <thead>\n",
       "    <tr style=\"text-align: right;\">\n",
       "      <th></th>\n",
       "      <th>precision</th>\n",
       "      <th>recall</th>\n",
       "      <th>f1-score</th>\n",
       "      <th>support</th>\n",
       "    </tr>\n",
       "  </thead>\n",
       "  <tbody>\n",
       "    <tr>\n",
       "      <th>Client Assessment Conducted</th>\n",
       "      <td>0.816901</td>\n",
       "      <td>0.794521</td>\n",
       "      <td>0.805556</td>\n",
       "      <td>73.0</td>\n",
       "    </tr>\n",
       "    <tr>\n",
       "      <th>Client Birth certificate</th>\n",
       "      <td>0.908451</td>\n",
       "      <td>0.871622</td>\n",
       "      <td>0.889655</td>\n",
       "      <td>148.0</td>\n",
       "    </tr>\n",
       "    <tr>\n",
       "      <th>Client DPS report</th>\n",
       "      <td>1.000000</td>\n",
       "      <td>0.769231</td>\n",
       "      <td>0.869565</td>\n",
       "      <td>13.0</td>\n",
       "    </tr>\n",
       "    <tr>\n",
       "      <th>Client Texas State ID</th>\n",
       "      <td>0.876543</td>\n",
       "      <td>0.876543</td>\n",
       "      <td>0.876543</td>\n",
       "      <td>162.0</td>\n",
       "    </tr>\n",
       "    <tr>\n",
       "      <th>Client assigned DACC CSR</th>\n",
       "      <td>0.500000</td>\n",
       "      <td>0.166667</td>\n",
       "      <td>0.250000</td>\n",
       "      <td>6.0</td>\n",
       "    </tr>\n",
       "    <tr>\n",
       "      <th>Coordinated Assessment Completed at DACC</th>\n",
       "      <td>0.915493</td>\n",
       "      <td>0.890411</td>\n",
       "      <td>0.902778</td>\n",
       "      <td>73.0</td>\n",
       "    </tr>\n",
       "    <tr>\n",
       "      <th>HMIS Release of Information - Agreed</th>\n",
       "      <td>0.590909</td>\n",
       "      <td>0.590909</td>\n",
       "      <td>0.590909</td>\n",
       "      <td>22.0</td>\n",
       "    </tr>\n",
       "    <tr>\n",
       "      <th>HMIS profile created/updated</th>\n",
       "      <td>0.777778</td>\n",
       "      <td>0.680556</td>\n",
       "      <td>0.725926</td>\n",
       "      <td>72.0</td>\n",
       "    </tr>\n",
       "    <tr>\n",
       "      <th>Legal Issues</th>\n",
       "      <td>0.949704</td>\n",
       "      <td>0.904225</td>\n",
       "      <td>0.926407</td>\n",
       "      <td>355.0</td>\n",
       "    </tr>\n",
       "    <tr>\n",
       "      <th>Release of information forms signed for all appropriate vendors and agencies</th>\n",
       "      <td>0.693333</td>\n",
       "      <td>0.684211</td>\n",
       "      <td>0.688742</td>\n",
       "      <td>76.0</td>\n",
       "    </tr>\n",
       "    <tr>\n",
       "      <th>Treatment Plan completed and signed</th>\n",
       "      <td>0.700000</td>\n",
       "      <td>0.205882</td>\n",
       "      <td>0.318182</td>\n",
       "      <td>34.0</td>\n",
       "    </tr>\n",
       "    <tr>\n",
       "      <th>micro avg</th>\n",
       "      <td>0.876812</td>\n",
       "      <td>0.819149</td>\n",
       "      <td>0.847000</td>\n",
       "      <td>1034.0</td>\n",
       "    </tr>\n",
       "    <tr>\n",
       "      <th>macro avg</th>\n",
       "      <td>0.793556</td>\n",
       "      <td>0.675889</td>\n",
       "      <td>0.713115</td>\n",
       "      <td>1034.0</td>\n",
       "    </tr>\n",
       "    <tr>\n",
       "      <th>weighted avg</th>\n",
       "      <td>0.871909</td>\n",
       "      <td>0.819149</td>\n",
       "      <td>0.839928</td>\n",
       "      <td>1034.0</td>\n",
       "    </tr>\n",
       "    <tr>\n",
       "      <th>samples avg</th>\n",
       "      <td>0.882257</td>\n",
       "      <td>0.872533</td>\n",
       "      <td>0.864640</td>\n",
       "      <td>1034.0</td>\n",
       "    </tr>\n",
       "  </tbody>\n",
       "</table>\n",
       "</div>"
      ],
      "text/plain": [
       "                                                                              precision    recall  f1-score  support\n",
       "Client Assessment Conducted                                                    0.816901  0.794521  0.805556     73.0\n",
       "Client Birth certificate                                                       0.908451  0.871622  0.889655    148.0\n",
       "Client DPS report                                                              1.000000  0.769231  0.869565     13.0\n",
       "Client Texas State ID                                                          0.876543  0.876543  0.876543    162.0\n",
       "Client assigned DACC CSR                                                       0.500000  0.166667  0.250000      6.0\n",
       "Coordinated Assessment Completed at DACC                                       0.915493  0.890411  0.902778     73.0\n",
       "HMIS Release of Information - Agreed                                           0.590909  0.590909  0.590909     22.0\n",
       "HMIS profile created/updated                                                   0.777778  0.680556  0.725926     72.0\n",
       "Legal Issues                                                                   0.949704  0.904225  0.926407    355.0\n",
       "Release of information forms signed for all appropriate vendors and agencies   0.693333  0.684211  0.688742     76.0\n",
       "Treatment Plan completed and signed                                            0.700000  0.205882  0.318182     34.0\n",
       "micro avg                                                                      0.876812  0.819149  0.847000   1034.0\n",
       "macro avg                                                                      0.793556  0.675889  0.713115   1034.0\n",
       "weighted avg                                                                   0.871909  0.819149  0.839928   1034.0\n",
       "samples avg                                                                    0.882257  0.872533  0.864640   1034.0"
      ]
     },
     "metadata": {},
     "output_type": "display_data"
    }
   ],
   "source": [
    "compare_mixed_dataset(train_data, mixed_data_2, classes)\n",
    "get_min_max_labels(pd.Series(onehot_label_counts(mixed_data_2, \"LABELS\", classes)))\n",
    "\n",
    "clf4 = DistilBertMLClassifier(text_col=\"NOTE\", label_col=\"LABELS\", label_names=classes, \n",
    "                              train_data=mixed_data_2, test_data=test_data,\n",
    "                              epochs=epochs, max_len=max_len)\n",
    "\n",
    "print(str(clf4))\n",
    "print(\"---TESTING---\")\n",
    "clf4.train()\n",
    "print(\"---VALIDATION---\")\n",
    "clf4.validate()"
   ]
  },
  {
   "attachments": {},
   "cell_type": "markdown",
   "metadata": {},
   "source": [
    "### Dataset 2, T=4"
   ]
  },
  {
   "cell_type": "code",
   "execution_count": 29,
   "metadata": {},
   "outputs": [
    {
     "data": {
      "text/html": [
       "<div>\n",
       "<style scoped>\n",
       "    .dataframe tbody tr th:only-of-type {\n",
       "        vertical-align: middle;\n",
       "    }\n",
       "\n",
       "    .dataframe tbody tr th {\n",
       "        vertical-align: top;\n",
       "    }\n",
       "\n",
       "    .dataframe thead th {\n",
       "        text-align: right;\n",
       "    }\n",
       "</style>\n",
       "<table border=\"1\" class=\"dataframe\">\n",
       "  <thead>\n",
       "    <tr style=\"text-align: right;\">\n",
       "      <th></th>\n",
       "      <th>labels</th>\n",
       "      <th>original</th>\n",
       "      <th>mixed</th>\n",
       "    </tr>\n",
       "  </thead>\n",
       "  <tbody>\n",
       "    <tr>\n",
       "      <th>0</th>\n",
       "      <td>Client Assessment Conducted</td>\n",
       "      <td>230.0</td>\n",
       "      <td>597.0</td>\n",
       "    </tr>\n",
       "    <tr>\n",
       "      <th>1</th>\n",
       "      <td>Client Birth certificate</td>\n",
       "      <td>539.0</td>\n",
       "      <td>475.0</td>\n",
       "    </tr>\n",
       "    <tr>\n",
       "      <th>2</th>\n",
       "      <td>Client DPS report</td>\n",
       "      <td>67.0</td>\n",
       "      <td>233.0</td>\n",
       "    </tr>\n",
       "    <tr>\n",
       "      <th>3</th>\n",
       "      <td>Client Texas State ID</td>\n",
       "      <td>607.0</td>\n",
       "      <td>508.0</td>\n",
       "    </tr>\n",
       "    <tr>\n",
       "      <th>4</th>\n",
       "      <td>Client assigned DACC CSR</td>\n",
       "      <td>14.0</td>\n",
       "      <td>149.0</td>\n",
       "    </tr>\n",
       "    <tr>\n",
       "      <th>5</th>\n",
       "      <td>Coordinated Assessment Completed at DACC</td>\n",
       "      <td>327.0</td>\n",
       "      <td>679.0</td>\n",
       "    </tr>\n",
       "    <tr>\n",
       "      <th>6</th>\n",
       "      <td>HMIS Release of Information - Agreed</td>\n",
       "      <td>79.0</td>\n",
       "      <td>234.0</td>\n",
       "    </tr>\n",
       "    <tr>\n",
       "      <th>7</th>\n",
       "      <td>HMIS profile created/updated</td>\n",
       "      <td>291.0</td>\n",
       "      <td>694.0</td>\n",
       "    </tr>\n",
       "    <tr>\n",
       "      <th>8</th>\n",
       "      <td>Legal Issues</td>\n",
       "      <td>1479.0</td>\n",
       "      <td>668.0</td>\n",
       "    </tr>\n",
       "    <tr>\n",
       "      <th>9</th>\n",
       "      <td>Release of information forms signed for all appropriate vendors and agencies</td>\n",
       "      <td>314.0</td>\n",
       "      <td>689.0</td>\n",
       "    </tr>\n",
       "    <tr>\n",
       "      <th>10</th>\n",
       "      <td>Treatment Plan completed and signed</td>\n",
       "      <td>95.0</td>\n",
       "      <td>308.0</td>\n",
       "    </tr>\n",
       "    <tr>\n",
       "      <th>Total</th>\n",
       "      <td>NaN</td>\n",
       "      <td>4042.0</td>\n",
       "      <td>5234.0</td>\n",
       "    </tr>\n",
       "  </tbody>\n",
       "</table>\n",
       "</div>"
      ],
      "text/plain": [
       "                                                                             labels  original   mixed\n",
       "0                                                       Client Assessment Conducted     230.0   597.0\n",
       "1                                                          Client Birth certificate     539.0   475.0\n",
       "2                                                                 Client DPS report      67.0   233.0\n",
       "3                                                             Client Texas State ID     607.0   508.0\n",
       "4                                                          Client assigned DACC CSR      14.0   149.0\n",
       "5                                          Coordinated Assessment Completed at DACC     327.0   679.0\n",
       "6                                              HMIS Release of Information - Agreed      79.0   234.0\n",
       "7                                                      HMIS profile created/updated     291.0   694.0\n",
       "8                                                                      Legal Issues    1479.0   668.0\n",
       "9      Release of information forms signed for all appropriate vendors and agencies     314.0   689.0\n",
       "10                                              Treatment Plan completed and signed      95.0   308.0\n",
       "Total                                                                           NaN    4042.0  5234.0"
      ]
     },
     "metadata": {},
     "output_type": "display_data"
    },
    {
     "name": "stdout",
     "output_type": "stream",
     "text": [
      "Max Label: HMIS profile created/updated, 13.259457%\n",
      "Min Label: Client assigned DACC CSR, 2.846771%\n",
      "TRAIN Dataset: (3284, 6)\n",
      "TEST Dataset: (821, 6)\n"
     ]
    },
    {
     "name": "stderr",
     "output_type": "stream",
     "text": [
      "3284it [00:02, 1269.12it/s]\n",
      "821it [00:00, 1104.23it/s]\n",
      "Some weights of the model checkpoint at distilbert-base-uncased were not used when initializing DistilBertModel: ['vocab_transform.bias', 'vocab_layer_norm.bias', 'vocab_projector.bias', 'vocab_transform.weight', 'vocab_layer_norm.weight', 'vocab_projector.weight']\n",
      "- This IS expected if you are initializing DistilBertModel from the checkpoint of a model trained on another task or with another architecture (e.g. initializing a BertForSequenceClassification model from a BertForPreTraining model).\n",
      "- This IS NOT expected if you are initializing DistilBertModel from the checkpoint of a model that you expect to be exactly identical (initializing a BertForSequenceClassification model from a BertForSequenceClassification model).\n"
     ]
    },
    {
     "name": "stdout",
     "output_type": "stream",
     "text": [
      "Hyperparams:\n",
      " max_tokens_per_example: 256\n",
      " train_batch_size: 4\n",
      " valid_batch_size: 4\n",
      " epochs: 4\n",
      " learning rate: 0.000010\n",
      " train_size: 3284\n",
      " test_size: 821\n",
      "\n",
      "---TESTING---\n"
     ]
    },
    {
     "name": "stderr",
     "output_type": "stream",
     "text": [
      "0it [00:00, ?it/s]"
     ]
    },
    {
     "name": "stdout",
     "output_type": "stream",
     "text": [
      "Epoch: 0, Loss: 0.688893\n"
     ]
    },
    {
     "name": "stderr",
     "output_type": "stream",
     "text": [
      "821it [01:06, 12.33it/s]\n",
      "2it [00:00, 12.76it/s]"
     ]
    },
    {
     "name": "stdout",
     "output_type": "stream",
     "text": [
      "Epoch: 1, Loss: 0.106751\n"
     ]
    },
    {
     "name": "stderr",
     "output_type": "stream",
     "text": [
      "821it [01:02, 13.16it/s]\n",
      "2it [00:00, 14.40it/s]"
     ]
    },
    {
     "name": "stdout",
     "output_type": "stream",
     "text": [
      "Epoch: 2, Loss: 0.123304\n"
     ]
    },
    {
     "name": "stderr",
     "output_type": "stream",
     "text": [
      "821it [00:57, 14.36it/s]\n",
      "2it [00:00, 15.10it/s]"
     ]
    },
    {
     "name": "stdout",
     "output_type": "stream",
     "text": [
      "Epoch: 3, Loss: 0.035911\n"
     ]
    },
    {
     "name": "stderr",
     "output_type": "stream",
     "text": [
      "821it [00:55, 14.72it/s]\n"
     ]
    },
    {
     "name": "stdout",
     "output_type": "stream",
     "text": [
      "---VALIDATION---\n"
     ]
    },
    {
     "name": "stderr",
     "output_type": "stream",
     "text": [
      "206it [00:04, 48.92it/s]"
     ]
    },
    {
     "name": "stdout",
     "output_type": "stream",
     "text": [
      "Hamming Loss: 0.035655\n"
     ]
    },
    {
     "name": "stderr",
     "output_type": "stream",
     "text": [
      "\n"
     ]
    },
    {
     "data": {
      "text/html": [
       "<div>\n",
       "<style scoped>\n",
       "    .dataframe tbody tr th:only-of-type {\n",
       "        vertical-align: middle;\n",
       "    }\n",
       "\n",
       "    .dataframe tbody tr th {\n",
       "        vertical-align: top;\n",
       "    }\n",
       "\n",
       "    .dataframe thead th {\n",
       "        text-align: right;\n",
       "    }\n",
       "</style>\n",
       "<table border=\"1\" class=\"dataframe\">\n",
       "  <thead>\n",
       "    <tr style=\"text-align: right;\">\n",
       "      <th></th>\n",
       "      <th>precision</th>\n",
       "      <th>recall</th>\n",
       "      <th>f1-score</th>\n",
       "      <th>support</th>\n",
       "    </tr>\n",
       "  </thead>\n",
       "  <tbody>\n",
       "    <tr>\n",
       "      <th>Client Assessment Conducted</th>\n",
       "      <td>0.857143</td>\n",
       "      <td>0.821918</td>\n",
       "      <td>0.839161</td>\n",
       "      <td>73.0</td>\n",
       "    </tr>\n",
       "    <tr>\n",
       "      <th>Client Birth certificate</th>\n",
       "      <td>0.919118</td>\n",
       "      <td>0.844595</td>\n",
       "      <td>0.880282</td>\n",
       "      <td>148.0</td>\n",
       "    </tr>\n",
       "    <tr>\n",
       "      <th>Client DPS report</th>\n",
       "      <td>0.733333</td>\n",
       "      <td>0.846154</td>\n",
       "      <td>0.785714</td>\n",
       "      <td>13.0</td>\n",
       "    </tr>\n",
       "    <tr>\n",
       "      <th>Client Texas State ID</th>\n",
       "      <td>0.829268</td>\n",
       "      <td>0.839506</td>\n",
       "      <td>0.834356</td>\n",
       "      <td>162.0</td>\n",
       "    </tr>\n",
       "    <tr>\n",
       "      <th>Client assigned DACC CSR</th>\n",
       "      <td>0.333333</td>\n",
       "      <td>0.166667</td>\n",
       "      <td>0.222222</td>\n",
       "      <td>6.0</td>\n",
       "    </tr>\n",
       "    <tr>\n",
       "      <th>Coordinated Assessment Completed at DACC</th>\n",
       "      <td>0.929577</td>\n",
       "      <td>0.904110</td>\n",
       "      <td>0.916667</td>\n",
       "      <td>73.0</td>\n",
       "    </tr>\n",
       "    <tr>\n",
       "      <th>HMIS Release of Information - Agreed</th>\n",
       "      <td>0.687500</td>\n",
       "      <td>0.500000</td>\n",
       "      <td>0.578947</td>\n",
       "      <td>22.0</td>\n",
       "    </tr>\n",
       "    <tr>\n",
       "      <th>HMIS profile created/updated</th>\n",
       "      <td>0.859649</td>\n",
       "      <td>0.680556</td>\n",
       "      <td>0.759690</td>\n",
       "      <td>72.0</td>\n",
       "    </tr>\n",
       "    <tr>\n",
       "      <th>Legal Issues</th>\n",
       "      <td>0.970874</td>\n",
       "      <td>0.845070</td>\n",
       "      <td>0.903614</td>\n",
       "      <td>355.0</td>\n",
       "    </tr>\n",
       "    <tr>\n",
       "      <th>Release of information forms signed for all appropriate vendors and agencies</th>\n",
       "      <td>0.733333</td>\n",
       "      <td>0.578947</td>\n",
       "      <td>0.647059</td>\n",
       "      <td>76.0</td>\n",
       "    </tr>\n",
       "    <tr>\n",
       "      <th>Treatment Plan completed and signed</th>\n",
       "      <td>0.652174</td>\n",
       "      <td>0.441176</td>\n",
       "      <td>0.526316</td>\n",
       "      <td>34.0</td>\n",
       "    </tr>\n",
       "    <tr>\n",
       "      <th>micro avg</th>\n",
       "      <td>0.885281</td>\n",
       "      <td>0.791103</td>\n",
       "      <td>0.835546</td>\n",
       "      <td>1034.0</td>\n",
       "    </tr>\n",
       "    <tr>\n",
       "      <th>macro avg</th>\n",
       "      <td>0.773209</td>\n",
       "      <td>0.678973</td>\n",
       "      <td>0.717639</td>\n",
       "      <td>1034.0</td>\n",
       "    </tr>\n",
       "    <tr>\n",
       "      <th>weighted avg</th>\n",
       "      <td>0.881936</td>\n",
       "      <td>0.791103</td>\n",
       "      <td>0.832166</td>\n",
       "      <td>1034.0</td>\n",
       "    </tr>\n",
       "    <tr>\n",
       "      <th>samples avg</th>\n",
       "      <td>0.862363</td>\n",
       "      <td>0.838348</td>\n",
       "      <td>0.838609</td>\n",
       "      <td>1034.0</td>\n",
       "    </tr>\n",
       "  </tbody>\n",
       "</table>\n",
       "</div>"
      ],
      "text/plain": [
       "                                                                              precision    recall  f1-score  support\n",
       "Client Assessment Conducted                                                    0.857143  0.821918  0.839161     73.0\n",
       "Client Birth certificate                                                       0.919118  0.844595  0.880282    148.0\n",
       "Client DPS report                                                              0.733333  0.846154  0.785714     13.0\n",
       "Client Texas State ID                                                          0.829268  0.839506  0.834356    162.0\n",
       "Client assigned DACC CSR                                                       0.333333  0.166667  0.222222      6.0\n",
       "Coordinated Assessment Completed at DACC                                       0.929577  0.904110  0.916667     73.0\n",
       "HMIS Release of Information - Agreed                                           0.687500  0.500000  0.578947     22.0\n",
       "HMIS profile created/updated                                                   0.859649  0.680556  0.759690     72.0\n",
       "Legal Issues                                                                   0.970874  0.845070  0.903614    355.0\n",
       "Release of information forms signed for all appropriate vendors and agencies   0.733333  0.578947  0.647059     76.0\n",
       "Treatment Plan completed and signed                                            0.652174  0.441176  0.526316     34.0\n",
       "micro avg                                                                      0.885281  0.791103  0.835546   1034.0\n",
       "macro avg                                                                      0.773209  0.678973  0.717639   1034.0\n",
       "weighted avg                                                                   0.881936  0.791103  0.832166   1034.0\n",
       "samples avg                                                                    0.862363  0.838348  0.838609   1034.0"
      ]
     },
     "metadata": {},
     "output_type": "display_data"
    }
   ],
   "source": [
    "compare_mixed_dataset(train_data, mixed_data_3, classes)\n",
    "get_min_max_labels(pd.Series(onehot_label_counts(mixed_data_3, \"LABELS\", classes)))\n",
    "\n",
    "clf2 = DistilBertMLClassifier(text_col=\"NOTE\", label_col=\"LABELS\", label_names=classes,\n",
    "                              train_data=mixed_data_3, test_data=test_data,\n",
    "                              epochs=epochs, max_len=max_len)\n",
    "\n",
    "print(str(clf2))\n",
    "print(\"---TESTING---\")\n",
    "clf2.train()\n",
    "print(\"---VALIDATION---\")\n",
    "clf2.validate()"
   ]
  },
  {
   "cell_type": "code",
   "execution_count": 30,
   "metadata": {},
   "outputs": [
    {
     "name": "stdout",
     "output_type": "stream",
     "text": [
      "Label: Client Assessment Conducted\n"
     ]
    },
    {
     "name": "stderr",
     "output_type": "stream",
     "text": [
      "3it [00:00, 1008.33it/s]\n",
      "1it [00:00,  3.56it/s]\n"
     ]
    },
    {
     "data": {
      "text/html": [
       "<div>\n",
       "<style scoped>\n",
       "    .dataframe tbody tr th:only-of-type {\n",
       "        vertical-align: middle;\n",
       "    }\n",
       "\n",
       "    .dataframe tbody tr th {\n",
       "        vertical-align: top;\n",
       "    }\n",
       "\n",
       "    .dataframe thead th {\n",
       "        text-align: right;\n",
       "    }\n",
       "</style>\n",
       "<table border=\"1\" class=\"dataframe\">\n",
       "  <thead>\n",
       "    <tr style=\"text-align: right;\">\n",
       "      <th></th>\n",
       "      <th>NOTE</th>\n",
       "      <th>LABELS</th>\n",
       "      <th>ACTUALS</th>\n",
       "    </tr>\n",
       "  </thead>\n",
       "  <tbody>\n",
       "    <tr>\n",
       "      <th>0</th>\n",
       "      <td>client presented for triage to fill out his PSH packet and complete his 3 piece for HACA. client asked if he could have some assistance getting some work clothes and some food. 5 WALMART CARDS AMD 7 DAY BUS PASS PROVIDED.</td>\n",
       "      <td>[Client Assessment Conducted]</td>\n",
       "      <td>[Client Assessment Conducted]</td>\n",
       "    </tr>\n",
       "    <tr>\n",
       "      <th>1</th>\n",
       "      <td>client completed RRH intake. Discussed housing and other goals. HACA application has been submitted by case manager So Young.</td>\n",
       "      <td>[Client Assessment Conducted]</td>\n",
       "      <td>[Client Assessment Conducted]</td>\n",
       "    </tr>\n",
       "    <tr>\n",
       "      <th>2</th>\n",
       "      <td>4-28-21. Attempted to completed RRH intake. client presented agitated and unable to regulate her emotions. She exhibited flight of ideas, fixated on specific theme (persecution, lawsuits, threats of violence against her, race and religion). client shifted between screaming at case manager for being unhelpful and crying about her perceived injustices caused by the Mayor of Austin. client was able to express that she is in need of an ID but became angry when case manager could not provide it to her immediately. client seems to have good rapport with Prolodge staff.</td>\n",
       "      <td>[Client Texas State ID]</td>\n",
       "      <td>[Client Assessment Conducted]</td>\n",
       "    </tr>\n",
       "  </tbody>\n",
       "</table>\n",
       "</div>"
      ],
      "text/plain": [
       "                                                                                                                                                                                                                                                                                                                                                                                                                                                                                                                                                                                         NOTE                         LABELS                        ACTUALS\n",
       "0                                                                                                                                                                                                                                                                                                                                                              client presented for triage to fill out his PSH packet and complete his 3 piece for HACA. client asked if he could have some assistance getting some work clothes and some food. 5 WALMART CARDS AMD 7 DAY BUS PASS PROVIDED.   [Client Assessment Conducted]  [Client Assessment Conducted]\n",
       "1                                                                                                                                                                                                                                                                                                                                                                                                                                                               client completed RRH intake. Discussed housing and other goals. HACA application has been submitted by case manager So Young.  [Client Assessment Conducted]  [Client Assessment Conducted]\n",
       "2  4-28-21. Attempted to completed RRH intake. client presented agitated and unable to regulate her emotions. She exhibited flight of ideas, fixated on specific theme (persecution, lawsuits, threats of violence against her, race and religion). client shifted between screaming at case manager for being unhelpful and crying about her perceived injustices caused by the Mayor of Austin. client was able to express that she is in need of an ID but became angry when case manager could not provide it to her immediately. client seems to have good rapport with Prolodge staff.         [Client Texas State ID]  [Client Assessment Conducted]"
      ]
     },
     "metadata": {},
     "output_type": "display_data"
    },
    {
     "name": "stdout",
     "output_type": "stream",
     "text": [
      "Label: Client Birth certificate\n"
     ]
    },
    {
     "name": "stderr",
     "output_type": "stream",
     "text": [
      "3it [00:00, 1512.73it/s]\n",
      "1it [00:00, 63.01it/s]\n"
     ]
    },
    {
     "data": {
      "text/html": [
       "<div>\n",
       "<style scoped>\n",
       "    .dataframe tbody tr th:only-of-type {\n",
       "        vertical-align: middle;\n",
       "    }\n",
       "\n",
       "    .dataframe tbody tr th {\n",
       "        vertical-align: top;\n",
       "    }\n",
       "\n",
       "    .dataframe thead th {\n",
       "        text-align: right;\n",
       "    }\n",
       "</style>\n",
       "<table border=\"1\" class=\"dataframe\">\n",
       "  <thead>\n",
       "    <tr style=\"text-align: right;\">\n",
       "      <th></th>\n",
       "      <th>NOTE</th>\n",
       "      <th>LABELS</th>\n",
       "      <th>ACTUALS</th>\n",
       "    </tr>\n",
       "  </thead>\n",
       "  <tbody>\n",
       "    <tr>\n",
       "      <th>0</th>\n",
       "      <td>client presented to triage requesting assistance ordering birth certificate and mailing off social security card app. client brought in MAP card to be mailed off with social security card app. Copy made and given to client. case manager Taryn assisted client with ordering birth certificate thru VitalChek. Order Number: 114764731 Pin: 912577. Copy of confirmation given to client as requested. client also requested confirmation of social security card app being mailed for ECHO to show shes working on her IDs. case manager Taryn wrote letter on DACC letterhead confirming ordering of birth certificate and mailing off of social security card application. client requested bus pass and HEB card. client told client she cannot get an HEB card at this time as she got one late last week. ONE 1-DAY BUS PASS PROVIDED.</td>\n",
       "      <td>[Client Birth certificate]</td>\n",
       "      <td>[Client Birth certificate]</td>\n",
       "    </tr>\n",
       "    <tr>\n",
       "      <th>1</th>\n",
       "      <td>Clients birth certificate arrived in mail. case manager Taryn scanned and saved to clients confidential file. birth certificate is being stored in vital docs.</td>\n",
       "      <td>[Client Birth certificate]</td>\n",
       "      <td>[Client Birth certificate]</td>\n",
       "    </tr>\n",
       "    <tr>\n",
       "      <th>2</th>\n",
       "      <td>Email received from Oklahoma Vital Records Office: \"Mr. Screechowl,  I am processing the order you placed for your birth certificate. I need to verify your full name and your mother’s full name please.     Sheri Hendricks | Customer Support  Oklahoma Vital Records Mcalester office | Oklahoma State Department of Health     Phone: (918) 423-1267 x 1505| Fax: (918) 426-7450\"</td>\n",
       "      <td>[Client Birth certificate]</td>\n",
       "      <td>[Client Birth certificate]</td>\n",
       "    </tr>\n",
       "  </tbody>\n",
       "</table>\n",
       "</div>"
      ],
      "text/plain": [
       "                                                                                                                                                                                                                                                                                                                                                                                                                                                                                                                                                                                                                                                                                                                                                                                                                                                NOTE                      LABELS                     ACTUALS\n",
       "0  client presented to triage requesting assistance ordering birth certificate and mailing off social security card app. client brought in MAP card to be mailed off with social security card app. Copy made and given to client. case manager Taryn assisted client with ordering birth certificate thru VitalChek. Order Number: 114764731 Pin: 912577. Copy of confirmation given to client as requested. client also requested confirmation of social security card app being mailed for ECHO to show shes working on her IDs. case manager Taryn wrote letter on DACC letterhead confirming ordering of birth certificate and mailing off of social security card application. client requested bus pass and HEB card. client told client she cannot get an HEB card at this time as she got one late last week. ONE 1-DAY BUS PASS PROVIDED.   [Client Birth certificate]  [Client Birth certificate]\n",
       "1                                                                                                                                                                                                                                                                                                                                                                                                                                                                                                                                                                                                                                                                                    Clients birth certificate arrived in mail. case manager Taryn scanned and saved to clients confidential file. birth certificate is being stored in vital docs.   [Client Birth certificate]  [Client Birth certificate]\n",
       "2                                                                                                                                                                                                                                                                                                                                                                                                                                                             Email received from Oklahoma Vital Records Office: \"Mr. Screechowl,  I am processing the order you placed for your birth certificate. I need to verify your full name and your mother’s full name please.     Sheri Hendricks | Customer Support  Oklahoma Vital Records Mcalester office | Oklahoma State Department of Health     Phone: (918) 423-1267 x 1505| Fax: (918) 426-7450\"  [Client Birth certificate]  [Client Birth certificate]"
      ]
     },
     "metadata": {},
     "output_type": "display_data"
    },
    {
     "name": "stdout",
     "output_type": "stream",
     "text": [
      "Label: Client DPS report\n"
     ]
    },
    {
     "name": "stderr",
     "output_type": "stream",
     "text": [
      "3it [00:00, 756.05it/s]\n",
      "1it [00:00, 56.01it/s]\n"
     ]
    },
    {
     "data": {
      "text/html": [
       "<div>\n",
       "<style scoped>\n",
       "    .dataframe tbody tr th:only-of-type {\n",
       "        vertical-align: middle;\n",
       "    }\n",
       "\n",
       "    .dataframe tbody tr th {\n",
       "        vertical-align: top;\n",
       "    }\n",
       "\n",
       "    .dataframe thead th {\n",
       "        text-align: right;\n",
       "    }\n",
       "</style>\n",
       "<table border=\"1\" class=\"dataframe\">\n",
       "  <thead>\n",
       "    <tr style=\"text-align: right;\">\n",
       "      <th></th>\n",
       "      <th>NOTE</th>\n",
       "      <th>LABELS</th>\n",
       "      <th>ACTUALS</th>\n",
       "    </tr>\n",
       "  </thead>\n",
       "  <tbody>\n",
       "    <tr>\n",
       "      <th>0</th>\n",
       "      <td>case manager was referred to case manage the client through the HOST team. The client presented to the DACC office following a tour of CF!V with his friend, Curtis Schneider. The client and Curtis S. requested to be case managed and housed together (the clients signed ROI for one another). case manager explained DACC policies on grievances, privacy practices, and exiting case manager, and the client signed all documents. case manager explained PSH possibility through Integral Care, and the clients were agreeable to scheduling intakes. The client signed an ROI for IC. case manager ordered the clients birth certificate through VitalChek. case manager texted CHP Amber to assist in obtaining the clients MAP card. case manager assisted the client in requesting a replacement social security card card. case manager picked up the clients certified face sheet and mailed it with the replacement social security card card application. The client was agreeable to meeting with case manager the following week.</td>\n",
       "      <td>[]</td>\n",
       "      <td>[Client DPS report]</td>\n",
       "    </tr>\n",
       "    <tr>\n",
       "      <th>1</th>\n",
       "      <td>case manager met w/ client for scheduled appt. Clients eyes were red and glazed and he had an irritable affect. case manager inquired about his experience at the CFV tour, in which, he stated he is interested in applying. client then became tangential and began speaking of how he should be able to get an apartment at The Palms. client was easily redirected and the CFV application was completed and will be submitted today. case manager mentioned that client had told case manager-S Jennifer that he is open to Capital Studies, however, client stated that he is \"mad at people who live there\" right now. case manager ran a DPS report which showed client has a felony forgery charge from November 2017 which would disqualify him from Foundation Communities until next year. client reported he received notice from the doctor that his Hepatitis C has been completely cleared. He also stated that he has not heard back from Block by Block about his drug test, which is making him angry. case manager encouraged client to call and check in but to have patience. case manager asked about clients case manager at the ARCH and requested that he obtain a business card for case manager. client was given A 7 DAY BUS PASS. An appt was made for Tuesday 8/6 at 9:30AM. *client may have one 7 day bus pass next week from on-call*</td>\n",
       "      <td>[Client Birth certificate]</td>\n",
       "      <td>[Client Assessment Conducted, Client Birth certificate, Client DPS report, Release of information forms signed for all appropriate vendors and agencies]</td>\n",
       "    </tr>\n",
       "    <tr>\n",
       "      <th>2</th>\n",
       "      <td>case manager SK ran DPS Criminal history, no criminal history found. Made a referral to R2R PA; sent a ROI and a Referral form to Chris Bond @ R2R.</td>\n",
       "      <td>[Client DPS report]</td>\n",
       "      <td>[Client DPS report]</td>\n",
       "    </tr>\n",
       "  </tbody>\n",
       "</table>\n",
       "</div>"
      ],
      "text/plain": [
       "                                                                                                                                                                                                                                                                                                                                                                                                                                                                                                                                                                                                                                                                                                                                                                                                                                                                                                                                                                                                                                                                                                                                                                                                                                                                                                                                                                      NOTE  \\\n",
       "0                                                                                                                                                                                                                                                                                                                     case manager was referred to case manage the client through the HOST team. The client presented to the DACC office following a tour of CF!V with his friend, Curtis Schneider. The client and Curtis S. requested to be case managed and housed together (the clients signed ROI for one another). case manager explained DACC policies on grievances, privacy practices, and exiting case manager, and the client signed all documents. case manager explained PSH possibility through Integral Care, and the clients were agreeable to scheduling intakes. The client signed an ROI for IC. case manager ordered the clients birth certificate through VitalChek. case manager texted CHP Amber to assist in obtaining the clients MAP card. case manager assisted the client in requesting a replacement social security card card. case manager picked up the clients certified face sheet and mailed it with the replacement social security card card application. The client was agreeable to meeting with case manager the following week.     \n",
       "1  case manager met w/ client for scheduled appt. Clients eyes were red and glazed and he had an irritable affect. case manager inquired about his experience at the CFV tour, in which, he stated he is interested in applying. client then became tangential and began speaking of how he should be able to get an apartment at The Palms. client was easily redirected and the CFV application was completed and will be submitted today. case manager mentioned that client had told case manager-S Jennifer that he is open to Capital Studies, however, client stated that he is \"mad at people who live there\" right now. case manager ran a DPS report which showed client has a felony forgery charge from November 2017 which would disqualify him from Foundation Communities until next year. client reported he received notice from the doctor that his Hepatitis C has been completely cleared. He also stated that he has not heard back from Block by Block about his drug test, which is making him angry. case manager encouraged client to call and check in but to have patience. case manager asked about clients case manager at the ARCH and requested that he obtain a business card for case manager. client was given A 7 DAY BUS PASS. An appt was made for Tuesday 8/6 at 9:30AM. *client may have one 7 day bus pass next week from on-call*   \n",
       "2                                                                                                                                                                                                                                                                                                                                                                                                                                                                                                                                                                                                                                                                                                                                                                                                                                                                                                                                                                                                                                                                                                                                                                                                                   case manager SK ran DPS Criminal history, no criminal history found. Made a referral to R2R PA; sent a ROI and a Referral form to Chris Bond @ R2R.      \n",
       "\n",
       "                       LABELS                                                                                                                                                   ACTUALS  \n",
       "0                          []                                                                                                                                       [Client DPS report]  \n",
       "1  [Client Birth certificate]  [Client Assessment Conducted, Client Birth certificate, Client DPS report, Release of information forms signed for all appropriate vendors and agencies]  \n",
       "2         [Client DPS report]                                                                                                                                       [Client DPS report]  "
      ]
     },
     "metadata": {},
     "output_type": "display_data"
    },
    {
     "name": "stdout",
     "output_type": "stream",
     "text": [
      "Label: Client Texas State ID\n"
     ]
    },
    {
     "name": "stderr",
     "output_type": "stream",
     "text": [
      "3it [00:00, 864.03it/s]\n",
      "1it [00:00, 59.30it/s]\n"
     ]
    },
    {
     "data": {
      "text/html": [
       "<div>\n",
       "<style scoped>\n",
       "    .dataframe tbody tr th:only-of-type {\n",
       "        vertical-align: middle;\n",
       "    }\n",
       "\n",
       "    .dataframe tbody tr th {\n",
       "        vertical-align: top;\n",
       "    }\n",
       "\n",
       "    .dataframe thead th {\n",
       "        text-align: right;\n",
       "    }\n",
       "</style>\n",
       "<table border=\"1\" class=\"dataframe\">\n",
       "  <thead>\n",
       "    <tr style=\"text-align: right;\">\n",
       "      <th></th>\n",
       "      <th>NOTE</th>\n",
       "      <th>LABELS</th>\n",
       "      <th>ACTUALS</th>\n",
       "    </tr>\n",
       "  </thead>\n",
       "  <tbody>\n",
       "    <tr>\n",
       "      <th>0</th>\n",
       "      <td>Transported client to medical appt with Dr.Mercer at Care Connections, Dr Mercer changed a couple of her meds and gave her a flu and tetanus shot. Doctor Mercer would like to follow up with client in 3 months. Transported client to get her ID at DPS. Transported client to pick her meds up. ONE HEB CARD AND ONE WENDYS CARD. Dropped her off at McCabe. case manager Amy at front steps will be meeting with client and her husband to tour an appt on 1/13/2020. Next appt with client and case manager is at noon on 1/14/2020.</td>\n",
       "      <td>[Client Texas State ID]</td>\n",
       "      <td>[Client Texas State ID]</td>\n",
       "    </tr>\n",
       "    <tr>\n",
       "      <th>1</th>\n",
       "      <td>client presented for triage for assistance. client reports recently being sexually assaulted wherein all her documents and clothing were stolen. case manager Bailey was able to provide HYGIENE, UNDERWARE, BRA, SHIRT, AND PANTS. A Be Safe, Be Seen neon bag was also provided. When asked whether client has any interest in reporting her recent experience, client perseverated on how little she trusts law enforcement and the state of Texas in general. Clients ID was able to be renewed online, receipt scanned and saved in client confidential file. client may return this afternoon to order her birth certificate and has requested case manager Bailey assist if available. client has engaged and seems comfortable with case manager Bailey and case manager So Yong, but may be reluctant to engage with others at this time.</td>\n",
       "      <td>[Client Texas State ID]</td>\n",
       "      <td>[Client Texas State ID]</td>\n",
       "    </tr>\n",
       "    <tr>\n",
       "      <th>2</th>\n",
       "      <td>Met w/client at Arbors at Creekside and confirmed all required documents were present. Scheduled a Lyft ride and met w/client at DPS. client to receive her texas id w/n 2 weeks. client requested to keep her ORIGINAL social security card. case manager to store CLTs original birth certificate. client received 2 HEB CARDS. client met with Angelica, psychiatrist w/IC yesterday and has her PCP f/u appt this Thursday. case manager assisted client call TSO to schedule an eye appt but was asked to call after 2pm to check if there are cancellations. case manager reminded client of importance to keep her appts. client will call TSO this afternoon to check if there are any available appts. case manager shared CLTs temp ID with M3 team.</td>\n",
       "      <td>[Client Texas State ID]</td>\n",
       "      <td>[Client Texas State ID]</td>\n",
       "    </tr>\n",
       "  </tbody>\n",
       "</table>\n",
       "</div>"
      ],
      "text/plain": [
       "                                                                                                                                                                                                                                                                                                                                                                                                                                                                                                                                                                                                                                                                                                                                                                                                                                                  NOTE                   LABELS                  ACTUALS\n",
       "0                                                                                                                                                                                                                                                                                                          Transported client to medical appt with Dr.Mercer at Care Connections, Dr Mercer changed a couple of her meds and gave her a flu and tetanus shot. Doctor Mercer would like to follow up with client in 3 months. Transported client to get her ID at DPS. Transported client to pick her meds up. ONE HEB CARD AND ONE WENDYS CARD. Dropped her off at McCabe. case manager Amy at front steps will be meeting with client and her husband to tour an appt on 1/13/2020. Next appt with client and case manager is at noon on 1/14/2020.    [Client Texas State ID]  [Client Texas State ID]\n",
       "1  client presented for triage for assistance. client reports recently being sexually assaulted wherein all her documents and clothing were stolen. case manager Bailey was able to provide HYGIENE, UNDERWARE, BRA, SHIRT, AND PANTS. A Be Safe, Be Seen neon bag was also provided. When asked whether client has any interest in reporting her recent experience, client perseverated on how little she trusts law enforcement and the state of Texas in general. Clients ID was able to be renewed online, receipt scanned and saved in client confidential file. client may return this afternoon to order her birth certificate and has requested case manager Bailey assist if available. client has engaged and seems comfortable with case manager Bailey and case manager So Yong, but may be reluctant to engage with others at this time.   [Client Texas State ID]  [Client Texas State ID]\n",
       "2                                                                                 Met w/client at Arbors at Creekside and confirmed all required documents were present. Scheduled a Lyft ride and met w/client at DPS. client to receive her texas id w/n 2 weeks. client requested to keep her ORIGINAL social security card. case manager to store CLTs original birth certificate. client received 2 HEB CARDS. client met with Angelica, psychiatrist w/IC yesterday and has her PCP f/u appt this Thursday. case manager assisted client call TSO to schedule an eye appt but was asked to call after 2pm to check if there are cancellations. case manager reminded client of importance to keep her appts. client will call TSO this afternoon to check if there are any available appts. case manager shared CLTs temp ID with M3 team.        [Client Texas State ID]  [Client Texas State ID]"
      ]
     },
     "metadata": {},
     "output_type": "display_data"
    },
    {
     "name": "stdout",
     "output_type": "stream",
     "text": [
      "Label: Client assigned DACC CSR\n"
     ]
    },
    {
     "name": "stderr",
     "output_type": "stream",
     "text": [
      "3it [00:00, 1512.73it/s]\n",
      "1it [00:00, 56.01it/s]\n"
     ]
    },
    {
     "data": {
      "text/html": [
       "<div>\n",
       "<style scoped>\n",
       "    .dataframe tbody tr th:only-of-type {\n",
       "        vertical-align: middle;\n",
       "    }\n",
       "\n",
       "    .dataframe tbody tr th {\n",
       "        vertical-align: top;\n",
       "    }\n",
       "\n",
       "    .dataframe thead th {\n",
       "        text-align: right;\n",
       "    }\n",
       "</style>\n",
       "<table border=\"1\" class=\"dataframe\">\n",
       "  <thead>\n",
       "    <tr style=\"text-align: right;\">\n",
       "      <th></th>\n",
       "      <th>NOTE</th>\n",
       "      <th>LABELS</th>\n",
       "      <th>ACTUALS</th>\n",
       "    </tr>\n",
       "  </thead>\n",
       "  <tbody>\n",
       "    <tr>\n",
       "      <th>0</th>\n",
       "      <td>client presented for case no. 158889.</td>\n",
       "      <td>[Legal Issues]</td>\n",
       "      <td>[Client assigned DACC CSR, Legal Issues]</td>\n",
       "    </tr>\n",
       "    <tr>\n",
       "      <th>1</th>\n",
       "      <td>case manager met w/ client to go over assigned CSR. client reports currently staying at the ARCH and having been sober from alcohol and K2 for 3 weeks. case manager offered to connect client with a recovery coach from Communities for Recovery and informed him meeting with them twice could count for his 36 hours. client stated \"maybe later\" and decided to do the work crew instead.</td>\n",
       "      <td>[Legal Issues]</td>\n",
       "      <td>[Client assigned DACC CSR]</td>\n",
       "    </tr>\n",
       "    <tr>\n",
       "      <th>2</th>\n",
       "      <td>client presented for triage byway of court basket. client has been assigned 36 hours of CSR for case no. 152786. client understands the requirements of CSR completion and intends on completing said hours with the DACC Work Crew.</td>\n",
       "      <td>[Legal Issues]</td>\n",
       "      <td>[Client assigned DACC CSR]</td>\n",
       "    </tr>\n",
       "  </tbody>\n",
       "</table>\n",
       "</div>"
      ],
      "text/plain": [
       "                                                                                                                                                                                                                                                                                                                                                                                             NOTE          LABELS                                   ACTUALS\n",
       "0                                                                                                                                                                                                                                                                                                                                                           client presented for case no. 158889.  [Legal Issues]  [Client assigned DACC CSR, Legal Issues]\n",
       "1  case manager met w/ client to go over assigned CSR. client reports currently staying at the ARCH and having been sober from alcohol and K2 for 3 weeks. case manager offered to connect client with a recovery coach from Communities for Recovery and informed him meeting with them twice could count for his 36 hours. client stated \"maybe later\" and decided to do the work crew instead.  [Legal Issues]                [Client assigned DACC CSR]\n",
       "2                                                                                                                                                           client presented for triage byway of court basket. client has been assigned 36 hours of CSR for case no. 152786. client understands the requirements of CSR completion and intends on completing said hours with the DACC Work Crew.   [Legal Issues]                [Client assigned DACC CSR]"
      ]
     },
     "metadata": {},
     "output_type": "display_data"
    },
    {
     "name": "stdout",
     "output_type": "stream",
     "text": [
      "Label: Coordinated Assessment Completed at DACC\n"
     ]
    },
    {
     "name": "stderr",
     "output_type": "stream",
     "text": [
      "3it [00:00, 2015.85it/s]\n",
      "1it [00:00, 57.61it/s]\n"
     ]
    },
    {
     "data": {
      "text/html": [
       "<div>\n",
       "<style scoped>\n",
       "    .dataframe tbody tr th:only-of-type {\n",
       "        vertical-align: middle;\n",
       "    }\n",
       "\n",
       "    .dataframe tbody tr th {\n",
       "        vertical-align: top;\n",
       "    }\n",
       "\n",
       "    .dataframe thead th {\n",
       "        text-align: right;\n",
       "    }\n",
       "</style>\n",
       "<table border=\"1\" class=\"dataframe\">\n",
       "  <thead>\n",
       "    <tr style=\"text-align: right;\">\n",
       "      <th></th>\n",
       "      <th>NOTE</th>\n",
       "      <th>LABELS</th>\n",
       "      <th>ACTUALS</th>\n",
       "    </tr>\n",
       "  </thead>\n",
       "  <tbody>\n",
       "    <tr>\n",
       "      <th>0</th>\n",
       "      <td>On 2/21 case manager transported client to PURC @ Palm Park. client received a medical evaluation, replacement MAP card, prescription refill, HIV/HEP C screening, and updated his CA. Medication will be available for pick up on 2/22. client repeatedly expressed gratitude for the support he has received from case manager Rebeka, EMS, and DACC. client expressed concern he might not find this kind of support in California. case manager encouraged client to not feel pressured in needing to make a decision today. case manager recommended client complete treatment at Cenikor and transfer to Alameda house for additional support while he is stabilizing on his medications.</td>\n",
       "      <td>[Coordinated Assessment Completed at DACC]</td>\n",
       "      <td>[Coordinated Assessment Completed at DACC]</td>\n",
       "    </tr>\n",
       "    <tr>\n",
       "      <th>1</th>\n",
       "      <td>Met with client for scheduled appointment and completed a CA. client scored in the PSH range with a 10 and the appropriate referrals were made. client was given credit for 12 CSR hours for completing CA.</td>\n",
       "      <td>[Coordinated Assessment Completed at DACC, Legal Issues]</td>\n",
       "      <td>[Coordinated Assessment Completed at DACC, Legal Issues]</td>\n",
       "    </tr>\n",
       "    <tr>\n",
       "      <th>2</th>\n",
       "      <td>case manager met with client to complete CA, scored 14 and referred to PSH and RRH. client reported wanting to live with partner. case manager advised partner also need to complete updated CA. client requested assistance with apply for SNAP and ordering phone in the future. client advised to wait in lobby for next triage case manager to complete SNAP app.</td>\n",
       "      <td>[Coordinated Assessment Completed at DACC]</td>\n",
       "      <td>[Coordinated Assessment Completed at DACC]</td>\n",
       "    </tr>\n",
       "  </tbody>\n",
       "</table>\n",
       "</div>"
      ],
      "text/plain": [
       "                                                                                                                                                                                                                                                                                                                                                                                                                                                                                                                                                                                                                                                                                               NOTE                                                    LABELS                                                   ACTUALS\n",
       "0  On 2/21 case manager transported client to PURC @ Palm Park. client received a medical evaluation, replacement MAP card, prescription refill, HIV/HEP C screening, and updated his CA. Medication will be available for pick up on 2/22. client repeatedly expressed gratitude for the support he has received from case manager Rebeka, EMS, and DACC. client expressed concern he might not find this kind of support in California. case manager encouraged client to not feel pressured in needing to make a decision today. case manager recommended client complete treatment at Cenikor and transfer to Alameda house for additional support while he is stabilizing on his medications.                 [Coordinated Assessment Completed at DACC]                [Coordinated Assessment Completed at DACC]\n",
       "1                                                                                                                                                                                                                                                                                                                                                                                                                                                                                      Met with client for scheduled appointment and completed a CA. client scored in the PSH range with a 10 and the appropriate referrals were made. client was given credit for 12 CSR hours for completing CA.   [Coordinated Assessment Completed at DACC, Legal Issues]  [Coordinated Assessment Completed at DACC, Legal Issues]\n",
       "2                                                                                                                                                                                                                                                                                                                            case manager met with client to complete CA, scored 14 and referred to PSH and RRH. client reported wanting to live with partner. case manager advised partner also need to complete updated CA. client requested assistance with apply for SNAP and ordering phone in the future. client advised to wait in lobby for next triage case manager to complete SNAP app.                 [Coordinated Assessment Completed at DACC]                [Coordinated Assessment Completed at DACC]"
      ]
     },
     "metadata": {},
     "output_type": "display_data"
    },
    {
     "name": "stdout",
     "output_type": "stream",
     "text": [
      "Label: HMIS Release of Information - Agreed\n"
     ]
    },
    {
     "name": "stderr",
     "output_type": "stream",
     "text": [
      "3it [00:00, 1008.08it/s]\n",
      "1it [00:00, 59.30it/s]\n"
     ]
    },
    {
     "data": {
      "text/html": [
       "<div>\n",
       "<style scoped>\n",
       "    .dataframe tbody tr th:only-of-type {\n",
       "        vertical-align: middle;\n",
       "    }\n",
       "\n",
       "    .dataframe tbody tr th {\n",
       "        vertical-align: top;\n",
       "    }\n",
       "\n",
       "    .dataframe thead th {\n",
       "        text-align: right;\n",
       "    }\n",
       "</style>\n",
       "<table border=\"1\" class=\"dataframe\">\n",
       "  <thead>\n",
       "    <tr style=\"text-align: right;\">\n",
       "      <th></th>\n",
       "      <th>NOTE</th>\n",
       "      <th>LABELS</th>\n",
       "      <th>ACTUALS</th>\n",
       "    </tr>\n",
       "  </thead>\n",
       "  <tbody>\n",
       "    <tr>\n",
       "      <th>0</th>\n",
       "      <td>met with client at DACC. client came in to complete CA, but client had already completed a CA on 04/13/2017 at Sunrise Church. client reported assistance with housing. client made appointment to meet with HOST case manager at 8 am on Wednesday May 3 to get on Foundation Communities Waitlist.  client works with TOM at Path. client would also like to go to CF Village for tour. Signed ROI</td>\n",
       "      <td>[Coordinated Assessment Completed at DACC]</td>\n",
       "      <td>[HMIS Release of Information - Agreed, HMIS profile created/updated]</td>\n",
       "    </tr>\n",
       "    <tr>\n",
       "      <th>1</th>\n",
       "      <td>02-11-2019 client completed coordinated assessment. client scored 14, PSH referrals made. client staying at the ARCH and is looking to obtain Case Management at The ARCH. client reports interest in any of the Terrace Apartments from FC, was given phone numbers for each to call. client also given 2 x 1 day bus passes and a slim wallet from closet.</td>\n",
       "      <td>[Coordinated Assessment Completed at DACC, HMIS Release of Information - Agreed, HMIS profile created/updated]</td>\n",
       "      <td>[Client Birth certificate, Coordinated Assessment Completed at DACC, HMIS Release of Information - Agreed, HMIS profile created/updated, Legal Issues]</td>\n",
       "    </tr>\n",
       "    <tr>\n",
       "      <th>2</th>\n",
       "      <td>completed coordinated assessment with client. client scored 10, PSH referrals made. client expresses interest in housing and said he would like to go to CF Village to see tour. client also expresses interest to go to social security card administration. client will meet with HOST case manager chris at 10 am on Monday April 10;</td>\n",
       "      <td>[Coordinated Assessment Completed at DACC, HMIS profile created/updated]</td>\n",
       "      <td>[Coordinated Assessment Completed at DACC, HMIS Release of Information - Agreed, HMIS profile created/updated]</td>\n",
       "    </tr>\n",
       "  </tbody>\n",
       "</table>\n",
       "</div>"
      ],
      "text/plain": [
       "                                                                                                                                                                                                                                                                                                                                                                                                   NOTE                                                                                                          LABELS                                                                                                                                                 ACTUALS\n",
       "0  met with client at DACC. client came in to complete CA, but client had already completed a CA on 04/13/2017 at Sunrise Church. client reported assistance with housing. client made appointment to meet with HOST case manager at 8 am on Wednesday May 3 to get on Foundation Communities Waitlist.  client works with TOM at Path. client would also like to go to CF Village for tour. Signed ROI                                                                      [Coordinated Assessment Completed at DACC]                                                                                    [HMIS Release of Information - Agreed, HMIS profile created/updated]\n",
       "1                                         02-11-2019 client completed coordinated assessment. client scored 14, PSH referrals made. client staying at the ARCH and is looking to obtain Case Management at The ARCH. client reports interest in any of the Terrace Apartments from FC, was given phone numbers for each to call. client also given 2 x 1 day bus passes and a slim wallet from closet.   [Coordinated Assessment Completed at DACC, HMIS Release of Information - Agreed, HMIS profile created/updated]  [Client Birth certificate, Coordinated Assessment Completed at DACC, HMIS Release of Information - Agreed, HMIS profile created/updated, Legal Issues]\n",
       "2                                                              completed coordinated assessment with client. client scored 10, PSH referrals made. client expresses interest in housing and said he would like to go to CF Village to see tour. client also expresses interest to go to social security card administration. client will meet with HOST case manager chris at 10 am on Monday April 10;                                        [Coordinated Assessment Completed at DACC, HMIS profile created/updated]                                          [Coordinated Assessment Completed at DACC, HMIS Release of Information - Agreed, HMIS profile created/updated]"
      ]
     },
     "metadata": {},
     "output_type": "display_data"
    },
    {
     "name": "stdout",
     "output_type": "stream",
     "text": [
      "Label: HMIS profile created/updated\n"
     ]
    },
    {
     "name": "stderr",
     "output_type": "stream",
     "text": [
      "3it [00:00, 1008.08it/s]\n",
      "1it [00:00, 57.61it/s]\n"
     ]
    },
    {
     "data": {
      "text/html": [
       "<div>\n",
       "<style scoped>\n",
       "    .dataframe tbody tr th:only-of-type {\n",
       "        vertical-align: middle;\n",
       "    }\n",
       "\n",
       "    .dataframe tbody tr th {\n",
       "        vertical-align: top;\n",
       "    }\n",
       "\n",
       "    .dataframe thead th {\n",
       "        text-align: right;\n",
       "    }\n",
       "</style>\n",
       "<table border=\"1\" class=\"dataframe\">\n",
       "  <thead>\n",
       "    <tr style=\"text-align: right;\">\n",
       "      <th></th>\n",
       "      <th>NOTE</th>\n",
       "      <th>LABELS</th>\n",
       "      <th>ACTUALS</th>\n",
       "    </tr>\n",
       "  </thead>\n",
       "  <tbody>\n",
       "    <tr>\n",
       "      <th>0</th>\n",
       "      <td>08-21-2019 client completed coordinated assessment. client scored 13, RRH referrals made. client receives SSI and reports he still works doing odd jobs , and working for Barbara Loving at her group homes. client reports interest in CFV and signed up for the tour September 18 at DACC. client given 2 x 1 day bus pass.</td>\n",
       "      <td>[Client Texas State ID]</td>\n",
       "      <td>[HMIS profile created/updated]</td>\n",
       "    </tr>\n",
       "    <tr>\n",
       "      <th>1</th>\n",
       "      <td>client presented to triage for the first time requesting -gas, housing, clothing and food resources. JEMs profile already established. No HMIS profile found. case manager explained triage, ICM, HMIS &amp; CA. client disclosed she lost her job and no longer receives unemployment \"after Abbott took it away\". client elaborated that she is currently \"depressed\" and lost her mom, brother and buddy. client is experiencing cumulative grief. client said that she has ADHD and already got her MAP card to see a provider. client expressed interest in SSI/SSDI. client noted that she as a \"bump\" on her foot and it swell and makes it hard for her to walk. client was evicted from last apartment due to nonpayment. client referred to case manager Sean to complete phone CA. client added to HMIS. client and case manager called CuC East Austin clinic and scheduled PCP &amp; OB appt but was on hold for over 30 minutes. client completed SNAP app and provided texas id to support (scanned to CLs confidential file). client GIVEN HEB CARD, HER OG texas id, food &amp; clothing resource list. client urged to return to triage if any other needs arise. **ATTN TRIAGE case manager: PLEASE ADD client TO ICM WAITLIST ONCE CA COMPLETED &amp; TAKE PICTURE FOR HMIS TOO**    C: 512-903-1736</td>\n",
       "      <td>[Coordinated Assessment Completed at DACC, HMIS profile created/updated]</td>\n",
       "      <td>[Coordinated Assessment Completed at DACC, HMIS profile created/updated]</td>\n",
       "    </tr>\n",
       "    <tr>\n",
       "      <th>2</th>\n",
       "      <td>11-14-2018 client completed update of coordinated assessment. client scored 17, PSH referrals made.</td>\n",
       "      <td>[Coordinated Assessment Completed at DACC, HMIS Release of Information - Agreed, HMIS profile created/updated]</td>\n",
       "      <td>[Coordinated Assessment Completed at DACC, HMIS profile created/updated]</td>\n",
       "    </tr>\n",
       "  </tbody>\n",
       "</table>\n",
       "</div>"
      ],
      "text/plain": [
       "                                                                                                                                                                                                                                                                                                                                                                                                                                                                                                                                                                                                                                                                                                                                                                                                                                                                                                                                                                                                                                                                                                                                                                                                                                                                                                        NOTE  \\\n",
       "0                                                                                                                                                                                                                                                                                                                                                                                                                                                                                                                                                                                                                                                                                                                                                                                                                                                                                                                                                                         08-21-2019 client completed coordinated assessment. client scored 13, RRH referrals made. client receives SSI and reports he still works doing odd jobs , and working for Barbara Loving at her group homes. client reports interest in CFV and signed up for the tour September 18 at DACC. client given 2 x 1 day bus pass.        \n",
       "1  client presented to triage for the first time requesting -gas, housing, clothing and food resources. JEMs profile already established. No HMIS profile found. case manager explained triage, ICM, HMIS & CA. client disclosed she lost her job and no longer receives unemployment \"after Abbott took it away\". client elaborated that she is currently \"depressed\" and lost her mom, brother and buddy. client is experiencing cumulative grief. client said that she has ADHD and already got her MAP card to see a provider. client expressed interest in SSI/SSDI. client noted that she as a \"bump\" on her foot and it swell and makes it hard for her to walk. client was evicted from last apartment due to nonpayment. client referred to case manager Sean to complete phone CA. client added to HMIS. client and case manager called CuC East Austin clinic and scheduled PCP & OB appt but was on hold for over 30 minutes. client completed SNAP app and provided texas id to support (scanned to CLs confidential file). client GIVEN HEB CARD, HER OG texas id, food & clothing resource list. client urged to return to triage if any other needs arise. **ATTN TRIAGE case manager: PLEASE ADD client TO ICM WAITLIST ONCE CA COMPLETED & TAKE PICTURE FOR HMIS TOO**    C: 512-903-1736    \n",
       "2                                                                                                                                                                                                                                                                                                                                                                                                                                                                                                                                                                                                                                                                                                                                                                                                                                                                                                                                                                                                                                                                                                                                                                                                     11-14-2018 client completed update of coordinated assessment. client scored 17, PSH referrals made.      \n",
       "\n",
       "                                                                                                           LABELS                                                                   ACTUALS  \n",
       "0                                                                                         [Client Texas State ID]                                            [HMIS profile created/updated]  \n",
       "1                                        [Coordinated Assessment Completed at DACC, HMIS profile created/updated]  [Coordinated Assessment Completed at DACC, HMIS profile created/updated]  \n",
       "2  [Coordinated Assessment Completed at DACC, HMIS Release of Information - Agreed, HMIS profile created/updated]  [Coordinated Assessment Completed at DACC, HMIS profile created/updated]  "
      ]
     },
     "metadata": {},
     "output_type": "display_data"
    },
    {
     "name": "stdout",
     "output_type": "stream",
     "text": [
      "Label: Legal Issues\n"
     ]
    },
    {
     "name": "stderr",
     "output_type": "stream",
     "text": [
      "3it [00:00, 1008.00it/s]\n",
      "1it [00:00, 57.60it/s]\n"
     ]
    },
    {
     "data": {
      "text/html": [
       "<div>\n",
       "<style scoped>\n",
       "    .dataframe tbody tr th:only-of-type {\n",
       "        vertical-align: middle;\n",
       "    }\n",
       "\n",
       "    .dataframe tbody tr th {\n",
       "        vertical-align: top;\n",
       "    }\n",
       "\n",
       "    .dataframe thead th {\n",
       "        text-align: right;\n",
       "    }\n",
       "</style>\n",
       "<table border=\"1\" class=\"dataframe\">\n",
       "  <thead>\n",
       "    <tr style=\"text-align: right;\">\n",
       "      <th></th>\n",
       "      <th>NOTE</th>\n",
       "      <th>LABELS</th>\n",
       "      <th>ACTUALS</th>\n",
       "    </tr>\n",
       "  </thead>\n",
       "  <tbody>\n",
       "    <tr>\n",
       "      <th>0</th>\n",
       "      <td>client presented to triage to visit judge and prosecutor. Randy notified case manager that client had past drug charges in Spring 2020 that required 24 CSR: working with case manager, completing drug-related programs or both. case manager notified client that court will be notified of completion of requirements sans details on her Summer/Fall 2020 Alameda stint. Email sent to Clerk Eve: \"Hey Eve,    Please find the attached for Case #160705.\" Eve replied: \"Thank you! I will apply it to her case. (Enclosed with verification letter: \"November 23,2021          Carolyn Brooks (DOB:  10/10/63) has completed Case Management Activities through Downtown Austin Community Court and has earned 24 total hours of CSR.      Please apply these hours to case #160705.    Please contact me if you have any questions or concerns.      Sincerely,\"</td>\n",
       "      <td>[Legal Issues]</td>\n",
       "      <td>[Legal Issues]</td>\n",
       "    </tr>\n",
       "    <tr>\n",
       "      <th>1</th>\n",
       "      <td>Prosecutor Ortega asked this OCM if the client met his deferral requirements for 156255. The client has not met the full requirements. The client did complete is CA for 12 hours and birth certificate was ordered. There is no documentation of the clients social security card card and texas id card to complete the requirements. case manager conveyed this to the prosecutor in an email.</td>\n",
       "      <td>[Legal Issues]</td>\n",
       "      <td>[Legal Issues]</td>\n",
       "    </tr>\n",
       "    <tr>\n",
       "      <th>2</th>\n",
       "      <td>case manager called and spoke with John Zamarripa Legal Assitant 512-689-7264 Law Office of Chantal Eldridge to determine if the client was accepted into the Phoenix Court program. John confirmed the client was released from TCCC, which case manager was aware of. John had no knowledge of whether or not the client was involved in the Phoenix Court program. Case was settled on Oct. 2. John has no further information at this time.</td>\n",
       "      <td>[Legal Issues]</td>\n",
       "      <td>[Legal Issues]</td>\n",
       "    </tr>\n",
       "  </tbody>\n",
       "</table>\n",
       "</div>"
      ],
      "text/plain": [
       "                                                                                                                                                                                                                                                                                                                                                                                                                                                                                                                                                                                                                                                                                                                                                                                                                                                                       NOTE          LABELS         ACTUALS\n",
       "0  client presented to triage to visit judge and prosecutor. Randy notified case manager that client had past drug charges in Spring 2020 that required 24 CSR: working with case manager, completing drug-related programs or both. case manager notified client that court will be notified of completion of requirements sans details on her Summer/Fall 2020 Alameda stint. Email sent to Clerk Eve: \"Hey Eve,    Please find the attached for Case #160705.\" Eve replied: \"Thank you! I will apply it to her case. (Enclosed with verification letter: \"November 23,2021          Carolyn Brooks (DOB:  10/10/63) has completed Case Management Activities through Downtown Austin Community Court and has earned 24 total hours of CSR.      Please apply these hours to case #160705.    Please contact me if you have any questions or concerns.      Sincerely,\"    [Legal Issues]  [Legal Issues]\n",
       "1                                                                                                                                                                                                                                                                                                                                                                                                                                                                      Prosecutor Ortega asked this OCM if the client met his deferral requirements for 156255. The client has not met the full requirements. The client did complete is CA for 12 hours and birth certificate was ordered. There is no documentation of the clients social security card card and texas id card to complete the requirements. case manager conveyed this to the prosecutor in an email.     [Legal Issues]  [Legal Issues]\n",
       "2                                                                                                                                                                                                                                                                                                                                                                                                                          case manager called and spoke with John Zamarripa Legal Assitant 512-689-7264 Law Office of Chantal Eldridge to determine if the client was accepted into the Phoenix Court program. John confirmed the client was released from TCCC, which case manager was aware of. John had no knowledge of whether or not the client was involved in the Phoenix Court program. Case was settled on Oct. 2. John has no further information at this time.   [Legal Issues]  [Legal Issues]"
      ]
     },
     "metadata": {},
     "output_type": "display_data"
    },
    {
     "name": "stdout",
     "output_type": "stream",
     "text": [
      "Label: Release of information forms signed for all appropriate vendors and agencies\n"
     ]
    },
    {
     "name": "stderr",
     "output_type": "stream",
     "text": [
      "3it [00:00, 1008.33it/s]\n",
      "1it [00:00, 56.00it/s]\n"
     ]
    },
    {
     "data": {
      "text/html": [
       "<div>\n",
       "<style scoped>\n",
       "    .dataframe tbody tr th:only-of-type {\n",
       "        vertical-align: middle;\n",
       "    }\n",
       "\n",
       "    .dataframe tbody tr th {\n",
       "        vertical-align: top;\n",
       "    }\n",
       "\n",
       "    .dataframe thead th {\n",
       "        text-align: right;\n",
       "    }\n",
       "</style>\n",
       "<table border=\"1\" class=\"dataframe\">\n",
       "  <thead>\n",
       "    <tr style=\"text-align: right;\">\n",
       "      <th></th>\n",
       "      <th>NOTE</th>\n",
       "      <th>LABELS</th>\n",
       "      <th>ACTUALS</th>\n",
       "    </tr>\n",
       "  </thead>\n",
       "  <tbody>\n",
       "    <tr>\n",
       "      <th>0</th>\n",
       "      <td>client presented to triage as scheduled to meet with case manager for about 30 minutes. client stated that his 8/18/21 court date was moved to 9/16 and 9/17. client spoke to his IC case manager Jessica Mendez who convinced him to rethink transitional housing. client noted that IC case manager Jess said theyd cover about 6 months. case manager attempted to send an encrypted email to jess.mendez@integralcare.org: \"Morning Jess, This is Kimberly Lauriston, RG’s DACC case manager [ROI attached]. I’m writing to confirm that IC would be able to cover inpatient/transitional housing for RG. I discussed McCabe with him last week but he declined but has decided to rethink McCabe as well as Alameda. Can you confirm if you all are willing to cover either options? Looking forward to hearing from you.  \" but received a \"failed delivery message\". case manager and client called IC case manager Jess at   512-810-5174 and said that theyll cover 90 days through McCabe or Second Chances. case manager explained that DACC doesnt contract with Second Chances. client just needs to complete intake with Tina and inform them that he is an Integral Care client. Jess confirmed her email as Jessica.Mendes@integralcare.org (saved under KNOWN locations). client called ANE intake line and LVM with his name, noting he was an IC client, and need to complete in intake. client informed of DACC closing week of 23rd and agreed to meet with case manager at OTC at 3pm. client GIVEN 3 HEB CARDS since he already received bus pass from Caritas case manager Ryan.</td>\n",
       "      <td>[Legal Issues]</td>\n",
       "      <td>[Legal Issues, Release of information forms signed for all appropriate vendors and agencies]</td>\n",
       "    </tr>\n",
       "    <tr>\n",
       "      <th>1</th>\n",
       "      <td>Mark was 30 minutes late for the scheduled appointment today, but meeting was still productive. He stated still not having the Assurance Wireless phone. case manager offered to call/check the status, “Nah, I’ll call Monday or something.” Mark then reported, “My biggest problem right now is I haven’t heard back from this job about my background check.” As he just submitted his application for this Warehouse job last week, case manager encouraged he give it more time. case manager said they could research employment resources for individuals with criminal backgrounds, but “my PO [Mia Marshall] gave me a flyer for something on September 15th.” Mark then requested case manager write a support letter “so a Judge can defer me to Public Defender’s office for a free attorney to help get rid of the assault with a deadly weapon charge.” case manager said she would staff this with management and keep him posted on this status. In the meantime, he agreed to sign a full ROI (uploaded into file) for his Probation Officer (Mia Marshall) at Travis County Community Justice Services (TCCJS)/pretrial services so case manager could fully communicate for these legal matters/support. If this doesn’t work out, case manager did provide a Texas Rio Grande Legal Aid (TRGLA) flyer and a Texas Fair Defense Project (TFDP) flyer as other resources. Mark was also provided ONE 7-DAY BUS PASS AND ONE WALMART CARD from Triage case manager Bailey. case manager will remain in touch with Mark about their next TBD appointment and support letter.</td>\n",
       "      <td>[Release of information forms signed for all appropriate vendors and agencies]</td>\n",
       "      <td>[Release of information forms signed for all appropriate vendors and agencies]</td>\n",
       "    </tr>\n",
       "    <tr>\n",
       "      <th>2</th>\n",
       "      <td>case manager met with client for scheduled appt along with Emily from the Trinity Center. case manager discussed a possible PSH opportunity with client in regards to the DACC Front Steps contract. The client was interested and a PSH packet and Front Steps ROI were signed. Emily brought some required SOAR paperwork which was also filled out. client had a labile affect and was extremely tangential, requiring frequent redirection. client also reported that she had been picked up by a man named Russell, whom Emily later informed case manager often picks up homeless women with severe mental illness. No exploitation or abuse was disclosed at this time- case manager will continue to inquire. client asked numerous times about getting HEB giftcards for \"non-food items\" and was told that case manager only provides them occasionally for groceries for housed clients. client was given A 7 DAY BUS PASS and A WENDYS GIFTCARD. An appt was made for 06/25 at 10AM.</td>\n",
       "      <td>[Legal Issues]</td>\n",
       "      <td>[Release of information forms signed for all appropriate vendors and agencies]</td>\n",
       "    </tr>\n",
       "  </tbody>\n",
       "</table>\n",
       "</div>"
      ],
      "text/plain": [
       "                                                                                                                                                                                                                                                                                                                                                                                                                                                                                                                                                                                                                                                                                                                                                                                                                                                                                                                                                                                                                                                                                                                                                                                                                                                                                                                                                                                                                                                                                                                                                                                                           NOTE  \\\n",
       "0  client presented to triage as scheduled to meet with case manager for about 30 minutes. client stated that his 8/18/21 court date was moved to 9/16 and 9/17. client spoke to his IC case manager Jessica Mendez who convinced him to rethink transitional housing. client noted that IC case manager Jess said theyd cover about 6 months. case manager attempted to send an encrypted email to jess.mendez@integralcare.org: \"Morning Jess, This is Kimberly Lauriston, RG’s DACC case manager [ROI attached]. I’m writing to confirm that IC would be able to cover inpatient/transitional housing for RG. I discussed McCabe with him last week but he declined but has decided to rethink McCabe as well as Alameda. Can you confirm if you all are willing to cover either options? Looking forward to hearing from you.  \" but received a \"failed delivery message\". case manager and client called IC case manager Jess at   512-810-5174 and said that theyll cover 90 days through McCabe or Second Chances. case manager explained that DACC doesnt contract with Second Chances. client just needs to complete intake with Tina and inform them that he is an Integral Care client. Jess confirmed her email as Jessica.Mendes@integralcare.org (saved under KNOWN locations). client called ANE intake line and LVM with his name, noting he was an IC client, and need to complete in intake. client informed of DACC closing week of 23rd and agreed to meet with case manager at OTC at 3pm. client GIVEN 3 HEB CARDS since he already received bus pass from Caritas case manager Ryan.       \n",
       "1                Mark was 30 minutes late for the scheduled appointment today, but meeting was still productive. He stated still not having the Assurance Wireless phone. case manager offered to call/check the status, “Nah, I’ll call Monday or something.” Mark then reported, “My biggest problem right now is I haven’t heard back from this job about my background check.” As he just submitted his application for this Warehouse job last week, case manager encouraged he give it more time. case manager said they could research employment resources for individuals with criminal backgrounds, but “my PO [Mia Marshall] gave me a flyer for something on September 15th.” Mark then requested case manager write a support letter “so a Judge can defer me to Public Defender’s office for a free attorney to help get rid of the assault with a deadly weapon charge.” case manager said she would staff this with management and keep him posted on this status. In the meantime, he agreed to sign a full ROI (uploaded into file) for his Probation Officer (Mia Marshall) at Travis County Community Justice Services (TCCJS)/pretrial services so case manager could fully communicate for these legal matters/support. If this doesn’t work out, case manager did provide a Texas Rio Grande Legal Aid (TRGLA) flyer and a Texas Fair Defense Project (TFDP) flyer as other resources. Mark was also provided ONE 7-DAY BUS PASS AND ONE WALMART CARD from Triage case manager Bailey. case manager will remain in touch with Mark about their next TBD appointment and support letter.    \n",
       "2                                                                                                                                                                                                                                                                                                                                                                                                                                                                                                                                                                                                            case manager met with client for scheduled appt along with Emily from the Trinity Center. case manager discussed a possible PSH opportunity with client in regards to the DACC Front Steps contract. The client was interested and a PSH packet and Front Steps ROI were signed. Emily brought some required SOAR paperwork which was also filled out. client had a labile affect and was extremely tangential, requiring frequent redirection. client also reported that she had been picked up by a man named Russell, whom Emily later informed case manager often picks up homeless women with severe mental illness. No exploitation or abuse was disclosed at this time- case manager will continue to inquire. client asked numerous times about getting HEB giftcards for \"non-food items\" and was told that case manager only provides them occasionally for groceries for housed clients. client was given A 7 DAY BUS PASS and A WENDYS GIFTCARD. An appt was made for 06/25 at 10AM.     \n",
       "\n",
       "                                                                           LABELS                                                                                       ACTUALS  \n",
       "0                                                                  [Legal Issues]  [Legal Issues, Release of information forms signed for all appropriate vendors and agencies]  \n",
       "1  [Release of information forms signed for all appropriate vendors and agencies]                [Release of information forms signed for all appropriate vendors and agencies]  \n",
       "2                                                                  [Legal Issues]                [Release of information forms signed for all appropriate vendors and agencies]  "
      ]
     },
     "metadata": {},
     "output_type": "display_data"
    },
    {
     "name": "stdout",
     "output_type": "stream",
     "text": [
      "Label: Treatment Plan completed and signed\n"
     ]
    },
    {
     "name": "stderr",
     "output_type": "stream",
     "text": [
      "3it [00:00, 274.92it/s]\n",
      "1it [00:00, 53.06it/s]\n"
     ]
    },
    {
     "data": {
      "text/html": [
       "<div>\n",
       "<style scoped>\n",
       "    .dataframe tbody tr th:only-of-type {\n",
       "        vertical-align: middle;\n",
       "    }\n",
       "\n",
       "    .dataframe tbody tr th {\n",
       "        vertical-align: top;\n",
       "    }\n",
       "\n",
       "    .dataframe thead th {\n",
       "        text-align: right;\n",
       "    }\n",
       "</style>\n",
       "<table border=\"1\" class=\"dataframe\">\n",
       "  <thead>\n",
       "    <tr style=\"text-align: right;\">\n",
       "      <th></th>\n",
       "      <th>NOTE</th>\n",
       "      <th>LABELS</th>\n",
       "      <th>ACTUALS</th>\n",
       "    </tr>\n",
       "  </thead>\n",
       "  <tbody>\n",
       "    <tr>\n",
       "      <th>0</th>\n",
       "      <td>case manager met with the client at the Northbridge Shelter. case manager reviewed and obtained the clients signature on DACCs policies on privacy practices, grievances, and exiting case manager. Initial assessment and case manager plan of action completed and signed. client signed DACC mail agreement and HMIS ROI. client has social support through his niece - client signed ROI for his niece, Vickie, as she has access to his vital documents and SSA award letters. case manager assisted the client in completing EHV paperwork. client regularly sees a provider through the CuC David Powell clinic. client is agreeable to a Foundation Communities property, particularly one close to the David Powell clinic. client was provided a 7 DAY BUS PASS and an HEB GIFT CARD. case manager called the clients niece, Vickie, who reported Northbridge shelter staff should have copies of his vital documents. Vickie reported ability to obtain an updated award letter for the clients EHV application.</td>\n",
       "      <td>[]</td>\n",
       "      <td>[Client Assessment Conducted, HMIS profile created/updated, Release of information forms signed for all appropriate vendors and agencies, Treatment Plan completed and signed]</td>\n",
       "    </tr>\n",
       "    <tr>\n",
       "      <th>1</th>\n",
       "      <td>Met with client for intake assessment. client presented with appropriate hygiene, in a positive mood, was very animated-almost child-like, and throughout the assessment appeared to have some cognitive difficulties related to understanding information and questions. client reports that she has been experiencing homelessness for 8 years, however, is unable to remember where she was living prior to that. client reported that she normally sleeps outside with her husband, Jerry Johnson, by the I-35 bridge across from the jailhouse but sometimes stays at the Salvation Army, goes to Caritas for lunch, or goes to the Trinity Center for breakfast in the event she needs to be outreached. client states that she does not get SNAP or SSI and has no forms of income. It was unable to be determined if client has ever had employment. client states she was in special education and made it to 11th grade. client reports having no contact with her family because she cannot remember their phone numbers. She says that she does not have friends but has her husband and case manager. client states that she has past diagnosis of bipolar disorder and schizophrenia, but has not been connected to services or taking medication for a number of years due to not knowing how. client reports that she used to drink but no longer does, however, she smokes K2 regularly. client states that she has not smoked K2 in one week and wants to quit because she got in trouble at the Salvation Army. client presented case manager with her sober support sign off sheet and stated that she remembers that theres classes there. From case manager observations, it is unlikely that client will be able to successfully attend or benefit from AA/NA meetings at this time due to a lack of ability to understand. case manager told client that instead of AA/NA, partial CSR credit will be given for attending her appt at Integral Care. client is not aware of any health conditions aside from needing dental work and glasses. A DACC, Integral Care, and St.Davids ROI were signed and uploaded to client file. client was given A WENDYS GIFTCARD. An intake appt w/ Integral Care was scheduled for Monday 3/4 at 8AM off 2nd street, in which case manager will transport.</td>\n",
       "      <td>[Release of information forms signed for all appropriate vendors and agencies]</td>\n",
       "      <td>[Client Assessment Conducted, HMIS profile created/updated, Release of information forms signed for all appropriate vendors and agencies, Treatment Plan completed and signed]</td>\n",
       "    </tr>\n",
       "    <tr>\n",
       "      <th>2</th>\n",
       "      <td>client met with case manager at triage for about 1 hr. case manager conduct biopsychosocial and explained ICM services and expectations. client explained that she pays for hotels 3-4 days at a time and camps out in between. client disclosed MH &amp; SA Hx: bipolar, PTSD, doc: narcotics. client currently in MAT with CuC off 2nd street. client was hesitant to speak further on MH care needs but stated \"I need to restart my meds\" by the end of meeting. client has a strong support system: Pedro (boyfriend), family in San Antonio, and reports close relationship with mother (who is a breast cancer survivor). client disclosed having 3 children, one of which is a minor (girl) living with her parents. client currently works for her fathers business and makes $2,600/mo. client described an eviction on record &amp; criminal history as her barrier to housing. client provided consent for case manager to run her rental and criminal history to work on removing barriers to housing. client stated that she would like to include her boyfriend in her housing plans. CLs case manager goals include: obtaining permanent housing (apply for HUD vouchers via local entities &amp; research FC/other propeties), re-establishing medical and MH care &amp; obtaining a business degree to start her own business. client is open to stabilizing in Austin &amp; is willing to stabilize in San Antonio (as well to be near her daughter). client signed DACC policies &amp; CuC, IC &amp; DACC to Pedro ROI. client confirmed she has MAP and is agrees to complete an annual womans exam. client GIVEN 2 HEB CARDS &amp; WENDYS CARD. client will meet with case manager via Teams on 5/19 at 8AM.</td>\n",
       "      <td>[Client Assessment Conducted, Treatment Plan completed and signed]</td>\n",
       "      <td>[Client Assessment Conducted, Legal Issues, Treatment Plan completed and signed]</td>\n",
       "    </tr>\n",
       "  </tbody>\n",
       "</table>\n",
       "</div>"
      ],
      "text/plain": [
       "                                                                                                                                                                                                                                                                                                                                                                                                                                                                                                                                                                                                                                                                                                                                                                                                                                                                                                                                                                                                                                                                                                                                                                                                                                                                                                                                                                                                                                                                                                                                                                                                                                                                                                                                                                                                                                                                                                                                                                                                                                                                                                                                                                                                                                                                                                                       NOTE  \\\n",
       "0                                                                                                                                                                                                                                                                                                                                                                                                                                                                                                                                                                                                                                                                                                                                                                                                                                                                                                                                                                                                                                                                                                                                                                                                                                                                                               case manager met with the client at the Northbridge Shelter. case manager reviewed and obtained the clients signature on DACCs policies on privacy practices, grievances, and exiting case manager. Initial assessment and case manager plan of action completed and signed. client signed DACC mail agreement and HMIS ROI. client has social support through his niece - client signed ROI for his niece, Vickie, as she has access to his vital documents and SSA award letters. case manager assisted the client in completing EHV paperwork. client regularly sees a provider through the CuC David Powell clinic. client is agreeable to a Foundation Communities property, particularly one close to the David Powell clinic. client was provided a 7 DAY BUS PASS and an HEB GIFT CARD. case manager called the clients niece, Vickie, who reported Northbridge shelter staff should have copies of his vital documents. Vickie reported ability to obtain an updated award letter for the clients EHV application.   \n",
       "1  Met with client for intake assessment. client presented with appropriate hygiene, in a positive mood, was very animated-almost child-like, and throughout the assessment appeared to have some cognitive difficulties related to understanding information and questions. client reports that she has been experiencing homelessness for 8 years, however, is unable to remember where she was living prior to that. client reported that she normally sleeps outside with her husband, Jerry Johnson, by the I-35 bridge across from the jailhouse but sometimes stays at the Salvation Army, goes to Caritas for lunch, or goes to the Trinity Center for breakfast in the event she needs to be outreached. client states that she does not get SNAP or SSI and has no forms of income. It was unable to be determined if client has ever had employment. client states she was in special education and made it to 11th grade. client reports having no contact with her family because she cannot remember their phone numbers. She says that she does not have friends but has her husband and case manager. client states that she has past diagnosis of bipolar disorder and schizophrenia, but has not been connected to services or taking medication for a number of years due to not knowing how. client reports that she used to drink but no longer does, however, she smokes K2 regularly. client states that she has not smoked K2 in one week and wants to quit because she got in trouble at the Salvation Army. client presented case manager with her sober support sign off sheet and stated that she remembers that theres classes there. From case manager observations, it is unlikely that client will be able to successfully attend or benefit from AA/NA meetings at this time due to a lack of ability to understand. case manager told client that instead of AA/NA, partial CSR credit will be given for attending her appt at Integral Care. client is not aware of any health conditions aside from needing dental work and glasses. A DACC, Integral Care, and St.Davids ROI were signed and uploaded to client file. client was given A WENDYS GIFTCARD. An intake appt w/ Integral Care was scheduled for Monday 3/4 at 8AM off 2nd street, in which case manager will transport.      \n",
       "2                                                                                                                                                                                                                                                                                                                                                                                                                                                                                                                                                                                                                   client met with case manager at triage for about 1 hr. case manager conduct biopsychosocial and explained ICM services and expectations. client explained that she pays for hotels 3-4 days at a time and camps out in between. client disclosed MH & SA Hx: bipolar, PTSD, doc: narcotics. client currently in MAT with CuC off 2nd street. client was hesitant to speak further on MH care needs but stated \"I need to restart my meds\" by the end of meeting. client has a strong support system: Pedro (boyfriend), family in San Antonio, and reports close relationship with mother (who is a breast cancer survivor). client disclosed having 3 children, one of which is a minor (girl) living with her parents. client currently works for her fathers business and makes $2,600/mo. client described an eviction on record & criminal history as her barrier to housing. client provided consent for case manager to run her rental and criminal history to work on removing barriers to housing. client stated that she would like to include her boyfriend in her housing plans. CLs case manager goals include: obtaining permanent housing (apply for HUD vouchers via local entities & research FC/other propeties), re-establishing medical and MH care & obtaining a business degree to start her own business. client is open to stabilizing in Austin & is willing to stabilize in San Antonio (as well to be near her daughter). client signed DACC policies & CuC, IC & DACC to Pedro ROI. client confirmed she has MAP and is agrees to complete an annual womans exam. client GIVEN 2 HEB CARDS & WENDYS CARD. client will meet with case manager via Teams on 5/19 at 8AM.        \n",
       "\n",
       "                                                                           LABELS                                                                                                                                                                         ACTUALS  \n",
       "0                                                                              []  [Client Assessment Conducted, HMIS profile created/updated, Release of information forms signed for all appropriate vendors and agencies, Treatment Plan completed and signed]  \n",
       "1  [Release of information forms signed for all appropriate vendors and agencies]  [Client Assessment Conducted, HMIS profile created/updated, Release of information forms signed for all appropriate vendors and agencies, Treatment Plan completed and signed]  \n",
       "2              [Client Assessment Conducted, Treatment Plan completed and signed]                                                                                                [Client Assessment Conducted, Legal Issues, Treatment Plan completed and signed]  "
      ]
     },
     "metadata": {},
     "output_type": "display_data"
    }
   ],
   "source": [
    "run_tests(clf3, 3)"
   ]
  }
 ],
 "metadata": {
  "kernelspec": {
   "display_name": "mlvenv",
   "language": "python",
   "name": "python3"
  },
  "language_info": {
   "codemirror_mode": {
    "name": "ipython",
    "version": 3
   },
   "file_extension": ".py",
   "mimetype": "text/x-python",
   "name": "python",
   "nbconvert_exporter": "python",
   "pygments_lexer": "ipython3",
   "version": "3.10.4"
  },
  "orig_nbformat": 4
 },
 "nbformat": 4,
 "nbformat_minor": 2
}
